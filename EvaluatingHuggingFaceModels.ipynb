{
  "nbformat": 4,
  "nbformat_minor": 0,
  "metadata": {
    "colab": {
      "name": "HuggingFaceModels.ipynb",
      "provenance": [],
      "collapsed_sections": [],
      "authorship_tag": "ABX9TyNvsWA5+uULF2xdX9E4eRjg",
      "include_colab_link": true
    },
    "kernelspec": {
      "name": "python3",
      "display_name": "Python 3"
    },
    "language_info": {
      "name": "python"
    },
    "widgets": {
      "application/vnd.jupyter.widget-state+json": {
        "54c69860dcdc43b591635a15ccf920e0": {
          "model_module": "@jupyter-widgets/controls",
          "model_name": "HBoxModel",
          "state": {
            "_view_name": "HBoxView",
            "_dom_classes": [],
            "_model_name": "HBoxModel",
            "_view_module": "@jupyter-widgets/controls",
            "_model_module_version": "1.5.0",
            "_view_count": null,
            "_view_module_version": "1.5.0",
            "box_style": "",
            "layout": "IPY_MODEL_1badafb7f7e640618c9740d2965e4674",
            "_model_module": "@jupyter-widgets/controls",
            "children": [
              "IPY_MODEL_2c7660de951d45b0b76421a85924d695",
              "IPY_MODEL_4243e3db619d48848fbf285696f0abd8"
            ]
          }
        },
        "1badafb7f7e640618c9740d2965e4674": {
          "model_module": "@jupyter-widgets/base",
          "model_name": "LayoutModel",
          "state": {
            "_view_name": "LayoutView",
            "grid_template_rows": null,
            "right": null,
            "justify_content": null,
            "_view_module": "@jupyter-widgets/base",
            "overflow": null,
            "_model_module_version": "1.2.0",
            "_view_count": null,
            "flex_flow": null,
            "width": null,
            "min_width": null,
            "border": null,
            "align_items": null,
            "bottom": null,
            "_model_module": "@jupyter-widgets/base",
            "top": null,
            "grid_column": null,
            "overflow_y": null,
            "overflow_x": null,
            "grid_auto_flow": null,
            "grid_area": null,
            "grid_template_columns": null,
            "flex": null,
            "_model_name": "LayoutModel",
            "justify_items": null,
            "grid_row": null,
            "max_height": null,
            "align_content": null,
            "visibility": null,
            "align_self": null,
            "height": null,
            "min_height": null,
            "padding": null,
            "grid_auto_rows": null,
            "grid_gap": null,
            "max_width": null,
            "order": null,
            "_view_module_version": "1.2.0",
            "grid_template_areas": null,
            "object_position": null,
            "object_fit": null,
            "grid_auto_columns": null,
            "margin": null,
            "display": null,
            "left": null
          }
        },
        "2c7660de951d45b0b76421a85924d695": {
          "model_module": "@jupyter-widgets/controls",
          "model_name": "FloatProgressModel",
          "state": {
            "_view_name": "ProgressView",
            "style": "IPY_MODEL_52602ea083a7447e8df4d4b7cd17edfa",
            "_dom_classes": [],
            "description": "Downloading: 100%",
            "_model_name": "FloatProgressModel",
            "bar_style": "success",
            "max": 5069051,
            "_view_module": "@jupyter-widgets/controls",
            "_model_module_version": "1.5.0",
            "value": 5069051,
            "_view_count": null,
            "_view_module_version": "1.5.0",
            "orientation": "horizontal",
            "min": 0,
            "description_tooltip": null,
            "_model_module": "@jupyter-widgets/controls",
            "layout": "IPY_MODEL_04e5fb0f8c6144dc98a6221f5031c501"
          }
        },
        "4243e3db619d48848fbf285696f0abd8": {
          "model_module": "@jupyter-widgets/controls",
          "model_name": "HTMLModel",
          "state": {
            "_view_name": "HTMLView",
            "style": "IPY_MODEL_08e45f5e33724b679ebe8378b559970b",
            "_dom_classes": [],
            "description": "",
            "_model_name": "HTMLModel",
            "placeholder": "​",
            "_view_module": "@jupyter-widgets/controls",
            "_model_module_version": "1.5.0",
            "value": " 5.07M/5.07M [00:01&lt;00:00, 2.68MB/s]",
            "_view_count": null,
            "_view_module_version": "1.5.0",
            "description_tooltip": null,
            "_model_module": "@jupyter-widgets/controls",
            "layout": "IPY_MODEL_e833620fe28a47109fe9edf07924fd7f"
          }
        },
        "52602ea083a7447e8df4d4b7cd17edfa": {
          "model_module": "@jupyter-widgets/controls",
          "model_name": "ProgressStyleModel",
          "state": {
            "_view_name": "StyleView",
            "_model_name": "ProgressStyleModel",
            "description_width": "initial",
            "_view_module": "@jupyter-widgets/base",
            "_model_module_version": "1.5.0",
            "_view_count": null,
            "_view_module_version": "1.2.0",
            "bar_color": null,
            "_model_module": "@jupyter-widgets/controls"
          }
        },
        "04e5fb0f8c6144dc98a6221f5031c501": {
          "model_module": "@jupyter-widgets/base",
          "model_name": "LayoutModel",
          "state": {
            "_view_name": "LayoutView",
            "grid_template_rows": null,
            "right": null,
            "justify_content": null,
            "_view_module": "@jupyter-widgets/base",
            "overflow": null,
            "_model_module_version": "1.2.0",
            "_view_count": null,
            "flex_flow": null,
            "width": null,
            "min_width": null,
            "border": null,
            "align_items": null,
            "bottom": null,
            "_model_module": "@jupyter-widgets/base",
            "top": null,
            "grid_column": null,
            "overflow_y": null,
            "overflow_x": null,
            "grid_auto_flow": null,
            "grid_area": null,
            "grid_template_columns": null,
            "flex": null,
            "_model_name": "LayoutModel",
            "justify_items": null,
            "grid_row": null,
            "max_height": null,
            "align_content": null,
            "visibility": null,
            "align_self": null,
            "height": null,
            "min_height": null,
            "padding": null,
            "grid_auto_rows": null,
            "grid_gap": null,
            "max_width": null,
            "order": null,
            "_view_module_version": "1.2.0",
            "grid_template_areas": null,
            "object_position": null,
            "object_fit": null,
            "grid_auto_columns": null,
            "margin": null,
            "display": null,
            "left": null
          }
        },
        "08e45f5e33724b679ebe8378b559970b": {
          "model_module": "@jupyter-widgets/controls",
          "model_name": "DescriptionStyleModel",
          "state": {
            "_view_name": "StyleView",
            "_model_name": "DescriptionStyleModel",
            "description_width": "",
            "_view_module": "@jupyter-widgets/base",
            "_model_module_version": "1.5.0",
            "_view_count": null,
            "_view_module_version": "1.2.0",
            "_model_module": "@jupyter-widgets/controls"
          }
        },
        "e833620fe28a47109fe9edf07924fd7f": {
          "model_module": "@jupyter-widgets/base",
          "model_name": "LayoutModel",
          "state": {
            "_view_name": "LayoutView",
            "grid_template_rows": null,
            "right": null,
            "justify_content": null,
            "_view_module": "@jupyter-widgets/base",
            "overflow": null,
            "_model_module_version": "1.2.0",
            "_view_count": null,
            "flex_flow": null,
            "width": null,
            "min_width": null,
            "border": null,
            "align_items": null,
            "bottom": null,
            "_model_module": "@jupyter-widgets/base",
            "top": null,
            "grid_column": null,
            "overflow_y": null,
            "overflow_x": null,
            "grid_auto_flow": null,
            "grid_area": null,
            "grid_template_columns": null,
            "flex": null,
            "_model_name": "LayoutModel",
            "justify_items": null,
            "grid_row": null,
            "max_height": null,
            "align_content": null,
            "visibility": null,
            "align_self": null,
            "height": null,
            "min_height": null,
            "padding": null,
            "grid_auto_rows": null,
            "grid_gap": null,
            "max_width": null,
            "order": null,
            "_view_module_version": "1.2.0",
            "grid_template_areas": null,
            "object_position": null,
            "object_fit": null,
            "grid_auto_columns": null,
            "margin": null,
            "display": null,
            "left": null
          }
        },
        "89b4bd8c63904b81ad078661bf7c5e63": {
          "model_module": "@jupyter-widgets/controls",
          "model_name": "HBoxModel",
          "state": {
            "_view_name": "HBoxView",
            "_dom_classes": [],
            "_model_name": "HBoxModel",
            "_view_module": "@jupyter-widgets/controls",
            "_model_module_version": "1.5.0",
            "_view_count": null,
            "_view_module_version": "1.5.0",
            "box_style": "",
            "layout": "IPY_MODEL_c7c9d7e91f2e4ab5ba743f3d8da9eea1",
            "_model_module": "@jupyter-widgets/controls",
            "children": [
              "IPY_MODEL_e97dd9744fa24106a57c7530a834e3fa",
              "IPY_MODEL_12defa0e6d194c09bbd1d7b556f22c42"
            ]
          }
        },
        "c7c9d7e91f2e4ab5ba743f3d8da9eea1": {
          "model_module": "@jupyter-widgets/base",
          "model_name": "LayoutModel",
          "state": {
            "_view_name": "LayoutView",
            "grid_template_rows": null,
            "right": null,
            "justify_content": null,
            "_view_module": "@jupyter-widgets/base",
            "overflow": null,
            "_model_module_version": "1.2.0",
            "_view_count": null,
            "flex_flow": null,
            "width": null,
            "min_width": null,
            "border": null,
            "align_items": null,
            "bottom": null,
            "_model_module": "@jupyter-widgets/base",
            "top": null,
            "grid_column": null,
            "overflow_y": null,
            "overflow_x": null,
            "grid_auto_flow": null,
            "grid_area": null,
            "grid_template_columns": null,
            "flex": null,
            "_model_name": "LayoutModel",
            "justify_items": null,
            "grid_row": null,
            "max_height": null,
            "align_content": null,
            "visibility": null,
            "align_self": null,
            "height": null,
            "min_height": null,
            "padding": null,
            "grid_auto_rows": null,
            "grid_gap": null,
            "max_width": null,
            "order": null,
            "_view_module_version": "1.2.0",
            "grid_template_areas": null,
            "object_position": null,
            "object_fit": null,
            "grid_auto_columns": null,
            "margin": null,
            "display": null,
            "left": null
          }
        },
        "e97dd9744fa24106a57c7530a834e3fa": {
          "model_module": "@jupyter-widgets/controls",
          "model_name": "FloatProgressModel",
          "state": {
            "_view_name": "ProgressView",
            "style": "IPY_MODEL_f1fc202f99a74050a081e93cf1464c10",
            "_dom_classes": [],
            "description": "Downloading: 100%",
            "_model_name": "FloatProgressModel",
            "bar_style": "success",
            "max": 9096718,
            "_view_module": "@jupyter-widgets/controls",
            "_model_module_version": "1.5.0",
            "value": 9096718,
            "_view_count": null,
            "_view_module_version": "1.5.0",
            "orientation": "horizontal",
            "min": 0,
            "description_tooltip": null,
            "_model_module": "@jupyter-widgets/controls",
            "layout": "IPY_MODEL_631112535b90427092dadda59810e316"
          }
        },
        "12defa0e6d194c09bbd1d7b556f22c42": {
          "model_module": "@jupyter-widgets/controls",
          "model_name": "HTMLModel",
          "state": {
            "_view_name": "HTMLView",
            "style": "IPY_MODEL_dae42fba537f4f92b31a7574223538fd",
            "_dom_classes": [],
            "description": "",
            "_model_name": "HTMLModel",
            "placeholder": "​",
            "_view_module": "@jupyter-widgets/controls",
            "_model_module_version": "1.5.0",
            "value": " 9.10M/9.10M [00:02&lt;00:00, 4.30MB/s]",
            "_view_count": null,
            "_view_module_version": "1.5.0",
            "description_tooltip": null,
            "_model_module": "@jupyter-widgets/controls",
            "layout": "IPY_MODEL_960e47f055ce45eba7834406b5468389"
          }
        },
        "f1fc202f99a74050a081e93cf1464c10": {
          "model_module": "@jupyter-widgets/controls",
          "model_name": "ProgressStyleModel",
          "state": {
            "_view_name": "StyleView",
            "_model_name": "ProgressStyleModel",
            "description_width": "initial",
            "_view_module": "@jupyter-widgets/base",
            "_model_module_version": "1.5.0",
            "_view_count": null,
            "_view_module_version": "1.2.0",
            "bar_color": null,
            "_model_module": "@jupyter-widgets/controls"
          }
        },
        "631112535b90427092dadda59810e316": {
          "model_module": "@jupyter-widgets/base",
          "model_name": "LayoutModel",
          "state": {
            "_view_name": "LayoutView",
            "grid_template_rows": null,
            "right": null,
            "justify_content": null,
            "_view_module": "@jupyter-widgets/base",
            "overflow": null,
            "_model_module_version": "1.2.0",
            "_view_count": null,
            "flex_flow": null,
            "width": null,
            "min_width": null,
            "border": null,
            "align_items": null,
            "bottom": null,
            "_model_module": "@jupyter-widgets/base",
            "top": null,
            "grid_column": null,
            "overflow_y": null,
            "overflow_x": null,
            "grid_auto_flow": null,
            "grid_area": null,
            "grid_template_columns": null,
            "flex": null,
            "_model_name": "LayoutModel",
            "justify_items": null,
            "grid_row": null,
            "max_height": null,
            "align_content": null,
            "visibility": null,
            "align_self": null,
            "height": null,
            "min_height": null,
            "padding": null,
            "grid_auto_rows": null,
            "grid_gap": null,
            "max_width": null,
            "order": null,
            "_view_module_version": "1.2.0",
            "grid_template_areas": null,
            "object_position": null,
            "object_fit": null,
            "grid_auto_columns": null,
            "margin": null,
            "display": null,
            "left": null
          }
        },
        "dae42fba537f4f92b31a7574223538fd": {
          "model_module": "@jupyter-widgets/controls",
          "model_name": "DescriptionStyleModel",
          "state": {
            "_view_name": "StyleView",
            "_model_name": "DescriptionStyleModel",
            "description_width": "",
            "_view_module": "@jupyter-widgets/base",
            "_model_module_version": "1.5.0",
            "_view_count": null,
            "_view_module_version": "1.2.0",
            "_model_module": "@jupyter-widgets/controls"
          }
        },
        "960e47f055ce45eba7834406b5468389": {
          "model_module": "@jupyter-widgets/base",
          "model_name": "LayoutModel",
          "state": {
            "_view_name": "LayoutView",
            "grid_template_rows": null,
            "right": null,
            "justify_content": null,
            "_view_module": "@jupyter-widgets/base",
            "overflow": null,
            "_model_module_version": "1.2.0",
            "_view_count": null,
            "flex_flow": null,
            "width": null,
            "min_width": null,
            "border": null,
            "align_items": null,
            "bottom": null,
            "_model_module": "@jupyter-widgets/base",
            "top": null,
            "grid_column": null,
            "overflow_y": null,
            "overflow_x": null,
            "grid_auto_flow": null,
            "grid_area": null,
            "grid_template_columns": null,
            "flex": null,
            "_model_name": "LayoutModel",
            "justify_items": null,
            "grid_row": null,
            "max_height": null,
            "align_content": null,
            "visibility": null,
            "align_self": null,
            "height": null,
            "min_height": null,
            "padding": null,
            "grid_auto_rows": null,
            "grid_gap": null,
            "max_width": null,
            "order": null,
            "_view_module_version": "1.2.0",
            "grid_template_areas": null,
            "object_position": null,
            "object_fit": null,
            "grid_auto_columns": null,
            "margin": null,
            "display": null,
            "left": null
          }
        },
        "55aa01f68c5f4f56914f0c4f1572aa31": {
          "model_module": "@jupyter-widgets/controls",
          "model_name": "HBoxModel",
          "state": {
            "_view_name": "HBoxView",
            "_dom_classes": [],
            "_model_name": "HBoxModel",
            "_view_module": "@jupyter-widgets/controls",
            "_model_module_version": "1.5.0",
            "_view_count": null,
            "_view_module_version": "1.5.0",
            "box_style": "",
            "layout": "IPY_MODEL_2760a722503f493d89c329bc48036866",
            "_model_module": "@jupyter-widgets/controls",
            "children": [
              "IPY_MODEL_ca44d6d803194ca4a6275090e6833216",
              "IPY_MODEL_eeea786d09f04c2f9580f9b7df9edc3b"
            ]
          }
        },
        "2760a722503f493d89c329bc48036866": {
          "model_module": "@jupyter-widgets/base",
          "model_name": "LayoutModel",
          "state": {
            "_view_name": "LayoutView",
            "grid_template_rows": null,
            "right": null,
            "justify_content": null,
            "_view_module": "@jupyter-widgets/base",
            "overflow": null,
            "_model_module_version": "1.2.0",
            "_view_count": null,
            "flex_flow": null,
            "width": null,
            "min_width": null,
            "border": null,
            "align_items": null,
            "bottom": null,
            "_model_module": "@jupyter-widgets/base",
            "top": null,
            "grid_column": null,
            "overflow_y": null,
            "overflow_x": null,
            "grid_auto_flow": null,
            "grid_area": null,
            "grid_template_columns": null,
            "flex": null,
            "_model_name": "LayoutModel",
            "justify_items": null,
            "grid_row": null,
            "max_height": null,
            "align_content": null,
            "visibility": null,
            "align_self": null,
            "height": null,
            "min_height": null,
            "padding": null,
            "grid_auto_rows": null,
            "grid_gap": null,
            "max_width": null,
            "order": null,
            "_view_module_version": "1.2.0",
            "grid_template_areas": null,
            "object_position": null,
            "object_fit": null,
            "grid_auto_columns": null,
            "margin": null,
            "display": null,
            "left": null
          }
        },
        "ca44d6d803194ca4a6275090e6833216": {
          "model_module": "@jupyter-widgets/controls",
          "model_name": "FloatProgressModel",
          "state": {
            "_view_name": "ProgressView",
            "style": "IPY_MODEL_d4722ac8f8054c9dbbfa0bfaef1bc910",
            "_dom_classes": [],
            "description": "Downloading: 100%",
            "_model_name": "FloatProgressModel",
            "bar_style": "success",
            "max": 512,
            "_view_module": "@jupyter-widgets/controls",
            "_model_module_version": "1.5.0",
            "value": 512,
            "_view_count": null,
            "_view_module_version": "1.5.0",
            "orientation": "horizontal",
            "min": 0,
            "description_tooltip": null,
            "_model_module": "@jupyter-widgets/controls",
            "layout": "IPY_MODEL_830c097a6f174e06adac80f7f5152e76"
          }
        },
        "eeea786d09f04c2f9580f9b7df9edc3b": {
          "model_module": "@jupyter-widgets/controls",
          "model_name": "HTMLModel",
          "state": {
            "_view_name": "HTMLView",
            "style": "IPY_MODEL_57a2db95886d4d8d8944c0a72f689442",
            "_dom_classes": [],
            "description": "",
            "_model_name": "HTMLModel",
            "placeholder": "​",
            "_view_module": "@jupyter-widgets/controls",
            "_model_module_version": "1.5.0",
            "value": " 512/512 [00:00&lt;00:00, 883B/s]",
            "_view_count": null,
            "_view_module_version": "1.5.0",
            "description_tooltip": null,
            "_model_module": "@jupyter-widgets/controls",
            "layout": "IPY_MODEL_b239ff5e409f4eb9b06f8546efc88324"
          }
        },
        "d4722ac8f8054c9dbbfa0bfaef1bc910": {
          "model_module": "@jupyter-widgets/controls",
          "model_name": "ProgressStyleModel",
          "state": {
            "_view_name": "StyleView",
            "_model_name": "ProgressStyleModel",
            "description_width": "initial",
            "_view_module": "@jupyter-widgets/base",
            "_model_module_version": "1.5.0",
            "_view_count": null,
            "_view_module_version": "1.2.0",
            "bar_color": null,
            "_model_module": "@jupyter-widgets/controls"
          }
        },
        "830c097a6f174e06adac80f7f5152e76": {
          "model_module": "@jupyter-widgets/base",
          "model_name": "LayoutModel",
          "state": {
            "_view_name": "LayoutView",
            "grid_template_rows": null,
            "right": null,
            "justify_content": null,
            "_view_module": "@jupyter-widgets/base",
            "overflow": null,
            "_model_module_version": "1.2.0",
            "_view_count": null,
            "flex_flow": null,
            "width": null,
            "min_width": null,
            "border": null,
            "align_items": null,
            "bottom": null,
            "_model_module": "@jupyter-widgets/base",
            "top": null,
            "grid_column": null,
            "overflow_y": null,
            "overflow_x": null,
            "grid_auto_flow": null,
            "grid_area": null,
            "grid_template_columns": null,
            "flex": null,
            "_model_name": "LayoutModel",
            "justify_items": null,
            "grid_row": null,
            "max_height": null,
            "align_content": null,
            "visibility": null,
            "align_self": null,
            "height": null,
            "min_height": null,
            "padding": null,
            "grid_auto_rows": null,
            "grid_gap": null,
            "max_width": null,
            "order": null,
            "_view_module_version": "1.2.0",
            "grid_template_areas": null,
            "object_position": null,
            "object_fit": null,
            "grid_auto_columns": null,
            "margin": null,
            "display": null,
            "left": null
          }
        },
        "57a2db95886d4d8d8944c0a72f689442": {
          "model_module": "@jupyter-widgets/controls",
          "model_name": "DescriptionStyleModel",
          "state": {
            "_view_name": "StyleView",
            "_model_name": "DescriptionStyleModel",
            "description_width": "",
            "_view_module": "@jupyter-widgets/base",
            "_model_module_version": "1.5.0",
            "_view_count": null,
            "_view_module_version": "1.2.0",
            "_model_module": "@jupyter-widgets/controls"
          }
        },
        "b239ff5e409f4eb9b06f8546efc88324": {
          "model_module": "@jupyter-widgets/base",
          "model_name": "LayoutModel",
          "state": {
            "_view_name": "LayoutView",
            "grid_template_rows": null,
            "right": null,
            "justify_content": null,
            "_view_module": "@jupyter-widgets/base",
            "overflow": null,
            "_model_module_version": "1.2.0",
            "_view_count": null,
            "flex_flow": null,
            "width": null,
            "min_width": null,
            "border": null,
            "align_items": null,
            "bottom": null,
            "_model_module": "@jupyter-widgets/base",
            "top": null,
            "grid_column": null,
            "overflow_y": null,
            "overflow_x": null,
            "grid_auto_flow": null,
            "grid_area": null,
            "grid_template_columns": null,
            "flex": null,
            "_model_name": "LayoutModel",
            "justify_items": null,
            "grid_row": null,
            "max_height": null,
            "align_content": null,
            "visibility": null,
            "align_self": null,
            "height": null,
            "min_height": null,
            "padding": null,
            "grid_auto_rows": null,
            "grid_gap": null,
            "max_width": null,
            "order": null,
            "_view_module_version": "1.2.0",
            "grid_template_areas": null,
            "object_position": null,
            "object_fit": null,
            "grid_auto_columns": null,
            "margin": null,
            "display": null,
            "left": null
          }
        },
        "dc156d2719bd4d6f9f914f2a2acd9866": {
          "model_module": "@jupyter-widgets/controls",
          "model_name": "HBoxModel",
          "state": {
            "_view_name": "HBoxView",
            "_dom_classes": [],
            "_model_name": "HBoxModel",
            "_view_module": "@jupyter-widgets/controls",
            "_model_module_version": "1.5.0",
            "_view_count": null,
            "_view_module_version": "1.5.0",
            "box_style": "",
            "layout": "IPY_MODEL_61b72ada7bc64b62b38211eb9474236a",
            "_model_module": "@jupyter-widgets/controls",
            "children": [
              "IPY_MODEL_5b517717459640719f68b7bbd3afe12c",
              "IPY_MODEL_39fc8405fe434267a01f360e781a7034"
            ]
          }
        },
        "61b72ada7bc64b62b38211eb9474236a": {
          "model_module": "@jupyter-widgets/base",
          "model_name": "LayoutModel",
          "state": {
            "_view_name": "LayoutView",
            "grid_template_rows": null,
            "right": null,
            "justify_content": null,
            "_view_module": "@jupyter-widgets/base",
            "overflow": null,
            "_model_module_version": "1.2.0",
            "_view_count": null,
            "flex_flow": null,
            "width": null,
            "min_width": null,
            "border": null,
            "align_items": null,
            "bottom": null,
            "_model_module": "@jupyter-widgets/base",
            "top": null,
            "grid_column": null,
            "overflow_y": null,
            "overflow_x": null,
            "grid_auto_flow": null,
            "grid_area": null,
            "grid_template_columns": null,
            "flex": null,
            "_model_name": "LayoutModel",
            "justify_items": null,
            "grid_row": null,
            "max_height": null,
            "align_content": null,
            "visibility": null,
            "align_self": null,
            "height": null,
            "min_height": null,
            "padding": null,
            "grid_auto_rows": null,
            "grid_gap": null,
            "max_width": null,
            "order": null,
            "_view_module_version": "1.2.0",
            "grid_template_areas": null,
            "object_position": null,
            "object_fit": null,
            "grid_auto_columns": null,
            "margin": null,
            "display": null,
            "left": null
          }
        },
        "5b517717459640719f68b7bbd3afe12c": {
          "model_module": "@jupyter-widgets/controls",
          "model_name": "FloatProgressModel",
          "state": {
            "_view_name": "ProgressView",
            "style": "IPY_MODEL_218c1e99901c42ef9f5e0fab824e2289",
            "_dom_classes": [],
            "description": "Downloading: 100%",
            "_model_name": "FloatProgressModel",
            "bar_style": "success",
            "max": 1115590446,
            "_view_module": "@jupyter-widgets/controls",
            "_model_module_version": "1.5.0",
            "value": 1115590446,
            "_view_count": null,
            "_view_module_version": "1.5.0",
            "orientation": "horizontal",
            "min": 0,
            "description_tooltip": null,
            "_model_module": "@jupyter-widgets/controls",
            "layout": "IPY_MODEL_470808a53fde470dacd133461c845e75"
          }
        },
        "39fc8405fe434267a01f360e781a7034": {
          "model_module": "@jupyter-widgets/controls",
          "model_name": "HTMLModel",
          "state": {
            "_view_name": "HTMLView",
            "style": "IPY_MODEL_ddf4ba51cb3c4eb3990728d2cd5d96d4",
            "_dom_classes": [],
            "description": "",
            "_model_name": "HTMLModel",
            "placeholder": "​",
            "_view_module": "@jupyter-widgets/controls",
            "_model_module_version": "1.5.0",
            "value": " 1.12G/1.12G [00:24&lt;00:00, 45.9MB/s]",
            "_view_count": null,
            "_view_module_version": "1.5.0",
            "description_tooltip": null,
            "_model_module": "@jupyter-widgets/controls",
            "layout": "IPY_MODEL_bc794066869b44ceb1e02fdf870cb78b"
          }
        },
        "218c1e99901c42ef9f5e0fab824e2289": {
          "model_module": "@jupyter-widgets/controls",
          "model_name": "ProgressStyleModel",
          "state": {
            "_view_name": "StyleView",
            "_model_name": "ProgressStyleModel",
            "description_width": "initial",
            "_view_module": "@jupyter-widgets/base",
            "_model_module_version": "1.5.0",
            "_view_count": null,
            "_view_module_version": "1.2.0",
            "bar_color": null,
            "_model_module": "@jupyter-widgets/controls"
          }
        },
        "470808a53fde470dacd133461c845e75": {
          "model_module": "@jupyter-widgets/base",
          "model_name": "LayoutModel",
          "state": {
            "_view_name": "LayoutView",
            "grid_template_rows": null,
            "right": null,
            "justify_content": null,
            "_view_module": "@jupyter-widgets/base",
            "overflow": null,
            "_model_module_version": "1.2.0",
            "_view_count": null,
            "flex_flow": null,
            "width": null,
            "min_width": null,
            "border": null,
            "align_items": null,
            "bottom": null,
            "_model_module": "@jupyter-widgets/base",
            "top": null,
            "grid_column": null,
            "overflow_y": null,
            "overflow_x": null,
            "grid_auto_flow": null,
            "grid_area": null,
            "grid_template_columns": null,
            "flex": null,
            "_model_name": "LayoutModel",
            "justify_items": null,
            "grid_row": null,
            "max_height": null,
            "align_content": null,
            "visibility": null,
            "align_self": null,
            "height": null,
            "min_height": null,
            "padding": null,
            "grid_auto_rows": null,
            "grid_gap": null,
            "max_width": null,
            "order": null,
            "_view_module_version": "1.2.0",
            "grid_template_areas": null,
            "object_position": null,
            "object_fit": null,
            "grid_auto_columns": null,
            "margin": null,
            "display": null,
            "left": null
          }
        },
        "ddf4ba51cb3c4eb3990728d2cd5d96d4": {
          "model_module": "@jupyter-widgets/controls",
          "model_name": "DescriptionStyleModel",
          "state": {
            "_view_name": "StyleView",
            "_model_name": "DescriptionStyleModel",
            "description_width": "",
            "_view_module": "@jupyter-widgets/base",
            "_model_module_version": "1.5.0",
            "_view_count": null,
            "_view_module_version": "1.2.0",
            "_model_module": "@jupyter-widgets/controls"
          }
        },
        "bc794066869b44ceb1e02fdf870cb78b": {
          "model_module": "@jupyter-widgets/base",
          "model_name": "LayoutModel",
          "state": {
            "_view_name": "LayoutView",
            "grid_template_rows": null,
            "right": null,
            "justify_content": null,
            "_view_module": "@jupyter-widgets/base",
            "overflow": null,
            "_model_module_version": "1.2.0",
            "_view_count": null,
            "flex_flow": null,
            "width": null,
            "min_width": null,
            "border": null,
            "align_items": null,
            "bottom": null,
            "_model_module": "@jupyter-widgets/base",
            "top": null,
            "grid_column": null,
            "overflow_y": null,
            "overflow_x": null,
            "grid_auto_flow": null,
            "grid_area": null,
            "grid_template_columns": null,
            "flex": null,
            "_model_name": "LayoutModel",
            "justify_items": null,
            "grid_row": null,
            "max_height": null,
            "align_content": null,
            "visibility": null,
            "align_self": null,
            "height": null,
            "min_height": null,
            "padding": null,
            "grid_auto_rows": null,
            "grid_gap": null,
            "max_width": null,
            "order": null,
            "_view_module_version": "1.2.0",
            "grid_template_areas": null,
            "object_position": null,
            "object_fit": null,
            "grid_auto_columns": null,
            "margin": null,
            "display": null,
            "left": null
          }
        }
      }
    },
    "accelerator": "GPU"
  },
  "cells": [
    {
      "cell_type": "markdown",
      "metadata": {
        "id": "view-in-github",
        "colab_type": "text"
      },
      "source": [
        "<a href=\"https://colab.research.google.com/github/fatemeh-azadi/CLE-WordAlignments/blob/main/EvaluatingHuggingFaceModels.ipynb\" target=\"_parent\"><img src=\"https://colab.research.google.com/assets/colab-badge.svg\" alt=\"Open In Colab\"/></a>"
      ]
    },
    {
      "cell_type": "code",
      "metadata": {
        "id": "vn2vo3Z640X3",
        "colab": {
          "base_uri": "https://localhost:8080/"
        },
        "outputId": "bf5ff75b-2c0f-4b30-9c34-9fca46067d24"
      },
      "source": [
        "%%bash\n",
        "pip install transformers\n",
        "pip install sentencepiece\n"
      ],
      "execution_count": 1,
      "outputs": [
        {
          "output_type": "stream",
          "text": [
            "Collecting transformers\n",
            "  Downloading https://files.pythonhosted.org/packages/fd/1a/41c644c963249fd7f3836d926afa1e3f1cc234a1c40d80c5f03ad8f6f1b2/transformers-4.8.2-py3-none-any.whl (2.5MB)\n",
            "Requirement already satisfied: packaging in /usr/local/lib/python3.7/dist-packages (from transformers) (20.9)\n",
            "Requirement already satisfied: numpy>=1.17 in /usr/local/lib/python3.7/dist-packages (from transformers) (1.19.5)\n",
            "Requirement already satisfied: importlib-metadata; python_version < \"3.8\" in /usr/local/lib/python3.7/dist-packages (from transformers) (4.5.0)\n",
            "Requirement already satisfied: requests in /usr/local/lib/python3.7/dist-packages (from transformers) (2.23.0)\n",
            "Collecting huggingface-hub==0.0.12\n",
            "  Downloading https://files.pythonhosted.org/packages/2f/ee/97e253668fda9b17e968b3f97b2f8e53aa0127e8807d24a547687423fe0b/huggingface_hub-0.0.12-py3-none-any.whl\n",
            "Collecting tokenizers<0.11,>=0.10.1\n",
            "  Downloading https://files.pythonhosted.org/packages/d4/e2/df3543e8ffdab68f5acc73f613de9c2b155ac47f162e725dcac87c521c11/tokenizers-0.10.3-cp37-cp37m-manylinux_2_5_x86_64.manylinux1_x86_64.manylinux_2_12_x86_64.manylinux2010_x86_64.whl (3.3MB)\n",
            "Requirement already satisfied: regex!=2019.12.17 in /usr/local/lib/python3.7/dist-packages (from transformers) (2019.12.20)\n",
            "Collecting sacremoses\n",
            "  Downloading https://files.pythonhosted.org/packages/75/ee/67241dc87f266093c533a2d4d3d69438e57d7a90abb216fa076e7d475d4a/sacremoses-0.0.45-py3-none-any.whl (895kB)\n",
            "Requirement already satisfied: tqdm>=4.27 in /usr/local/lib/python3.7/dist-packages (from transformers) (4.41.1)\n",
            "Requirement already satisfied: pyyaml in /usr/local/lib/python3.7/dist-packages (from transformers) (3.13)\n",
            "Requirement already satisfied: filelock in /usr/local/lib/python3.7/dist-packages (from transformers) (3.0.12)\n",
            "Requirement already satisfied: pyparsing>=2.0.2 in /usr/local/lib/python3.7/dist-packages (from packaging->transformers) (2.4.7)\n",
            "Requirement already satisfied: typing-extensions>=3.6.4; python_version < \"3.8\" in /usr/local/lib/python3.7/dist-packages (from importlib-metadata; python_version < \"3.8\"->transformers) (3.7.4.3)\n",
            "Requirement already satisfied: zipp>=0.5 in /usr/local/lib/python3.7/dist-packages (from importlib-metadata; python_version < \"3.8\"->transformers) (3.4.1)\n",
            "Requirement already satisfied: urllib3!=1.25.0,!=1.25.1,<1.26,>=1.21.1 in /usr/local/lib/python3.7/dist-packages (from requests->transformers) (1.24.3)\n",
            "Requirement already satisfied: idna<3,>=2.5 in /usr/local/lib/python3.7/dist-packages (from requests->transformers) (2.10)\n",
            "Requirement already satisfied: chardet<4,>=3.0.2 in /usr/local/lib/python3.7/dist-packages (from requests->transformers) (3.0.4)\n",
            "Requirement already satisfied: certifi>=2017.4.17 in /usr/local/lib/python3.7/dist-packages (from requests->transformers) (2021.5.30)\n",
            "Requirement already satisfied: joblib in /usr/local/lib/python3.7/dist-packages (from sacremoses->transformers) (1.0.1)\n",
            "Requirement already satisfied: click in /usr/local/lib/python3.7/dist-packages (from sacremoses->transformers) (7.1.2)\n",
            "Requirement already satisfied: six in /usr/local/lib/python3.7/dist-packages (from sacremoses->transformers) (1.15.0)\n",
            "Installing collected packages: huggingface-hub, tokenizers, sacremoses, transformers\n",
            "Successfully installed huggingface-hub-0.0.12 sacremoses-0.0.45 tokenizers-0.10.3 transformers-4.8.2\n",
            "Collecting sentencepiece\n",
            "  Downloading https://files.pythonhosted.org/packages/ac/aa/1437691b0c7c83086ebb79ce2da16e00bef024f24fec2a5161c35476f499/sentencepiece-0.1.96-cp37-cp37m-manylinux_2_17_x86_64.manylinux2014_x86_64.whl (1.2MB)\n",
            "Installing collected packages: sentencepiece\n",
            "Successfully installed sentencepiece-0.1.96\n"
          ],
          "name": "stdout"
        }
      ]
    },
    {
      "cell_type": "code",
      "metadata": {
        "id": "d1h_zd107-67"
      },
      "source": [
        "import torch\n",
        "import sys\n",
        "import numpy as np\n",
        "from transformers import XLMRobertaTokenizer, XLMRobertaModel\n",
        "from transformers import BertTokenizer, BertModel\n",
        "from transformers import XLMTokenizer, XLMModel\n",
        "\n",
        "SRC = \"en\"\n",
        "TRG = \"fa\"\n"
      ],
      "execution_count": 2,
      "outputs": []
    },
    {
      "cell_type": "code",
      "metadata": {
        "id": "pIYvc4dO45NE"
      },
      "source": [
        "#### compute the cosine similarity between two vectors\n",
        "def dist(w1, w2):\n",
        "  return (np.dot(w1, w2) / (np.sqrt(np.dot(w1, w1)) * np.sqrt(np.dot(w2, w2))))\n",
        "\n",
        "### compute the word aligments between two sentences \n",
        "## V1 and V2 are embedding matrices of the source and target sentences\n",
        "def getAlignment(V1, V2):\n",
        "  t1 = len(V1)\n",
        "  t2 = len(V2)\n",
        "  alignment = \"\"\n",
        "  for i in range(0, t1):\n",
        "    maxd = -1\n",
        "    maxidx = -1\n",
        "    for j in range(0, t2):\n",
        "      d = dist(V1[i], V2[j])\n",
        "      if(d > maxd):\n",
        "        maxd = d\n",
        "        maxidx = j\n",
        "    alignment += \"%d-%d \"%(i, maxidx)\n",
        "  return alignment"
      ],
      "execution_count": 3,
      "outputs": []
    },
    {
      "cell_type": "code",
      "metadata": {
        "id": "C3ZaFVZw5YAp"
      },
      "source": [
        "### computeAlignments() compute the source 2 target and target 2 source alignments \n",
        "### between the source and target file with respect to the modelType\n",
        "## - srcFile: source file address\n",
        "## - trgFile: target file address \n",
        "## - alignFile: outputs prefix address (the final alignments will be saved in alignFile.S2T.modelType and alignFile.T2S.modelType)\n",
        "## - modelType: could be one of XLMR-Base/XLMR-Large/MBERT/XLM100/XLM15\n",
        "###\n",
        "def computeAlignments(srcFile, trgFile, alignFile, modelType):\n",
        " \n",
        "  if (modelType == \"XLMR-Base\"):\n",
        "    tokenizer = XLMRobertaTokenizer.from_pretrained('xlm-roberta-base')\n",
        "    model = XLMRobertaModel.from_pretrained('xlm-roberta-base')\n",
        "  elif (modelType == \"XLMR-Large\"):\n",
        "    tokenizer = XLMRobertaTokenizer.from_pretrained('xlm-roberta-large')\n",
        "    model = XLMRobertaModel.from_pretrained('xlm-roberta-large')\n",
        "  elif (modelType == \"MBERT\"):\n",
        "    tokenizer = BertTokenizer.from_pretrained('bert-base-multilingual-cased')\n",
        "    model = BertModel.from_pretrained('bert-base-multilingual-cased')\n",
        "  elif (modelType == \"XLM100\"):\n",
        "    tokenizer = XLMTokenizer.from_pretrained('xlm-mlm-100-1280')\n",
        "    model = XLMModel.from_pretrained('xlm-mlm-100-1280')\n",
        "  elif (modelType == \"XLM15\"):\n",
        "    tokenizer = XLMTokenizer.from_pretrained('xlm-mlm-tlm-xnli15-1024')\n",
        "    model = XLMModel.from_pretrained('xlm-mlm-tlm-xnli15-1024')\n",
        "    language_id_src = tokenizer.lang2id[SRC]\n",
        "    language_id_trg = tokenizer.lang2id[TGT]\n",
        "  else:\n",
        "    print(\"Model Type is not valid!\")\n",
        "    return\n",
        "\n",
        "  inSrc = open(srcFile, \"r\")\n",
        "  inTrg = open(trgFile, \"r\")\n",
        "  S2T_AlignFile = open(alignFile + \".S2T.\" + modelType, \"w\")\n",
        "  T2S_AlignFile = open(alignFile + \".T2S.\" + modelType, \"w\")\n",
        "  srcBPE = open(srcFile + \".bpe.\" + modelType, \"w\")\n",
        "  trgBPE = open(trgFile + \".bpe.\" + modelType, \"w\")\n",
        "\n",
        "  for srcLine, trgLine in zip(inSrc, inTrg):\n",
        "    src_input = tokenizer(srcLine.strip(), return_tensors=\"pt\")\n",
        "    src_bpe = [tokenizer._convert_id_to_token(i) for i in src_input.input_ids[0].tolist()]\n",
        "    if(modelType == \"XLM15\"):\n",
        "        langs = torch.tensor([language_id_src]* src_input.input_ids.shape[1])\n",
        "        langs = langs.view(1, -1)\n",
        "        src_output = model(**src_input, langs=langs)\n",
        "    else:\n",
        "        src_output = model(**src_input)\n",
        "    src_embedding = src_output.last_hidden_state[0].detach().numpy()\n",
        "\n",
        "    trg_input = tokenizer(trgLine.strip(), return_tensors=\"pt\")\n",
        "    trg_bpe = [tokenizer._convert_id_to_token(i) for i in trg_input.input_ids[0].tolist()]\n",
        "    if(modelType == \"XLM15\"):\n",
        "        langs = torch.tensor([language_id_trg] * trg_input.input_ids.shape[1])\n",
        "        langs = langs.view(1, -1)\n",
        "        trg_output = model(**trg_input, langs=langs)\n",
        "    else:\n",
        "        trg_output = model(**trg_input)\n",
        "    trg_embedding = trg_output.last_hidden_state[0].detach().numpy()\n",
        "\n",
        "    srcBPE.write(' '.join(src_bpe[1:-1]))\n",
        "    srcBPE.write(\"\\n\")\n",
        "    trgBPE.write(' '.join(trg_bpe[1:-1]))\n",
        "    trgBPE.write(\"\\n\")\n",
        "\n",
        "    alignS2T = getAlignment(src_embedding[1:-1], trg_embedding[1:-1])\n",
        "    alignT2S = getAlignment(trg_embedding[1:-1], src_embedding[1:-1])\n",
        "    S2T_AlignFile.write(alignS2T + \"\\n\")\n",
        "    T2S_AlignFile.write(alignT2S + \"\\n\")\n",
        "\n",
        "  srcBPE.close()\n",
        "  trgBPE.close()\n",
        "  S2T_AlignFile.close()\n",
        "  T2S_AlignFile.close()\n"
      ],
      "execution_count": 4,
      "outputs": []
    },
    {
      "cell_type": "code",
      "metadata": {
        "id": "r8_vlIU87J60"
      },
      "source": [
        "### change the format of the alignment file to giza format\n",
        "### in order to give it to symal (symmetrizing tool in moses)\n",
        "## - srcFile: source file address\n",
        "## - trgFile: target file address \n",
        "## - alignFile: alignment file address \n",
        "## - the results will be saved in alignFile.giza-format\n",
        "###\n",
        "def convertToGizaFormat(srcFile, trgFile, alignFile):\n",
        "  k = 1\n",
        "  inSrc = open(srcFile, \"r\")\n",
        "  inTrg = open(trgFile, \"r\")\n",
        "  inAlign = open(alignFile, \"r\")\n",
        "  outFile = open(alignFile + \".giza-format\", \"w\")\n",
        "\n",
        "  for lineSrc, lineTrg, lineAlign in zip(inSrc, inTrg, inAlign):\n",
        "    outFile.write(\"#\\n\")\n",
        "    outFile.write(lineSrc)\n",
        "\n",
        "    lenSrc = len(lineSrc.strip().split())\n",
        "    lineTrg = lineTrg.strip().split()\n",
        "    lenTrg = len(lineTrg)\n",
        "\n",
        "    lineAlign = lineAlign.strip().split()\n",
        "    alignmentList = []\n",
        "    mark = [0]*lenSrc\n",
        "    ln = 0\n",
        "    for x in lineTrg:\n",
        "      alignmentList.append([])\n",
        "      ln += 1\n",
        "    for a in lineAlign:\n",
        "      src, trg = a.split('-')\n",
        "      src = int(src)\n",
        "      trg = int(trg)\n",
        "      if(trg >= len(alignmentList)):\n",
        "        print(k)\n",
        "        print(src, trg)\n",
        "      alignmentList[trg].append(src)\n",
        "      mark[src] = 1\n",
        "    k += 1\n",
        "    outFile.write(\"NULL ({\")\n",
        "    for i in range(lenSrc):\n",
        "      if(mark[i] == 0):\n",
        "        outFile.write(\" \" + str(i+1))\n",
        "    outFile.write(\" })\")\n",
        "    ln = 0\n",
        "    for w in lineTrg:\n",
        "      outFile.write(\" \" + w + \" ({\")\n",
        "      for x in alignmentList[ln]:\n",
        "        outFile.write(\" \" + str(x+1))\n",
        "      outFile.write(\" })\")\n",
        "      ln += 1\n",
        "    outFile.write(\"\\n\")\n",
        "  outFile.close()"
      ],
      "execution_count": 5,
      "outputs": []
    },
    {
      "cell_type": "code",
      "metadata": {
        "id": "-J7qzUbU7hUx"
      },
      "source": [
        "### convert the subword level alignments to word level\n",
        "## - srcFile: source file address\n",
        "## - trgFile: target file address \n",
        "## - alignFile: the bidirectional alignments file address after symmetrizing\n",
        "## - splitChar: the character used for subword tokenization in srcFile and trgFile \n",
        "### depends on the model's tokenizer (it could be #/@/_)\n",
        "## - one: 1 if the alignFile indexes are 1-based and 0 otherwise\n",
        "## the word level alignments results will be saved in alignFile.final-alignment\n",
        "###\n",
        "def convertToWordLevel(srcFile, trgFile, alignFile, splitChar, one = False):\n",
        "\n",
        "  inSrc = open(srcFile, \"r\")\n",
        "  inTrg = open(trgFile, \"r\")\n",
        "  inAlign = open(alignFile, \"r\")\n",
        "  outFile = open(alignFile + \".final-alignment\", \"w\")\n",
        "  cnt = 0\n",
        "  for lineAlign, lineSrc, lineTrg in zip(inAlign, inSrc, inTrg):\n",
        "    lineAlign = lineAlign.strip().split()\n",
        "    lineSrc = lineSrc.strip().split()\n",
        "    lineTrg = lineTrg.strip().split()\n",
        "    aligns2 = \"\"\n",
        "    srcIdx = []\n",
        "    trgIdx = []\n",
        "    cnt += 1\n",
        "    if(splitChar == \"@\"):\n",
        "        num = 1\n",
        "    else:\n",
        "        num = 0\n",
        "    for w in lineSrc:\n",
        "        if (splitChar == \"@\"):\n",
        "           srcIdx.append(num)\n",
        "           if(not w.endswith(\"@@\")):\n",
        "               num += 1\n",
        "        elif (splitChar == \"#\"):\n",
        "            if(not w.startswith(\"##\")):\n",
        "                num += 1\n",
        "            srcIdx.append(num)\n",
        "        else:\n",
        "            if (w.startswith(\"▁\")):\n",
        "                num += 1\n",
        "            srcIdx.append(num)\n",
        "    if(splitChar == \"@\"):\n",
        "        num = 1\n",
        "    else:\n",
        "        num = 0\n",
        "    for w in lineTrg:\n",
        "        if(splitChar == \"@\"):\n",
        "            trgIdx.append(num)\n",
        "            if(not w.endswith(\"@@\")):\n",
        "                num += 1\n",
        "        elif (splitChar == \"#\"):\n",
        "            if(not w.startswith(\"##\")):\n",
        "                num += 1\n",
        "            trgIdx.append(num)\n",
        "        else:\n",
        "          if (w.startswith(\"▁\")):\n",
        "                num += 1\n",
        "          trgIdx.append(num)\n",
        "    alignmentsList = []\n",
        "    for a in lineAlign:\n",
        "        [s, t] = a.split(\"-\")\n",
        "        if(one):\n",
        "          s = int(s) - 1\n",
        "          t = int(t) - 1\n",
        "        if(int(s) >= len(srcIdx) or int(t) >= len(trgIdx)):\n",
        "          print(cnt)\n",
        "          print(s,t)\n",
        "        a = \"%s-%s\"%(srcIdx[int(s)], trgIdx[int(t)])\n",
        "        if(not a in alignmentsList):\n",
        "                alignmentsList.append(a)\n",
        "    outFile.write(\" \".join(alignmentsList) + \"\\n\")\n",
        "  outFile.close()\n"
      ],
      "execution_count": 6,
      "outputs": []
    },
    {
      "cell_type": "code",
      "metadata": {
        "id": "qrMrYgsD8wtu"
      },
      "source": [
        "### model tokenizer do some preprocesses in addition to bpe that may split some words \n",
        "## e.g. the zero width spaces in farsi were replaced by spaces\n",
        "## this function will get the reference file and the tokenizers output file after concatenating bpe tokens\n",
        "## and returned the tokenized file with '##' before some words that should be concatenated \n",
        "## to the previous word with respect to the reference file\n",
        "## inputFile: test file address after removing zero width spaces\n",
        "## bpeFile: bpe output address after concatenating bpe tokens\n",
        "###\n",
        "def getTokenizedInput(inputFile, bpeFile, outputFile):\n",
        "  inMain = open(inputFile, \"r\", encoding='utf-8')\n",
        "  inBPE = open(bpeFile, \"r\", encoding='utf-8')\n",
        "  outFile = open(outputFile, \"w\")\n",
        "  cnt = 0\n",
        "  for line1, line2 in zip(inMain, inBPE):\n",
        "    line1 = line1.strip()\n",
        "    line2 = line2.strip()\n",
        "    line1 = line1.split()\n",
        "    line2 = line2.split()\n",
        "    n1 = 0\n",
        "    n2 = 0\n",
        "    w2 = \"\"\n",
        "    cnt += 1\n",
        "    for w1 in line1:\n",
        "        w2 = \"\"\n",
        "        while (len(w2) != len(w1) and n2 < len(line2)):\n",
        "          w2 += line2[n2]\n",
        "          n2 += 1\n",
        "          if (w2 == \"[UNK]\"):\n",
        "            break\n",
        "        if (len(w1) == len(w2) or w2 == \"[UNK]\"):\n",
        "          outFile.write(line2[n1] + \" \")\n",
        "          n1 += 1\n",
        "          while (n1 < n2):\n",
        "            outFile.write(\"##\" + line2[n1] + \" \")\n",
        "            n1 += 1\n",
        "        else:\n",
        "          print(cnt, w1)\n",
        "          print(w2)\n",
        "          return\n",
        "    outFile.write(\"\\n\")\n",
        "  outFile.close()"
      ],
      "execution_count": 7,
      "outputs": []
    },
    {
      "cell_type": "code",
      "metadata": {
        "colab": {
          "base_uri": "https://localhost:8080/"
        },
        "id": "p3E_rROs7iIi",
        "outputId": "1934f2fa-d5bf-492a-df25-acc9eeda9219"
      },
      "source": [
        "## downloading aer.py for computing AER and symal for symmetrizing alignments\n",
        "!wget https://raw.githubusercontent.com/lilt/alignment-scripts/master/scripts/aer.py\n",
        "!git clone https://github.com/moses-smt/mosesdecoder.git\n",
        "%cd mosesdecoder/symal\n",
        "!b2\n",
        "%cp bin/gcc-7/release/link-static/threading-multi/symal ../bin\n",
        "%cd ../.."
      ],
      "execution_count": 8,
      "outputs": [
        {
          "output_type": "stream",
          "text": [
            "--2021-07-07 18:02:29--  https://raw.githubusercontent.com/lilt/alignment-scripts/master/scripts/aer.py\n",
            "Resolving raw.githubusercontent.com (raw.githubusercontent.com)... 185.199.108.133, 185.199.109.133, 185.199.110.133, ...\n",
            "Connecting to raw.githubusercontent.com (raw.githubusercontent.com)|185.199.108.133|:443... connected.\n",
            "HTTP request sent, awaiting response... 200 OK\n",
            "Length: 8848 (8.6K) [text/plain]\n",
            "Saving to: ‘aer.py’\n",
            "\n",
            "\raer.py                0%[                    ]       0  --.-KB/s               \raer.py              100%[===================>]   8.64K  --.-KB/s    in 0s      \n",
            "\n",
            "2021-07-07 18:02:29 (106 MB/s) - ‘aer.py’ saved [8848/8848]\n",
            "\n",
            "Cloning into 'mosesdecoder'...\n",
            "remote: Enumerating objects: 148070, done.\u001b[K\n",
            "remote: Counting objects: 100% (498/498), done.\u001b[K\n",
            "remote: Compressing objects: 100% (206/206), done.\u001b[K\n",
            "remote: Total 148070 (delta 315), reused 433 (delta 289), pack-reused 147572\u001b[K\n",
            "Receiving objects: 100% (148070/148070), 129.86 MiB | 22.12 MiB/s, done.\n",
            "Resolving deltas: 100% (114341/114341), done.\n",
            "/content/mosesdecoder/symal\n",
            "Tip: install tcmalloc for faster threading.  See BUILD-INSTRUCTIONS.txt for more information.\n",
            "warning: No toolsets are configured.\n",
            "warning: Configuring default toolset \"gcc\".\n",
            "warning: If the default is wrong, your build may not work correctly.\n",
            "warning: Use the \"toolset=xxxxx\" option to override our guess.\n",
            "warning: For more configuration options, please consult\n",
            "warning: http://boost.org/boost-build2/doc/html/bbv2/advanced/configuration.html\n",
            "Performing configuration checks\n",
            "\n",
            "    - Static Boost             : yes\n",
            "    - Shared Boost             : yes\n",
            "...found 29 targets...\n",
            "...updating 8 targets...\n",
            "common.mkdir bin\n",
            "common.mkdir bin/gcc-7\n",
            "common.mkdir bin/gcc-7/release\n",
            "common.mkdir bin/gcc-7/release/link-static\n",
            "common.mkdir bin/gcc-7/release/link-static/threading-multi\n",
            "gcc.compile.c++ bin/gcc-7/release/link-static/threading-multi/symal.o\n",
            "gcc.compile.c bin/gcc-7/release/link-static/threading-multi/cmd.o\n",
            "gcc.link bin/gcc-7/release/link-static/threading-multi/symal\n",
            "...updated 8 targets...\n",
            "SUCCESS\n",
            "/content\n"
          ],
          "name": "stdout"
        }
      ]
    },
    {
      "cell_type": "code",
      "metadata": {
        "id": "8bZfLdbq7pJh"
      },
      "source": [
        "SCRIPTS_ROOTDIR = \"/content/mosesdecoder/scripts/\"\n",
        "GIZA2BAL = SCRIPTS_ROOTDIR + \"/training/giza2bal.pl\"\n",
        "SYMAL = SCRIPTS_ROOTDIR + \"/../bin/symal\"\n",
        "\n",
        "\n",
        "srcText = \"data/text.en\"\n",
        "trgText = \"data/text.fa\"\n",
        "\n",
        "!mkdir \"outputs\""
      ],
      "execution_count": 9,
      "outputs": []
    },
    {
      "cell_type": "markdown",
      "metadata": {
        "id": "jt7fbBUESL2t"
      },
      "source": [
        "# **XLMR-Large**"
      ]
    },
    {
      "cell_type": "code",
      "metadata": {
        "colab": {
          "base_uri": "https://localhost:8080/"
        },
        "id": "GGomKluG7t6i",
        "outputId": "71a7d87c-283b-4d0a-ef07-4bef29c169b0"
      },
      "source": [
        "MODEL_TYPE = \"XLMR-Large\"\n",
        "\n",
        "srcBPE = srcText + \".bpe.\" + MODEL_TYPE\n",
        "trgBPE = trgText + \".bpe.\" + MODEL_TYPE\n",
        "\n",
        "S2T_Alignment = \"outputs/alignments.S2T.\" + MODEL_TYPE\n",
        "T2S_Alignment = \"outputs/alignments.T2S.\" + MODEL_TYPE\n",
        "\n",
        "outFile = \"outputs/alignments.\" + MODEL_TYPE"
      ],
      "execution_count": null,
      "outputs": [
        {
          "output_type": "stream",
          "text": [
            "mkdir: cannot create directory ‘outputs’: File exists\n"
          ],
          "name": "stdout"
        }
      ]
    },
    {
      "cell_type": "code",
      "metadata": {
        "id": "ONYqeUof7wQl"
      },
      "source": [
        "computeAlignments(srcText, trgText, \"outputs/alignments\", MODEL_TYPE)\n"
      ],
      "execution_count": null,
      "outputs": []
    },
    {
      "cell_type": "code",
      "metadata": {
        "id": "QTWOJjhd7ylZ"
      },
      "source": [
        "convertToGizaFormat(srcBPE, trgBPE, S2T_Alignment)\n",
        "convertToGizaFormat(trgBPE, srcBPE, T2S_Alignment)"
      ],
      "execution_count": null,
      "outputs": []
    },
    {
      "cell_type": "code",
      "metadata": {
        "colab": {
          "base_uri": "https://localhost:8080/"
        },
        "id": "5UHEt_jv8pQ4",
        "outputId": "13af7157-125f-4664-e074-52779a210642"
      },
      "source": [
        "!$GIZA2BAL -d $T2S_Alignment\".giza-format\" -i $S2T_Alignment\".giza-format\" | $SYMAL -alignment=\"grow\" -diagonal=\"yes\" -final=\"yes\" -both=\"yes\" > $outFile\".grow-diag-final-and\""
      ],
      "execution_count": null,
      "outputs": [
        {
          "output_type": "stream",
          "text": [
            "symal: computing grow alignment: diagonal (1) final (1)both-uncovered (1)\n",
            "skip=<0> counts=<1572>\n"
          ],
          "name": "stdout"
        }
      ]
    },
    {
      "cell_type": "code",
      "metadata": {
        "id": "moHJ6n1y8rNN"
      },
      "source": [
        "convertToWordLevel(srcBPE, trgBPE, outFile + \".grow-diag-final-and\", \"_\")"
      ],
      "execution_count": null,
      "outputs": []
    },
    {
      "cell_type": "code",
      "metadata": {
        "colab": {
          "base_uri": "https://localhost:8080/"
        },
        "id": "P5voLAYe8t0E",
        "outputId": "01fe210b-fe96-42fa-965d-693dabcf2993"
      },
      "source": [
        "CHARS=(u\"▁\").encode(\"utf8\")\n",
        "print(CHARS)\n",
        "#concat bpe tokens\n",
        "!sed \"s/ //g\" data/text.fa.bpe.\"$MODEL_TYPE\" > data/text.fa.\"$MODEL_TYPE\".remove-bpe\n",
        "!sed \"s/ //g\" data/text.en.bpe.\"$MODEL_TYPE\" > data/text.en.\"$MODEL_TYPE\".remove-bpe\n",
        "\n",
        "!sed -i \"s/\\xe2\\x96\\x81/ /g\" data/text.fa.\"$MODEL_TYPE\".remove-bpe\n",
        "!sed -i \"s/\\xe2\\x96\\x81/ /g\" data/text.en.\"$MODEL_TYPE\".remove-bpe\n",
        "\n",
        "!cp data/text.en data/text.en.\"$MODEL_TYPE\".remove-zw\n",
        "# remove zero width space characters in reference file\n",
        "!sed \"s/\\xe2\\x80\\x8c//g\" data/text.fa > data/text.fa.\"$MODEL_TYPE\".remove-zw\n",
        "!sed -i \"s/\\xe2\\x80\\x8f//g\" data/text.fa.\"$MODEL_TYPE\".zw\n",
        "#convert … to ... in reference file\n",
        "!sed -i \"s/\\xe2\\x80\\xa6/.../g\" data/text.fa.\"$MODEL_TYPE\".zw\n",
        "!sed -i \"s/\\xe2\\x80\\xa6/.../g\" data/text.en.\"$MODEL_TYPE\".zw"
      ],
      "execution_count": null,
      "outputs": [
        {
          "output_type": "stream",
          "text": [
            "b'\\xe2\\x96\\x81'\n"
          ],
          "name": "stdout"
        }
      ]
    },
    {
      "cell_type": "code",
      "metadata": {
        "id": "uvS6kWfI9Qq_"
      },
      "source": [
        "getTokenizedInput(\"data/text.fa.\" + MODEL_TYPE + \".zw\", \"data/text.fa.\" + MODEL_TYPE + \".remove-bpe\", \"data/text.fa.\" + MODEL_TYPE + \".tok\")\n",
        "getTokenizedInput(\"data/text.en.\" + MODEL_TYPE + \".zw\", \"data/text.en.\" + MODEL_TYPE + \".remove-bpe\", \"data/text.en.\" + MODEL_TYPE + \".tok\")"
      ],
      "execution_count": null,
      "outputs": []
    },
    {
      "cell_type": "code",
      "metadata": {
        "id": "f-dFZas59YLj"
      },
      "source": [
        "convertToWordLevel(srcText + \".\" + MODEL_TYPE + \".tok\", trgText + \".\" + MODEL_TYPE + \".tok\", outFile + \".grow-diag-final-and.final-alignment\", \"#\", True)"
      ],
      "execution_count": null,
      "outputs": []
    },
    {
      "cell_type": "code",
      "metadata": {
        "colab": {
          "base_uri": "https://localhost:8080/"
        },
        "id": "wym8pb8v9gwy",
        "outputId": "029a065e-d43b-4cf6-86c4-0e1237abc9a2"
      },
      "source": [
        "!python aer.py --oneHyp --source \"$srcText\" --target \"$trgText\" data//gold.\"$SRC\"-\"$TRG\".aligned \"$outFile\".grow-diag-final-and.final-alignment.final-alignment"
      ],
      "execution_count": null,
      "outputs": [
        {
          "output_type": "stream",
          "text": [
            "outputs/alignments.XLMR-Large.grow-diag-final-and.final-alignment.final-alignment: 50.3% (53.9%/46.2%/22087)\n",
            "[((',', '.'), 244), (('the', 'در'), 89), ((',', '،'), 81), (('of', 'از'), 55), (('of', 'به'), 47), (('the', 'و'), 45), (('the', 'از'), 45), (('the', 'به'), 42), (('the', 'را'), 39), (('the', 'که'), 39)]\n",
            "Internal Jumps: 2271, External Jumps: 6990\n",
            "Source Coverage: 80.0%, Target Coverage: 80.3%\n"
          ],
          "name": "stdout"
        }
      ]
    },
    {
      "cell_type": "markdown",
      "metadata": {
        "id": "L4_4hK7KSiO9"
      },
      "source": [
        "# **XLMR-Base**"
      ]
    },
    {
      "cell_type": "code",
      "metadata": {
        "id": "IVRHvdv9Sh2G"
      },
      "source": [
        "MODEL_TYPE = \"XLMR-Base\""
      ],
      "execution_count": 10,
      "outputs": []
    },
    {
      "cell_type": "code",
      "metadata": {
        "id": "igIyqyVNStMB"
      },
      "source": [
        "srcBPE = srcText + \".bpe.\" + MODEL_TYPE\n",
        "trgBPE = trgText + \".bpe.\" + MODEL_TYPE\n",
        "\n",
        "S2T_Alignment = \"outputs/alignments.S2T.\" + MODEL_TYPE\n",
        "T2S_Alignment = \"outputs/alignments.T2S.\" + MODEL_TYPE\n",
        "\n",
        "outFile = \"outputs/alignments.\" + MODEL_TYPE"
      ],
      "execution_count": 11,
      "outputs": []
    },
    {
      "cell_type": "code",
      "metadata": {
        "colab": {
          "base_uri": "https://localhost:8080/",
          "height": 287,
          "referenced_widgets": [
            "54c69860dcdc43b591635a15ccf920e0",
            "1badafb7f7e640618c9740d2965e4674",
            "2c7660de951d45b0b76421a85924d695",
            "4243e3db619d48848fbf285696f0abd8",
            "52602ea083a7447e8df4d4b7cd17edfa",
            "04e5fb0f8c6144dc98a6221f5031c501",
            "08e45f5e33724b679ebe8378b559970b",
            "e833620fe28a47109fe9edf07924fd7f",
            "89b4bd8c63904b81ad078661bf7c5e63",
            "c7c9d7e91f2e4ab5ba743f3d8da9eea1",
            "e97dd9744fa24106a57c7530a834e3fa",
            "12defa0e6d194c09bbd1d7b556f22c42",
            "f1fc202f99a74050a081e93cf1464c10",
            "631112535b90427092dadda59810e316",
            "dae42fba537f4f92b31a7574223538fd",
            "960e47f055ce45eba7834406b5468389",
            "55aa01f68c5f4f56914f0c4f1572aa31",
            "2760a722503f493d89c329bc48036866",
            "ca44d6d803194ca4a6275090e6833216",
            "eeea786d09f04c2f9580f9b7df9edc3b",
            "d4722ac8f8054c9dbbfa0bfaef1bc910",
            "830c097a6f174e06adac80f7f5152e76",
            "57a2db95886d4d8d8944c0a72f689442",
            "b239ff5e409f4eb9b06f8546efc88324",
            "dc156d2719bd4d6f9f914f2a2acd9866",
            "61b72ada7bc64b62b38211eb9474236a",
            "5b517717459640719f68b7bbd3afe12c",
            "39fc8405fe434267a01f360e781a7034",
            "218c1e99901c42ef9f5e0fab824e2289",
            "470808a53fde470dacd133461c845e75",
            "ddf4ba51cb3c4eb3990728d2cd5d96d4",
            "bc794066869b44ceb1e02fdf870cb78b"
          ]
        },
        "id": "OwZqNg77UU3-",
        "outputId": "25ba574c-2e15-4e21-8229-791f93cbc74c"
      },
      "source": [
        "computeAlignments(srcText, trgText, \"outputs/alignments\", MODEL_TYPE)"
      ],
      "execution_count": 12,
      "outputs": [
        {
          "output_type": "display_data",
          "data": {
            "application/vnd.jupyter.widget-view+json": {
              "model_id": "54c69860dcdc43b591635a15ccf920e0",
              "version_minor": 0,
              "version_major": 2
            },
            "text/plain": [
              "HBox(children=(FloatProgress(value=0.0, description='Downloading', max=5069051.0, style=ProgressStyle(descript…"
            ]
          },
          "metadata": {
            "tags": []
          }
        },
        {
          "output_type": "stream",
          "text": [
            "\n"
          ],
          "name": "stdout"
        },
        {
          "output_type": "display_data",
          "data": {
            "application/vnd.jupyter.widget-view+json": {
              "model_id": "89b4bd8c63904b81ad078661bf7c5e63",
              "version_minor": 0,
              "version_major": 2
            },
            "text/plain": [
              "HBox(children=(FloatProgress(value=0.0, description='Downloading', max=9096718.0, style=ProgressStyle(descript…"
            ]
          },
          "metadata": {
            "tags": []
          }
        },
        {
          "output_type": "stream",
          "text": [
            "\n"
          ],
          "name": "stdout"
        },
        {
          "output_type": "display_data",
          "data": {
            "application/vnd.jupyter.widget-view+json": {
              "model_id": "55aa01f68c5f4f56914f0c4f1572aa31",
              "version_minor": 0,
              "version_major": 2
            },
            "text/plain": [
              "HBox(children=(FloatProgress(value=0.0, description='Downloading', max=512.0, style=ProgressStyle(description_…"
            ]
          },
          "metadata": {
            "tags": []
          }
        },
        {
          "output_type": "stream",
          "text": [
            "\n"
          ],
          "name": "stdout"
        },
        {
          "output_type": "display_data",
          "data": {
            "application/vnd.jupyter.widget-view+json": {
              "model_id": "dc156d2719bd4d6f9f914f2a2acd9866",
              "version_minor": 0,
              "version_major": 2
            },
            "text/plain": [
              "HBox(children=(FloatProgress(value=0.0, description='Downloading', max=1115590446.0, style=ProgressStyle(descr…"
            ]
          },
          "metadata": {
            "tags": []
          }
        },
        {
          "output_type": "stream",
          "text": [
            "\n"
          ],
          "name": "stdout"
        },
        {
          "output_type": "stream",
          "text": [
            "Some weights of the model checkpoint at xlm-roberta-base were not used when initializing XLMRobertaModel: ['lm_head.layer_norm.weight', 'lm_head.bias', 'lm_head.layer_norm.bias', 'lm_head.decoder.weight', 'lm_head.dense.bias', 'lm_head.dense.weight']\n",
            "- This IS expected if you are initializing XLMRobertaModel from the checkpoint of a model trained on another task or with another architecture (e.g. initializing a BertForSequenceClassification model from a BertForPreTraining model).\n",
            "- This IS NOT expected if you are initializing XLMRobertaModel from the checkpoint of a model that you expect to be exactly identical (initializing a BertForSequenceClassification model from a BertForSequenceClassification model).\n"
          ],
          "name": "stderr"
        }
      ]
    },
    {
      "cell_type": "code",
      "metadata": {
        "colab": {
          "base_uri": "https://localhost:8080/"
        },
        "id": "WIMzxYMHSwev",
        "outputId": "f661a98b-0315-4672-e9e4-1d742dfb0da3"
      },
      "source": [
        "convertToGizaFormat(srcBPE, trgBPE, S2T_Alignment)\n",
        "convertToGizaFormat(trgBPE, srcBPE, T2S_Alignment)\n",
        "!$GIZA2BAL -d $T2S_Alignment\".giza-format\" -i $S2T_Alignment\".giza-format\" | $SYMAL -alignment=\"grow\" -diagonal=\"yes\" -final=\"yes\" -both=\"yes\" > $outFile\".grow-diag-final-and\""
      ],
      "execution_count": 13,
      "outputs": [
        {
          "output_type": "stream",
          "text": [
            "symal: computing grow alignment: diagonal (1) final (1)both-uncovered (1)\n",
            "skip=<0> counts=<1572>\n"
          ],
          "name": "stdout"
        }
      ]
    },
    {
      "cell_type": "code",
      "metadata": {
        "id": "6KH4JPgRS2zn"
      },
      "source": [
        "convertToWordLevel(srcBPE, trgBPE, outFile + \".grow-diag-final-and\", \"_\")"
      ],
      "execution_count": 14,
      "outputs": []
    },
    {
      "cell_type": "code",
      "metadata": {
        "id": "vYOpIheHS5c2"
      },
      "source": [
        "#concat bpe tokens\n",
        "!sed \"s/ //g\" data/text.fa.bpe.\"$MODEL_TYPE\" > data/text.fa.\"$MODEL_TYPE\".remove-bpe\n",
        "!sed -i \"s/\\xe2\\x96\\x81/ /g\" data/text.fa.\"$MODEL_TYPE\".remove-bpe\n",
        "!sed \"s/ //g\" data/text.en.bpe.\"$MODEL_TYPE\" > data/text.en.\"$MODEL_TYPE\".remove-bpe\n",
        "!sed -i \"s/\\xe2\\x96\\x81/ /g\" data/text.en.\"$MODEL_TYPE\".remove-bpe\n",
        "\n",
        "!cp data/text.en data/text.en.\"$MODEL_TYPE\".remove-zw\n",
        "# remove zero width characters in reference file\n",
        "!sed \"s/\\xe2\\x80\\x8c//g\" data/text.fa > data/text.fa.\"$MODEL_TYPE\".remove-zw\n",
        "!sed -i \"s/\\xe2\\x80\\x8f//g\" data/text.fa.\"$MODEL_TYPE\".remove-zw\n",
        "#convert … to ... in reference file\n",
        "!sed -i \"s/\\xe2\\x80\\xa6/.../g\" data/text.fa.\"$MODEL_TYPE\".remove-zw\n",
        "!sed -i \"s/\\xe2\\x80\\xa6/.../g\" data/text.en.\"$MODEL_TYPE\".remove-zw"
      ],
      "execution_count": 15,
      "outputs": []
    },
    {
      "cell_type": "code",
      "metadata": {
        "id": "b6MsVeQkTJFo"
      },
      "source": [
        "getTokenizedInput(\"data/text.fa.\" + MODEL_TYPE + \".remove-zw\", \"data/text.fa.\" + MODEL_TYPE + \".remove-bpe\", \"data/text.fa.\" + MODEL_TYPE + \".tok\")\n",
        "getTokenizedInput(\"data/text.en.\" + MODEL_TYPE + \".remove-zw\", \"data/text.en.\" + MODEL_TYPE + \".remove-bpe\", \"data/text.en.\" + MODEL_TYPE + \".tok\")\n",
        "\n",
        "convertToWordLevel(srcText + \".\" + MODEL_TYPE + \".tok\", trgText + \".\" + MODEL_TYPE + \".tok\", outFile + \".grow-diag-final-and.final-alignment\", \"#\", True)"
      ],
      "execution_count": 16,
      "outputs": []
    },
    {
      "cell_type": "code",
      "metadata": {
        "colab": {
          "base_uri": "https://localhost:8080/"
        },
        "id": "WFu0AxLHTPyG",
        "outputId": "85fdf894-1ccb-4d23-81d3-61b9cec75895"
      },
      "source": [
        "!python aer.py --oneHyp --source \"$srcText\" --target \"$trgText\" data//gold.\"$SRC\"-\"$TRG\".aligned \"$outFile\".grow-diag-final-and.final-alignment.final-alignment"
      ],
      "execution_count": 17,
      "outputs": [
        {
          "output_type": "stream",
          "text": [
            "outputs/alignments.XLMR-Base.grow-diag-final-and.final-alignment.final-alignment: 43.3% (61.1%/52.9%/22288)\n",
            "[(('the', 'به'), 131), (('the', 'در'), 92), ((',', '.'), 84), ((',', '،'), 77), (('the', 'از'), 68), (('of', 'از'), 63), (('the', 'که'), 55), (('to', 'را'), 52), (('the', 'و'), 42), (('to', 'به'), 37)]\n",
            "Internal Jumps: 1744, External Jumps: 6563\n",
            "Source Coverage: 82.1%, Target Coverage: 81.2%\n"
          ],
          "name": "stdout"
        }
      ]
    },
    {
      "cell_type": "markdown",
      "metadata": {
        "id": "b-tbPXv1VKjH"
      },
      "source": [
        "# **XLM-100**\n"
      ]
    },
    {
      "cell_type": "code",
      "metadata": {
        "id": "KvIJ5c3uVJXj"
      },
      "source": [
        "MODEL_TYPE = \"XLM100\"\n",
        "\n",
        "srcBPE = srcText + \".bpe.\" + MODEL_TYPE\n",
        "trgBPE = trgText + \".bpe.\" + MODEL_TYPE\n",
        "\n",
        "S2T_Alignment = \"outputs/alignments.S2T.\" + MODEL_TYPE\n",
        "T2S_Alignment = \"outputs/alignments.T2S.\" + MODEL_TYPE\n",
        "\n",
        "outFile = \"outputs/alignments.\" + MODEL_TYPE"
      ],
      "execution_count": null,
      "outputs": []
    },
    {
      "cell_type": "code",
      "metadata": {
        "id": "51B-EA0vVVVu"
      },
      "source": [
        "computeAlignments(srcText, trgText, \"outputs/alignments\", MODEL_TYPE)\n"
      ],
      "execution_count": null,
      "outputs": []
    },
    {
      "cell_type": "code",
      "metadata": {
        "id": "2eLz6KAPZVhx"
      },
      "source": [
        "def convertBPEFormat(inputFile, outputFile):\n",
        "  inFile = open(inputFile, \"r\")\n",
        "  outFile = open(outputFile,\"w\")\n",
        "  for line in inFile:\n",
        "    line = line.strip().split()\n",
        "    for i in range(1, len(line) - 1):\n",
        "        if (not line[i-1].endswith(\"</w>\")):\n",
        "          line[i] = \"##\" + line[i]\n",
        "    for i in range(0, len(line)):\n",
        "        if (line[i].endswith(\"</w>\")):\n",
        "          line[i] = line[i][0:-4]\n",
        "    outFile.write(' '.join(line))\n",
        "    outFile.write(\"\\n\")\n",
        "  outFile.close()\n",
        "\n",
        "convertBPEFormat(srcBPE, srcBPE + \".converted\")\n",
        "convertBPEFormat(trgBPE, trgBPE + \".converted\")\n"
      ],
      "execution_count": null,
      "outputs": []
    },
    {
      "cell_type": "code",
      "metadata": {
        "colab": {
          "base_uri": "https://localhost:8080/"
        },
        "id": "IK3VPiY1VamQ",
        "outputId": "1da5ff16-bde1-4741-b1c9-98c16df37679"
      },
      "source": [
        "convertToGizaFormat(srcBPE + \".converted\", trgBPE + \".converted\", S2T_Alignment)\n",
        "convertToGizaFormat(trgBPE + \".converted\", srcBPE + \".converted\", T2S_Alignment)\n",
        "!$GIZA2BAL -d $T2S_Alignment\".giza-format\" -i $S2T_Alignment\".giza-format\" | $SYMAL -alignment=\"grow\" -diagonal=\"yes\" -final=\"yes\" -both=\"yes\" > $outFile\".grow-diag-final-and\""
      ],
      "execution_count": null,
      "outputs": [
        {
          "output_type": "stream",
          "text": [
            "symal: computing grow alignment: diagonal (1) final (1)both-uncovered (1)\n",
            "skip=<0> counts=<1572>\n"
          ],
          "name": "stdout"
        }
      ]
    },
    {
      "cell_type": "code",
      "metadata": {
        "id": "vdzoZ2nqVcMV"
      },
      "source": [
        "convertToWordLevel(srcBPE + \".converted\", trgBPE + \".converted\", outFile + \".grow-diag-final-and\", \"#\")"
      ],
      "execution_count": null,
      "outputs": []
    },
    {
      "cell_type": "code",
      "metadata": {
        "id": "sHboAb0iVf-N"
      },
      "source": [
        "#concat bpe tokens\n",
        "!sed \"s/ ##//g\" data/text.fa.bpe.\"$MODEL_TYPE\".converted > data/text.fa.\"$MODEL_TYPE\".remove-bpe\n",
        "!sed \"s/ ##//g\" data/text.en.bpe.\"$MODEL_TYPE\".converted > data/text.en.\"$MODEL_TYPE\".remove-bpe\n",
        "\n",
        "!cp data/text.en data/text.en.\"$MODEL_TYPE\".remove-zw\n",
        "# remove zero width characters in reference file\n",
        "!sed \"s/\\xe2\\x80\\x8c//g\" data/text.fa > data/text.fa.\"$MODEL_TYPE\".remove-zw\n",
        "!sed -i \"s/\\xe2\\x80\\x8f//g\" data/text.fa.\"$MODEL_TYPE\".remove-zw\n",
        "#remove اً\n",
        "!sed -i \"s/\\xd9\\x8b//g\" data/text.fa.\"$MODEL_TYPE\".remove-zw\n",
        "#convert … to ... in reference file\n",
        "!sed -i \"s/\\xe2\\x80\\xa6/.../g\" data/text.fa.\"$MODEL_TYPE\".remove-zw\n",
        "!sed -i \"s/\\xe2\\x80\\xa6/.../g\" data/text.en.\"$MODEL_TYPE\".remove-zw"
      ],
      "execution_count": null,
      "outputs": []
    },
    {
      "cell_type": "code",
      "metadata": {
        "id": "dTLgrKaiVibG"
      },
      "source": [
        "getTokenizedInput(\"data/text.fa.\" + MODEL_TYPE + \".remove-zw\", \"data/text.fa.\" + MODEL_TYPE + \".remove-bpe\", \"data/text.fa.\" + MODEL_TYPE + \".tok\")\n",
        "getTokenizedInput(\"data/text.en.\" + MODEL_TYPE + \".remove-zw\", \"data/text.en.\" + MODEL_TYPE + \".remove-bpe\", \"data/text.en.\" + MODEL_TYPE + \".tok\")\n",
        "\n",
        "convertToWordLevel(srcText + \".\" + MODEL_TYPE + \".tok\", trgText + \".\" + MODEL_TYPE + \".tok\", outFile + \".grow-diag-final-and.final-alignment\", \"#\", True)"
      ],
      "execution_count": null,
      "outputs": []
    },
    {
      "cell_type": "code",
      "metadata": {
        "id": "IPPr8TSyVlJZ",
        "colab": {
          "base_uri": "https://localhost:8080/"
        },
        "outputId": "ea53dddd-7d73-4f32-dd72-466e103993b2"
      },
      "source": [
        "!python aer.py --oneHyp --source \"$srcText\" --target \"$trgText\" data//gold.\"$SRC\"-\"$TRG\".aligned \"$outFile\".grow-diag-final-and.final-alignment.final-alignment"
      ],
      "execution_count": null,
      "outputs": [
        {
          "output_type": "stream",
          "text": [
            "outputs/alignments.XLM100.grow-diag-final-and.final-alignment.final-alignment: 44.4% (58.0%/53.4%/23700)\n",
            "[((',', '،'), 182), (('the', 'در'), 90), (('.', '،'), 86), (('the', 'از'), 68), (('of', 'از'), 47), (('a', 'به'), 45), (('to', 'به'), 43), (('the', 'را'), 40), (('the', 'به'), 39), (('the', 'که'), 38)]\n",
            "Internal Jumps: 2084, External Jumps: 6937\n",
            "Source Coverage: 85.8%, Target Coverage: 85.2%\n"
          ],
          "name": "stdout"
        }
      ]
    },
    {
      "cell_type": "markdown",
      "metadata": {
        "id": "Wd1P5RtEesWf"
      },
      "source": [
        "# **MBERT**"
      ]
    },
    {
      "cell_type": "code",
      "metadata": {
        "id": "WTvspkmEerRM"
      },
      "source": [
        "MODEL_TYPE = \"MBERT\"\n",
        "\n",
        "srcText = \"data/text.en\"\n",
        "trgText = \"data/text.fa\"\n",
        "\n",
        "srcBPE = srcText + \".bpe.\" + MODEL_TYPE\n",
        "trgBPE = trgText + \".bpe.\" + MODEL_TYPE\n",
        "\n",
        "S2T_Alignment = \"outputs/alignments.S2T.\" + MODEL_TYPE\n",
        "T2S_Alignment = \"outputs/alignments.T2S.\" + MODEL_TYPE\n",
        "\n",
        "outFile = \"outputs/alignments.\" + MODEL_TYPE\n",
        "\n",
        "!mkdir \"outputs\""
      ],
      "execution_count": null,
      "outputs": []
    },
    {
      "cell_type": "code",
      "metadata": {
        "colab": {
          "base_uri": "https://localhost:8080/"
        },
        "id": "Per5b51Qe1ro",
        "outputId": "1f837859-15fe-4260-8545-a5df8505f765"
      },
      "source": [
        "computeAlignments(srcText, trgText, \"outputs/alignments\", MODEL_TYPE)"
      ],
      "execution_count": null,
      "outputs": [
        {
          "output_type": "stream",
          "text": [
            "Some weights of the model checkpoint at bert-base-multilingual-cased were not used when initializing BertModel: ['cls.seq_relationship.bias', 'cls.predictions.transform.LayerNorm.bias', 'cls.seq_relationship.weight', 'cls.predictions.transform.LayerNorm.weight', 'cls.predictions.bias', 'cls.predictions.transform.dense.weight', 'cls.predictions.transform.dense.bias', 'cls.predictions.decoder.weight']\n",
            "- This IS expected if you are initializing BertModel from the checkpoint of a model trained on another task or with another architecture (e.g. initializing a BertForSequenceClassification model from a BertForPreTraining model).\n",
            "- This IS NOT expected if you are initializing BertModel from the checkpoint of a model that you expect to be exactly identical (initializing a BertForSequenceClassification model from a BertForSequenceClassification model).\n"
          ],
          "name": "stderr"
        }
      ]
    },
    {
      "cell_type": "code",
      "metadata": {
        "colab": {
          "base_uri": "https://localhost:8080/"
        },
        "id": "8bhUksi2e4tB",
        "outputId": "dbd18ff0-e818-48b3-e2a5-aa7707e5c8d7"
      },
      "source": [
        "convertToGizaFormat(srcBPE, trgBPE, S2T_Alignment)\n",
        "convertToGizaFormat(trgBPE, srcBPE, T2S_Alignment)\n",
        "!$GIZA2BAL -d $T2S_Alignment\".giza-format\" -i $S2T_Alignment\".giza-format\" | $SYMAL -alignment=\"grow\" -diagonal=\"yes\" -final=\"yes\" -both=\"yes\" > $outFile\".grow-diag-final-and\""
      ],
      "execution_count": null,
      "outputs": [
        {
          "output_type": "stream",
          "text": [
            "symal: computing grow alignment: diagonal (1) final (1)both-uncovered (1)\n",
            "skip=<0> counts=<1572>\n"
          ],
          "name": "stdout"
        }
      ]
    },
    {
      "cell_type": "code",
      "metadata": {
        "id": "uwri2UPsssBr"
      },
      "source": [
        "convertToWordLevel(srcBPE, trgBPE, outFile + \".grow-diag-final-and\", \"#\")"
      ],
      "execution_count": null,
      "outputs": []
    },
    {
      "cell_type": "code",
      "metadata": {
        "id": "jgM1Tnp0e8H_"
      },
      "source": [
        "#concat bpe tokens\n",
        "!sed \"s/ ##//g\" data/text.fa.bpe.\"$MODEL_TYPE\" > data/text.fa.\"$MODEL_TYPE\".remove-bpe\n",
        "!sed \"s/ ##//g\" data/text.en.bpe.\"$MODEL_TYPE\" > data/text.en.\"$MODEL_TYPE\".remove-bpe\n",
        "\n",
        "# remove zero width characters in reference file\n",
        "!sed \"s/\\xe2\\x80\\x8c//g\" data/text.fa > data/text.fa.\"$MODEL_TYPE\".zw\n",
        "!sed -i \"s/\\xe2\\x80\\x8f//g\" data/text.fa.\"$MODEL_TYPE\".zw\n",
        "#convert … to ... in reference file\n",
        "!sed -i \"s/\\xe2\\x80\\xa6/.../g\" data/text.fa.\"$MODEL_TYPE\".zw"
      ],
      "execution_count": null,
      "outputs": []
    },
    {
      "cell_type": "code",
      "metadata": {
        "id": "Bkh0LmyPfA59"
      },
      "source": [
        "getTokenizedInput(\"data/text.fa.\" + MODEL_TYPE + \".remove-zw\", \"data/text.fa.\" + MODEL_TYPE + \".remove-bpe\", \"data/text.fa.\" + MODEL_TYPE + \".tok\")\n",
        "getTokenizedInput(\"data/text.en\", \"data/text.en.\" + MODEL_TYPE + \".remove-bpe\", \"data/text.en.\" + MODEL_TYPE + \".tok\")\n",
        "\n",
        "convertToWordLevel(srcText + \".\" + MODEL_TYPE + \".tok\", trgText + \".\" + MODEL_TYPE + \".tok\", outFile + \".grow-diag-final-and.final-alignment\", \"#\", True)"
      ],
      "execution_count": null,
      "outputs": []
    },
    {
      "cell_type": "code",
      "metadata": {
        "id": "Tp1-ov8rfOR5",
        "colab": {
          "base_uri": "https://localhost:8080/"
        },
        "outputId": "0c3dd6ae-f915-453f-bb75-4dd015f926db"
      },
      "source": [
        "!python aer.py --oneHyp --source \"$srcText\" --target \"$trgText\" data//gold.\"$SRC\"-\"$TRG\".aligned \"$outFile\".grow-diag-final-and.final-alignment.final-alignment"
      ],
      "execution_count": null,
      "outputs": [
        {
          "output_type": "stream",
          "text": [
            "outputs/alignments.MBERT.grow-diag-final-and.final-alignment.final-alignment: 47.5% (53.9%/51.2%/24465)\n",
            "[((',', '،'), 76), (('the', 'در'), 49), (('to', 'به'), 45), (('of', 'از'), 37), (('i', 'و'), 36), (('the', 'از'), 33), (('the', 'به'), 26), (('was', 'بود'), 25), (('the', '،'), 25), (('and', 'و'), 24)]\n",
            "Internal Jumps: 1999, External Jumps: 5883\n",
            "Source Coverage: 85.5%, Target Coverage: 81.6%\n"
          ],
          "name": "stdout"
        }
      ]
    }
  ]
}