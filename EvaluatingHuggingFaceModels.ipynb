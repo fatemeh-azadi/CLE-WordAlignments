{
  "nbformat": 4,
  "nbformat_minor": 0,
  "metadata": {
    "colab": {
      "name": "HuggingFaceModels.ipynb",
      "provenance": [],
      "collapsed_sections": [],
      "authorship_tag": "ABX9TyODKPub1zjNs9oe8VnlzN/M",
      "include_colab_link": true
    },
    "kernelspec": {
      "name": "python3",
      "display_name": "Python 3"
    },
    "language_info": {
      "name": "python"
    },
    "widgets": {
      "application/vnd.jupyter.widget-state+json": {
        "aaa03412bff94635823248dd6730505b": {
          "model_module": "@jupyter-widgets/controls",
          "model_name": "HBoxModel",
          "state": {
            "_view_name": "HBoxView",
            "_dom_classes": [],
            "_model_name": "HBoxModel",
            "_view_module": "@jupyter-widgets/controls",
            "_model_module_version": "1.5.0",
            "_view_count": null,
            "_view_module_version": "1.5.0",
            "box_style": "",
            "layout": "IPY_MODEL_e00a2c03b35d482e95c2346e5d0aedbd",
            "_model_module": "@jupyter-widgets/controls",
            "children": [
              "IPY_MODEL_64472172af0c4b9d81cf8513cd71071e",
              "IPY_MODEL_c912bebee45e489bb5f6af5d3b0d5aba"
            ]
          }
        },
        "e00a2c03b35d482e95c2346e5d0aedbd": {
          "model_module": "@jupyter-widgets/base",
          "model_name": "LayoutModel",
          "state": {
            "_view_name": "LayoutView",
            "grid_template_rows": null,
            "right": null,
            "justify_content": null,
            "_view_module": "@jupyter-widgets/base",
            "overflow": null,
            "_model_module_version": "1.2.0",
            "_view_count": null,
            "flex_flow": null,
            "width": null,
            "min_width": null,
            "border": null,
            "align_items": null,
            "bottom": null,
            "_model_module": "@jupyter-widgets/base",
            "top": null,
            "grid_column": null,
            "overflow_y": null,
            "overflow_x": null,
            "grid_auto_flow": null,
            "grid_area": null,
            "grid_template_columns": null,
            "flex": null,
            "_model_name": "LayoutModel",
            "justify_items": null,
            "grid_row": null,
            "max_height": null,
            "align_content": null,
            "visibility": null,
            "align_self": null,
            "height": null,
            "min_height": null,
            "padding": null,
            "grid_auto_rows": null,
            "grid_gap": null,
            "max_width": null,
            "order": null,
            "_view_module_version": "1.2.0",
            "grid_template_areas": null,
            "object_position": null,
            "object_fit": null,
            "grid_auto_columns": null,
            "margin": null,
            "display": null,
            "left": null
          }
        },
        "64472172af0c4b9d81cf8513cd71071e": {
          "model_module": "@jupyter-widgets/controls",
          "model_name": "FloatProgressModel",
          "state": {
            "_view_name": "ProgressView",
            "style": "IPY_MODEL_c2e0f789f5d6489f9d8c11a4eff6b422",
            "_dom_classes": [],
            "description": "Downloading: 100%",
            "_model_name": "FloatProgressModel",
            "bar_style": "success",
            "max": 5069051,
            "_view_module": "@jupyter-widgets/controls",
            "_model_module_version": "1.5.0",
            "value": 5069051,
            "_view_count": null,
            "_view_module_version": "1.5.0",
            "orientation": "horizontal",
            "min": 0,
            "description_tooltip": null,
            "_model_module": "@jupyter-widgets/controls",
            "layout": "IPY_MODEL_87c4b73bb8534f64945127693b2d208e"
          }
        },
        "c912bebee45e489bb5f6af5d3b0d5aba": {
          "model_module": "@jupyter-widgets/controls",
          "model_name": "HTMLModel",
          "state": {
            "_view_name": "HTMLView",
            "style": "IPY_MODEL_8d1e051f7d80497cacdea57cd90a66a7",
            "_dom_classes": [],
            "description": "",
            "_model_name": "HTMLModel",
            "placeholder": "​",
            "_view_module": "@jupyter-widgets/controls",
            "_model_module_version": "1.5.0",
            "value": " 5.07M/5.07M [00:01&lt;00:00, 2.65MB/s]",
            "_view_count": null,
            "_view_module_version": "1.5.0",
            "description_tooltip": null,
            "_model_module": "@jupyter-widgets/controls",
            "layout": "IPY_MODEL_7920f5dbce6548d488cf1248fdd9b17a"
          }
        },
        "c2e0f789f5d6489f9d8c11a4eff6b422": {
          "model_module": "@jupyter-widgets/controls",
          "model_name": "ProgressStyleModel",
          "state": {
            "_view_name": "StyleView",
            "_model_name": "ProgressStyleModel",
            "description_width": "initial",
            "_view_module": "@jupyter-widgets/base",
            "_model_module_version": "1.5.0",
            "_view_count": null,
            "_view_module_version": "1.2.0",
            "bar_color": null,
            "_model_module": "@jupyter-widgets/controls"
          }
        },
        "87c4b73bb8534f64945127693b2d208e": {
          "model_module": "@jupyter-widgets/base",
          "model_name": "LayoutModel",
          "state": {
            "_view_name": "LayoutView",
            "grid_template_rows": null,
            "right": null,
            "justify_content": null,
            "_view_module": "@jupyter-widgets/base",
            "overflow": null,
            "_model_module_version": "1.2.0",
            "_view_count": null,
            "flex_flow": null,
            "width": null,
            "min_width": null,
            "border": null,
            "align_items": null,
            "bottom": null,
            "_model_module": "@jupyter-widgets/base",
            "top": null,
            "grid_column": null,
            "overflow_y": null,
            "overflow_x": null,
            "grid_auto_flow": null,
            "grid_area": null,
            "grid_template_columns": null,
            "flex": null,
            "_model_name": "LayoutModel",
            "justify_items": null,
            "grid_row": null,
            "max_height": null,
            "align_content": null,
            "visibility": null,
            "align_self": null,
            "height": null,
            "min_height": null,
            "padding": null,
            "grid_auto_rows": null,
            "grid_gap": null,
            "max_width": null,
            "order": null,
            "_view_module_version": "1.2.0",
            "grid_template_areas": null,
            "object_position": null,
            "object_fit": null,
            "grid_auto_columns": null,
            "margin": null,
            "display": null,
            "left": null
          }
        },
        "8d1e051f7d80497cacdea57cd90a66a7": {
          "model_module": "@jupyter-widgets/controls",
          "model_name": "DescriptionStyleModel",
          "state": {
            "_view_name": "StyleView",
            "_model_name": "DescriptionStyleModel",
            "description_width": "",
            "_view_module": "@jupyter-widgets/base",
            "_model_module_version": "1.5.0",
            "_view_count": null,
            "_view_module_version": "1.2.0",
            "_model_module": "@jupyter-widgets/controls"
          }
        },
        "7920f5dbce6548d488cf1248fdd9b17a": {
          "model_module": "@jupyter-widgets/base",
          "model_name": "LayoutModel",
          "state": {
            "_view_name": "LayoutView",
            "grid_template_rows": null,
            "right": null,
            "justify_content": null,
            "_view_module": "@jupyter-widgets/base",
            "overflow": null,
            "_model_module_version": "1.2.0",
            "_view_count": null,
            "flex_flow": null,
            "width": null,
            "min_width": null,
            "border": null,
            "align_items": null,
            "bottom": null,
            "_model_module": "@jupyter-widgets/base",
            "top": null,
            "grid_column": null,
            "overflow_y": null,
            "overflow_x": null,
            "grid_auto_flow": null,
            "grid_area": null,
            "grid_template_columns": null,
            "flex": null,
            "_model_name": "LayoutModel",
            "justify_items": null,
            "grid_row": null,
            "max_height": null,
            "align_content": null,
            "visibility": null,
            "align_self": null,
            "height": null,
            "min_height": null,
            "padding": null,
            "grid_auto_rows": null,
            "grid_gap": null,
            "max_width": null,
            "order": null,
            "_view_module_version": "1.2.0",
            "grid_template_areas": null,
            "object_position": null,
            "object_fit": null,
            "grid_auto_columns": null,
            "margin": null,
            "display": null,
            "left": null
          }
        },
        "270a86107b7444879b9d46ca5a2ce092": {
          "model_module": "@jupyter-widgets/controls",
          "model_name": "HBoxModel",
          "state": {
            "_view_name": "HBoxView",
            "_dom_classes": [],
            "_model_name": "HBoxModel",
            "_view_module": "@jupyter-widgets/controls",
            "_model_module_version": "1.5.0",
            "_view_count": null,
            "_view_module_version": "1.5.0",
            "box_style": "",
            "layout": "IPY_MODEL_64d8c24c021b4ab3ac962fc4a21e9b74",
            "_model_module": "@jupyter-widgets/controls",
            "children": [
              "IPY_MODEL_1a51861cadfb4ccd80f08ae027379d34",
              "IPY_MODEL_e6b740cd14964be6b22fba154be2d31a"
            ]
          }
        },
        "64d8c24c021b4ab3ac962fc4a21e9b74": {
          "model_module": "@jupyter-widgets/base",
          "model_name": "LayoutModel",
          "state": {
            "_view_name": "LayoutView",
            "grid_template_rows": null,
            "right": null,
            "justify_content": null,
            "_view_module": "@jupyter-widgets/base",
            "overflow": null,
            "_model_module_version": "1.2.0",
            "_view_count": null,
            "flex_flow": null,
            "width": null,
            "min_width": null,
            "border": null,
            "align_items": null,
            "bottom": null,
            "_model_module": "@jupyter-widgets/base",
            "top": null,
            "grid_column": null,
            "overflow_y": null,
            "overflow_x": null,
            "grid_auto_flow": null,
            "grid_area": null,
            "grid_template_columns": null,
            "flex": null,
            "_model_name": "LayoutModel",
            "justify_items": null,
            "grid_row": null,
            "max_height": null,
            "align_content": null,
            "visibility": null,
            "align_self": null,
            "height": null,
            "min_height": null,
            "padding": null,
            "grid_auto_rows": null,
            "grid_gap": null,
            "max_width": null,
            "order": null,
            "_view_module_version": "1.2.0",
            "grid_template_areas": null,
            "object_position": null,
            "object_fit": null,
            "grid_auto_columns": null,
            "margin": null,
            "display": null,
            "left": null
          }
        },
        "1a51861cadfb4ccd80f08ae027379d34": {
          "model_module": "@jupyter-widgets/controls",
          "model_name": "FloatProgressModel",
          "state": {
            "_view_name": "ProgressView",
            "style": "IPY_MODEL_9f41f92fcb6046f59ae39aea8439d0b2",
            "_dom_classes": [],
            "description": "Downloading: 100%",
            "_model_name": "FloatProgressModel",
            "bar_style": "success",
            "max": 9096718,
            "_view_module": "@jupyter-widgets/controls",
            "_model_module_version": "1.5.0",
            "value": 9096718,
            "_view_count": null,
            "_view_module_version": "1.5.0",
            "orientation": "horizontal",
            "min": 0,
            "description_tooltip": null,
            "_model_module": "@jupyter-widgets/controls",
            "layout": "IPY_MODEL_11750aa0a2e947ea8599c57b07b5d940"
          }
        },
        "e6b740cd14964be6b22fba154be2d31a": {
          "model_module": "@jupyter-widgets/controls",
          "model_name": "HTMLModel",
          "state": {
            "_view_name": "HTMLView",
            "style": "IPY_MODEL_2761515c0f9b40a0aa3f9d77791c5a78",
            "_dom_classes": [],
            "description": "",
            "_model_name": "HTMLModel",
            "placeholder": "​",
            "_view_module": "@jupyter-widgets/controls",
            "_model_module_version": "1.5.0",
            "value": " 9.10M/9.10M [06:54&lt;00:00, 21.9kB/s]",
            "_view_count": null,
            "_view_module_version": "1.5.0",
            "description_tooltip": null,
            "_model_module": "@jupyter-widgets/controls",
            "layout": "IPY_MODEL_edb3efa7221046f6be3f90f2bbdd44f0"
          }
        },
        "9f41f92fcb6046f59ae39aea8439d0b2": {
          "model_module": "@jupyter-widgets/controls",
          "model_name": "ProgressStyleModel",
          "state": {
            "_view_name": "StyleView",
            "_model_name": "ProgressStyleModel",
            "description_width": "initial",
            "_view_module": "@jupyter-widgets/base",
            "_model_module_version": "1.5.0",
            "_view_count": null,
            "_view_module_version": "1.2.0",
            "bar_color": null,
            "_model_module": "@jupyter-widgets/controls"
          }
        },
        "11750aa0a2e947ea8599c57b07b5d940": {
          "model_module": "@jupyter-widgets/base",
          "model_name": "LayoutModel",
          "state": {
            "_view_name": "LayoutView",
            "grid_template_rows": null,
            "right": null,
            "justify_content": null,
            "_view_module": "@jupyter-widgets/base",
            "overflow": null,
            "_model_module_version": "1.2.0",
            "_view_count": null,
            "flex_flow": null,
            "width": null,
            "min_width": null,
            "border": null,
            "align_items": null,
            "bottom": null,
            "_model_module": "@jupyter-widgets/base",
            "top": null,
            "grid_column": null,
            "overflow_y": null,
            "overflow_x": null,
            "grid_auto_flow": null,
            "grid_area": null,
            "grid_template_columns": null,
            "flex": null,
            "_model_name": "LayoutModel",
            "justify_items": null,
            "grid_row": null,
            "max_height": null,
            "align_content": null,
            "visibility": null,
            "align_self": null,
            "height": null,
            "min_height": null,
            "padding": null,
            "grid_auto_rows": null,
            "grid_gap": null,
            "max_width": null,
            "order": null,
            "_view_module_version": "1.2.0",
            "grid_template_areas": null,
            "object_position": null,
            "object_fit": null,
            "grid_auto_columns": null,
            "margin": null,
            "display": null,
            "left": null
          }
        },
        "2761515c0f9b40a0aa3f9d77791c5a78": {
          "model_module": "@jupyter-widgets/controls",
          "model_name": "DescriptionStyleModel",
          "state": {
            "_view_name": "StyleView",
            "_model_name": "DescriptionStyleModel",
            "description_width": "",
            "_view_module": "@jupyter-widgets/base",
            "_model_module_version": "1.5.0",
            "_view_count": null,
            "_view_module_version": "1.2.0",
            "_model_module": "@jupyter-widgets/controls"
          }
        },
        "edb3efa7221046f6be3f90f2bbdd44f0": {
          "model_module": "@jupyter-widgets/base",
          "model_name": "LayoutModel",
          "state": {
            "_view_name": "LayoutView",
            "grid_template_rows": null,
            "right": null,
            "justify_content": null,
            "_view_module": "@jupyter-widgets/base",
            "overflow": null,
            "_model_module_version": "1.2.0",
            "_view_count": null,
            "flex_flow": null,
            "width": null,
            "min_width": null,
            "border": null,
            "align_items": null,
            "bottom": null,
            "_model_module": "@jupyter-widgets/base",
            "top": null,
            "grid_column": null,
            "overflow_y": null,
            "overflow_x": null,
            "grid_auto_flow": null,
            "grid_area": null,
            "grid_template_columns": null,
            "flex": null,
            "_model_name": "LayoutModel",
            "justify_items": null,
            "grid_row": null,
            "max_height": null,
            "align_content": null,
            "visibility": null,
            "align_self": null,
            "height": null,
            "min_height": null,
            "padding": null,
            "grid_auto_rows": null,
            "grid_gap": null,
            "max_width": null,
            "order": null,
            "_view_module_version": "1.2.0",
            "grid_template_areas": null,
            "object_position": null,
            "object_fit": null,
            "grid_auto_columns": null,
            "margin": null,
            "display": null,
            "left": null
          }
        },
        "dcce97696bec40e09cf3cfe78b36b0b3": {
          "model_module": "@jupyter-widgets/controls",
          "model_name": "HBoxModel",
          "state": {
            "_view_name": "HBoxView",
            "_dom_classes": [],
            "_model_name": "HBoxModel",
            "_view_module": "@jupyter-widgets/controls",
            "_model_module_version": "1.5.0",
            "_view_count": null,
            "_view_module_version": "1.5.0",
            "box_style": "",
            "layout": "IPY_MODEL_3a68613e941b42aca2c0cfd9c086805a",
            "_model_module": "@jupyter-widgets/controls",
            "children": [
              "IPY_MODEL_4e4d7c4cb9c348baa7f0eaa5d7729bd9",
              "IPY_MODEL_e22f0cc701e9412eb8fbd94396de3313"
            ]
          }
        },
        "3a68613e941b42aca2c0cfd9c086805a": {
          "model_module": "@jupyter-widgets/base",
          "model_name": "LayoutModel",
          "state": {
            "_view_name": "LayoutView",
            "grid_template_rows": null,
            "right": null,
            "justify_content": null,
            "_view_module": "@jupyter-widgets/base",
            "overflow": null,
            "_model_module_version": "1.2.0",
            "_view_count": null,
            "flex_flow": null,
            "width": null,
            "min_width": null,
            "border": null,
            "align_items": null,
            "bottom": null,
            "_model_module": "@jupyter-widgets/base",
            "top": null,
            "grid_column": null,
            "overflow_y": null,
            "overflow_x": null,
            "grid_auto_flow": null,
            "grid_area": null,
            "grid_template_columns": null,
            "flex": null,
            "_model_name": "LayoutModel",
            "justify_items": null,
            "grid_row": null,
            "max_height": null,
            "align_content": null,
            "visibility": null,
            "align_self": null,
            "height": null,
            "min_height": null,
            "padding": null,
            "grid_auto_rows": null,
            "grid_gap": null,
            "max_width": null,
            "order": null,
            "_view_module_version": "1.2.0",
            "grid_template_areas": null,
            "object_position": null,
            "object_fit": null,
            "grid_auto_columns": null,
            "margin": null,
            "display": null,
            "left": null
          }
        },
        "4e4d7c4cb9c348baa7f0eaa5d7729bd9": {
          "model_module": "@jupyter-widgets/controls",
          "model_name": "FloatProgressModel",
          "state": {
            "_view_name": "ProgressView",
            "style": "IPY_MODEL_42f8e5b658d6487584997d34ff4a4615",
            "_dom_classes": [],
            "description": "Downloading: 100%",
            "_model_name": "FloatProgressModel",
            "bar_style": "success",
            "max": 512,
            "_view_module": "@jupyter-widgets/controls",
            "_model_module_version": "1.5.0",
            "value": 512,
            "_view_count": null,
            "_view_module_version": "1.5.0",
            "orientation": "horizontal",
            "min": 0,
            "description_tooltip": null,
            "_model_module": "@jupyter-widgets/controls",
            "layout": "IPY_MODEL_577877f271784d85a753b03f7ca69eca"
          }
        },
        "e22f0cc701e9412eb8fbd94396de3313": {
          "model_module": "@jupyter-widgets/controls",
          "model_name": "HTMLModel",
          "state": {
            "_view_name": "HTMLView",
            "style": "IPY_MODEL_7287fa43f7cc4463931d5237680f588e",
            "_dom_classes": [],
            "description": "",
            "_model_name": "HTMLModel",
            "placeholder": "​",
            "_view_module": "@jupyter-widgets/controls",
            "_model_module_version": "1.5.0",
            "value": " 512/512 [00:02&lt;00:00, 239B/s]",
            "_view_count": null,
            "_view_module_version": "1.5.0",
            "description_tooltip": null,
            "_model_module": "@jupyter-widgets/controls",
            "layout": "IPY_MODEL_552cad6e963f42c4a272f0d9a5895fdf"
          }
        },
        "42f8e5b658d6487584997d34ff4a4615": {
          "model_module": "@jupyter-widgets/controls",
          "model_name": "ProgressStyleModel",
          "state": {
            "_view_name": "StyleView",
            "_model_name": "ProgressStyleModel",
            "description_width": "initial",
            "_view_module": "@jupyter-widgets/base",
            "_model_module_version": "1.5.0",
            "_view_count": null,
            "_view_module_version": "1.2.0",
            "bar_color": null,
            "_model_module": "@jupyter-widgets/controls"
          }
        },
        "577877f271784d85a753b03f7ca69eca": {
          "model_module": "@jupyter-widgets/base",
          "model_name": "LayoutModel",
          "state": {
            "_view_name": "LayoutView",
            "grid_template_rows": null,
            "right": null,
            "justify_content": null,
            "_view_module": "@jupyter-widgets/base",
            "overflow": null,
            "_model_module_version": "1.2.0",
            "_view_count": null,
            "flex_flow": null,
            "width": null,
            "min_width": null,
            "border": null,
            "align_items": null,
            "bottom": null,
            "_model_module": "@jupyter-widgets/base",
            "top": null,
            "grid_column": null,
            "overflow_y": null,
            "overflow_x": null,
            "grid_auto_flow": null,
            "grid_area": null,
            "grid_template_columns": null,
            "flex": null,
            "_model_name": "LayoutModel",
            "justify_items": null,
            "grid_row": null,
            "max_height": null,
            "align_content": null,
            "visibility": null,
            "align_self": null,
            "height": null,
            "min_height": null,
            "padding": null,
            "grid_auto_rows": null,
            "grid_gap": null,
            "max_width": null,
            "order": null,
            "_view_module_version": "1.2.0",
            "grid_template_areas": null,
            "object_position": null,
            "object_fit": null,
            "grid_auto_columns": null,
            "margin": null,
            "display": null,
            "left": null
          }
        },
        "7287fa43f7cc4463931d5237680f588e": {
          "model_module": "@jupyter-widgets/controls",
          "model_name": "DescriptionStyleModel",
          "state": {
            "_view_name": "StyleView",
            "_model_name": "DescriptionStyleModel",
            "description_width": "",
            "_view_module": "@jupyter-widgets/base",
            "_model_module_version": "1.5.0",
            "_view_count": null,
            "_view_module_version": "1.2.0",
            "_model_module": "@jupyter-widgets/controls"
          }
        },
        "552cad6e963f42c4a272f0d9a5895fdf": {
          "model_module": "@jupyter-widgets/base",
          "model_name": "LayoutModel",
          "state": {
            "_view_name": "LayoutView",
            "grid_template_rows": null,
            "right": null,
            "justify_content": null,
            "_view_module": "@jupyter-widgets/base",
            "overflow": null,
            "_model_module_version": "1.2.0",
            "_view_count": null,
            "flex_flow": null,
            "width": null,
            "min_width": null,
            "border": null,
            "align_items": null,
            "bottom": null,
            "_model_module": "@jupyter-widgets/base",
            "top": null,
            "grid_column": null,
            "overflow_y": null,
            "overflow_x": null,
            "grid_auto_flow": null,
            "grid_area": null,
            "grid_template_columns": null,
            "flex": null,
            "_model_name": "LayoutModel",
            "justify_items": null,
            "grid_row": null,
            "max_height": null,
            "align_content": null,
            "visibility": null,
            "align_self": null,
            "height": null,
            "min_height": null,
            "padding": null,
            "grid_auto_rows": null,
            "grid_gap": null,
            "max_width": null,
            "order": null,
            "_view_module_version": "1.2.0",
            "grid_template_areas": null,
            "object_position": null,
            "object_fit": null,
            "grid_auto_columns": null,
            "margin": null,
            "display": null,
            "left": null
          }
        },
        "af5a6ee17c62409f8ee853ed2f589c80": {
          "model_module": "@jupyter-widgets/controls",
          "model_name": "HBoxModel",
          "state": {
            "_view_name": "HBoxView",
            "_dom_classes": [],
            "_model_name": "HBoxModel",
            "_view_module": "@jupyter-widgets/controls",
            "_model_module_version": "1.5.0",
            "_view_count": null,
            "_view_module_version": "1.5.0",
            "box_style": "",
            "layout": "IPY_MODEL_48e13df0271d40b59552d194db6910fb",
            "_model_module": "@jupyter-widgets/controls",
            "children": [
              "IPY_MODEL_7327fbe6de3d432baafaa4741e5fadda",
              "IPY_MODEL_36075d27a36c4e9895de17cc80b3ee5a"
            ]
          }
        },
        "48e13df0271d40b59552d194db6910fb": {
          "model_module": "@jupyter-widgets/base",
          "model_name": "LayoutModel",
          "state": {
            "_view_name": "LayoutView",
            "grid_template_rows": null,
            "right": null,
            "justify_content": null,
            "_view_module": "@jupyter-widgets/base",
            "overflow": null,
            "_model_module_version": "1.2.0",
            "_view_count": null,
            "flex_flow": null,
            "width": null,
            "min_width": null,
            "border": null,
            "align_items": null,
            "bottom": null,
            "_model_module": "@jupyter-widgets/base",
            "top": null,
            "grid_column": null,
            "overflow_y": null,
            "overflow_x": null,
            "grid_auto_flow": null,
            "grid_area": null,
            "grid_template_columns": null,
            "flex": null,
            "_model_name": "LayoutModel",
            "justify_items": null,
            "grid_row": null,
            "max_height": null,
            "align_content": null,
            "visibility": null,
            "align_self": null,
            "height": null,
            "min_height": null,
            "padding": null,
            "grid_auto_rows": null,
            "grid_gap": null,
            "max_width": null,
            "order": null,
            "_view_module_version": "1.2.0",
            "grid_template_areas": null,
            "object_position": null,
            "object_fit": null,
            "grid_auto_columns": null,
            "margin": null,
            "display": null,
            "left": null
          }
        },
        "7327fbe6de3d432baafaa4741e5fadda": {
          "model_module": "@jupyter-widgets/controls",
          "model_name": "FloatProgressModel",
          "state": {
            "_view_name": "ProgressView",
            "style": "IPY_MODEL_46757bf784fd408fa52a671ec6af1a62",
            "_dom_classes": [],
            "description": "Downloading: 100%",
            "_model_name": "FloatProgressModel",
            "bar_style": "success",
            "max": 1115590446,
            "_view_module": "@jupyter-widgets/controls",
            "_model_module_version": "1.5.0",
            "value": 1115590446,
            "_view_count": null,
            "_view_module_version": "1.5.0",
            "orientation": "horizontal",
            "min": 0,
            "description_tooltip": null,
            "_model_module": "@jupyter-widgets/controls",
            "layout": "IPY_MODEL_a2dec48610a04dc48822b15b98725cf5"
          }
        },
        "36075d27a36c4e9895de17cc80b3ee5a": {
          "model_module": "@jupyter-widgets/controls",
          "model_name": "HTMLModel",
          "state": {
            "_view_name": "HTMLView",
            "style": "IPY_MODEL_ffa2e6ca6bc24593b53ad90920cd4497",
            "_dom_classes": [],
            "description": "",
            "_model_name": "HTMLModel",
            "placeholder": "​",
            "_view_module": "@jupyter-widgets/controls",
            "_model_module_version": "1.5.0",
            "value": " 1.12G/1.12G [06:52&lt;00:00, 2.70MB/s]",
            "_view_count": null,
            "_view_module_version": "1.5.0",
            "description_tooltip": null,
            "_model_module": "@jupyter-widgets/controls",
            "layout": "IPY_MODEL_f0f1b9519af44857b150d8069dc0a5a6"
          }
        },
        "46757bf784fd408fa52a671ec6af1a62": {
          "model_module": "@jupyter-widgets/controls",
          "model_name": "ProgressStyleModel",
          "state": {
            "_view_name": "StyleView",
            "_model_name": "ProgressStyleModel",
            "description_width": "initial",
            "_view_module": "@jupyter-widgets/base",
            "_model_module_version": "1.5.0",
            "_view_count": null,
            "_view_module_version": "1.2.0",
            "bar_color": null,
            "_model_module": "@jupyter-widgets/controls"
          }
        },
        "a2dec48610a04dc48822b15b98725cf5": {
          "model_module": "@jupyter-widgets/base",
          "model_name": "LayoutModel",
          "state": {
            "_view_name": "LayoutView",
            "grid_template_rows": null,
            "right": null,
            "justify_content": null,
            "_view_module": "@jupyter-widgets/base",
            "overflow": null,
            "_model_module_version": "1.2.0",
            "_view_count": null,
            "flex_flow": null,
            "width": null,
            "min_width": null,
            "border": null,
            "align_items": null,
            "bottom": null,
            "_model_module": "@jupyter-widgets/base",
            "top": null,
            "grid_column": null,
            "overflow_y": null,
            "overflow_x": null,
            "grid_auto_flow": null,
            "grid_area": null,
            "grid_template_columns": null,
            "flex": null,
            "_model_name": "LayoutModel",
            "justify_items": null,
            "grid_row": null,
            "max_height": null,
            "align_content": null,
            "visibility": null,
            "align_self": null,
            "height": null,
            "min_height": null,
            "padding": null,
            "grid_auto_rows": null,
            "grid_gap": null,
            "max_width": null,
            "order": null,
            "_view_module_version": "1.2.0",
            "grid_template_areas": null,
            "object_position": null,
            "object_fit": null,
            "grid_auto_columns": null,
            "margin": null,
            "display": null,
            "left": null
          }
        },
        "ffa2e6ca6bc24593b53ad90920cd4497": {
          "model_module": "@jupyter-widgets/controls",
          "model_name": "DescriptionStyleModel",
          "state": {
            "_view_name": "StyleView",
            "_model_name": "DescriptionStyleModel",
            "description_width": "",
            "_view_module": "@jupyter-widgets/base",
            "_model_module_version": "1.5.0",
            "_view_count": null,
            "_view_module_version": "1.2.0",
            "_model_module": "@jupyter-widgets/controls"
          }
        },
        "f0f1b9519af44857b150d8069dc0a5a6": {
          "model_module": "@jupyter-widgets/base",
          "model_name": "LayoutModel",
          "state": {
            "_view_name": "LayoutView",
            "grid_template_rows": null,
            "right": null,
            "justify_content": null,
            "_view_module": "@jupyter-widgets/base",
            "overflow": null,
            "_model_module_version": "1.2.0",
            "_view_count": null,
            "flex_flow": null,
            "width": null,
            "min_width": null,
            "border": null,
            "align_items": null,
            "bottom": null,
            "_model_module": "@jupyter-widgets/base",
            "top": null,
            "grid_column": null,
            "overflow_y": null,
            "overflow_x": null,
            "grid_auto_flow": null,
            "grid_area": null,
            "grid_template_columns": null,
            "flex": null,
            "_model_name": "LayoutModel",
            "justify_items": null,
            "grid_row": null,
            "max_height": null,
            "align_content": null,
            "visibility": null,
            "align_self": null,
            "height": null,
            "min_height": null,
            "padding": null,
            "grid_auto_rows": null,
            "grid_gap": null,
            "max_width": null,
            "order": null,
            "_view_module_version": "1.2.0",
            "grid_template_areas": null,
            "object_position": null,
            "object_fit": null,
            "grid_auto_columns": null,
            "margin": null,
            "display": null,
            "left": null
          }
        },
        "1c7aa8a799c347bba139ef92b4adb5ea": {
          "model_module": "@jupyter-widgets/controls",
          "model_name": "HBoxModel",
          "state": {
            "_view_name": "HBoxView",
            "_dom_classes": [],
            "_model_name": "HBoxModel",
            "_view_module": "@jupyter-widgets/controls",
            "_model_module_version": "1.5.0",
            "_view_count": null,
            "_view_module_version": "1.5.0",
            "box_style": "",
            "layout": "IPY_MODEL_d18eaeeb90144378952927ce7e49f65f",
            "_model_module": "@jupyter-widgets/controls",
            "children": [
              "IPY_MODEL_c63d058c9d3a4d68a3b9fe7c813d9455",
              "IPY_MODEL_7a15dc30bec44ab68bf8991ec9dc14d4"
            ]
          }
        },
        "d18eaeeb90144378952927ce7e49f65f": {
          "model_module": "@jupyter-widgets/base",
          "model_name": "LayoutModel",
          "state": {
            "_view_name": "LayoutView",
            "grid_template_rows": null,
            "right": null,
            "justify_content": null,
            "_view_module": "@jupyter-widgets/base",
            "overflow": null,
            "_model_module_version": "1.2.0",
            "_view_count": null,
            "flex_flow": null,
            "width": null,
            "min_width": null,
            "border": null,
            "align_items": null,
            "bottom": null,
            "_model_module": "@jupyter-widgets/base",
            "top": null,
            "grid_column": null,
            "overflow_y": null,
            "overflow_x": null,
            "grid_auto_flow": null,
            "grid_area": null,
            "grid_template_columns": null,
            "flex": null,
            "_model_name": "LayoutModel",
            "justify_items": null,
            "grid_row": null,
            "max_height": null,
            "align_content": null,
            "visibility": null,
            "align_self": null,
            "height": null,
            "min_height": null,
            "padding": null,
            "grid_auto_rows": null,
            "grid_gap": null,
            "max_width": null,
            "order": null,
            "_view_module_version": "1.2.0",
            "grid_template_areas": null,
            "object_position": null,
            "object_fit": null,
            "grid_auto_columns": null,
            "margin": null,
            "display": null,
            "left": null
          }
        },
        "c63d058c9d3a4d68a3b9fe7c813d9455": {
          "model_module": "@jupyter-widgets/controls",
          "model_name": "FloatProgressModel",
          "state": {
            "_view_name": "ProgressView",
            "style": "IPY_MODEL_f5c038466b274c30aca44bc6cb01e030",
            "_dom_classes": [],
            "description": "Downloading: 100%",
            "_model_name": "FloatProgressModel",
            "bar_style": "success",
            "max": 5715183,
            "_view_module": "@jupyter-widgets/controls",
            "_model_module_version": "1.5.0",
            "value": 5715183,
            "_view_count": null,
            "_view_module_version": "1.5.0",
            "orientation": "horizontal",
            "min": 0,
            "description_tooltip": null,
            "_model_module": "@jupyter-widgets/controls",
            "layout": "IPY_MODEL_b0e2a3f9b463416a8190968b80836915"
          }
        },
        "7a15dc30bec44ab68bf8991ec9dc14d4": {
          "model_module": "@jupyter-widgets/controls",
          "model_name": "HTMLModel",
          "state": {
            "_view_name": "HTMLView",
            "style": "IPY_MODEL_2ef88a3416424c5cb31b0f88f75bad80",
            "_dom_classes": [],
            "description": "",
            "_model_name": "HTMLModel",
            "placeholder": "​",
            "_view_module": "@jupyter-widgets/controls",
            "_model_module_version": "1.5.0",
            "value": " 5.72M/5.72M [00:03&lt;00:00, 1.90MB/s]",
            "_view_count": null,
            "_view_module_version": "1.5.0",
            "description_tooltip": null,
            "_model_module": "@jupyter-widgets/controls",
            "layout": "IPY_MODEL_60b612d016134e69aa8245c449d23d79"
          }
        },
        "f5c038466b274c30aca44bc6cb01e030": {
          "model_module": "@jupyter-widgets/controls",
          "model_name": "ProgressStyleModel",
          "state": {
            "_view_name": "StyleView",
            "_model_name": "ProgressStyleModel",
            "description_width": "initial",
            "_view_module": "@jupyter-widgets/base",
            "_model_module_version": "1.5.0",
            "_view_count": null,
            "_view_module_version": "1.2.0",
            "bar_color": null,
            "_model_module": "@jupyter-widgets/controls"
          }
        },
        "b0e2a3f9b463416a8190968b80836915": {
          "model_module": "@jupyter-widgets/base",
          "model_name": "LayoutModel",
          "state": {
            "_view_name": "LayoutView",
            "grid_template_rows": null,
            "right": null,
            "justify_content": null,
            "_view_module": "@jupyter-widgets/base",
            "overflow": null,
            "_model_module_version": "1.2.0",
            "_view_count": null,
            "flex_flow": null,
            "width": null,
            "min_width": null,
            "border": null,
            "align_items": null,
            "bottom": null,
            "_model_module": "@jupyter-widgets/base",
            "top": null,
            "grid_column": null,
            "overflow_y": null,
            "overflow_x": null,
            "grid_auto_flow": null,
            "grid_area": null,
            "grid_template_columns": null,
            "flex": null,
            "_model_name": "LayoutModel",
            "justify_items": null,
            "grid_row": null,
            "max_height": null,
            "align_content": null,
            "visibility": null,
            "align_self": null,
            "height": null,
            "min_height": null,
            "padding": null,
            "grid_auto_rows": null,
            "grid_gap": null,
            "max_width": null,
            "order": null,
            "_view_module_version": "1.2.0",
            "grid_template_areas": null,
            "object_position": null,
            "object_fit": null,
            "grid_auto_columns": null,
            "margin": null,
            "display": null,
            "left": null
          }
        },
        "2ef88a3416424c5cb31b0f88f75bad80": {
          "model_module": "@jupyter-widgets/controls",
          "model_name": "DescriptionStyleModel",
          "state": {
            "_view_name": "StyleView",
            "_model_name": "DescriptionStyleModel",
            "description_width": "",
            "_view_module": "@jupyter-widgets/base",
            "_model_module_version": "1.5.0",
            "_view_count": null,
            "_view_module_version": "1.2.0",
            "_model_module": "@jupyter-widgets/controls"
          }
        },
        "60b612d016134e69aa8245c449d23d79": {
          "model_module": "@jupyter-widgets/base",
          "model_name": "LayoutModel",
          "state": {
            "_view_name": "LayoutView",
            "grid_template_rows": null,
            "right": null,
            "justify_content": null,
            "_view_module": "@jupyter-widgets/base",
            "overflow": null,
            "_model_module_version": "1.2.0",
            "_view_count": null,
            "flex_flow": null,
            "width": null,
            "min_width": null,
            "border": null,
            "align_items": null,
            "bottom": null,
            "_model_module": "@jupyter-widgets/base",
            "top": null,
            "grid_column": null,
            "overflow_y": null,
            "overflow_x": null,
            "grid_auto_flow": null,
            "grid_area": null,
            "grid_template_columns": null,
            "flex": null,
            "_model_name": "LayoutModel",
            "justify_items": null,
            "grid_row": null,
            "max_height": null,
            "align_content": null,
            "visibility": null,
            "align_self": null,
            "height": null,
            "min_height": null,
            "padding": null,
            "grid_auto_rows": null,
            "grid_gap": null,
            "max_width": null,
            "order": null,
            "_view_module_version": "1.2.0",
            "grid_template_areas": null,
            "object_position": null,
            "object_fit": null,
            "grid_auto_columns": null,
            "margin": null,
            "display": null,
            "left": null
          }
        },
        "fe10f46d86db4cb48e79a3d716c34bde": {
          "model_module": "@jupyter-widgets/controls",
          "model_name": "HBoxModel",
          "state": {
            "_view_name": "HBoxView",
            "_dom_classes": [],
            "_model_name": "HBoxModel",
            "_view_module": "@jupyter-widgets/controls",
            "_model_module_version": "1.5.0",
            "_view_count": null,
            "_view_module_version": "1.5.0",
            "box_style": "",
            "layout": "IPY_MODEL_540f2aea3f8c4376ace8e03663ef4f57",
            "_model_module": "@jupyter-widgets/controls",
            "children": [
              "IPY_MODEL_3612b7ba4c614d9f9b71c3c8ad5d655f",
              "IPY_MODEL_e0c07678c721423f98bdff592bdb504f"
            ]
          }
        },
        "540f2aea3f8c4376ace8e03663ef4f57": {
          "model_module": "@jupyter-widgets/base",
          "model_name": "LayoutModel",
          "state": {
            "_view_name": "LayoutView",
            "grid_template_rows": null,
            "right": null,
            "justify_content": null,
            "_view_module": "@jupyter-widgets/base",
            "overflow": null,
            "_model_module_version": "1.2.0",
            "_view_count": null,
            "flex_flow": null,
            "width": null,
            "min_width": null,
            "border": null,
            "align_items": null,
            "bottom": null,
            "_model_module": "@jupyter-widgets/base",
            "top": null,
            "grid_column": null,
            "overflow_y": null,
            "overflow_x": null,
            "grid_auto_flow": null,
            "grid_area": null,
            "grid_template_columns": null,
            "flex": null,
            "_model_name": "LayoutModel",
            "justify_items": null,
            "grid_row": null,
            "max_height": null,
            "align_content": null,
            "visibility": null,
            "align_self": null,
            "height": null,
            "min_height": null,
            "padding": null,
            "grid_auto_rows": null,
            "grid_gap": null,
            "max_width": null,
            "order": null,
            "_view_module_version": "1.2.0",
            "grid_template_areas": null,
            "object_position": null,
            "object_fit": null,
            "grid_auto_columns": null,
            "margin": null,
            "display": null,
            "left": null
          }
        },
        "3612b7ba4c614d9f9b71c3c8ad5d655f": {
          "model_module": "@jupyter-widgets/controls",
          "model_name": "FloatProgressModel",
          "state": {
            "_view_name": "ProgressView",
            "style": "IPY_MODEL_5cb20815109844eb84332e3f94cf720f",
            "_dom_classes": [],
            "description": "Downloading: 100%",
            "_model_name": "FloatProgressModel",
            "bar_style": "success",
            "max": 2973279,
            "_view_module": "@jupyter-widgets/controls",
            "_model_module_version": "1.5.0",
            "value": 2973279,
            "_view_count": null,
            "_view_module_version": "1.5.0",
            "orientation": "horizontal",
            "min": 0,
            "description_tooltip": null,
            "_model_module": "@jupyter-widgets/controls",
            "layout": "IPY_MODEL_f3f6243f77d940c39417b7a35cc26c99"
          }
        },
        "e0c07678c721423f98bdff592bdb504f": {
          "model_module": "@jupyter-widgets/controls",
          "model_name": "HTMLModel",
          "state": {
            "_view_name": "HTMLView",
            "style": "IPY_MODEL_34877825e86344d69855da7beb391bf9",
            "_dom_classes": [],
            "description": "",
            "_model_name": "HTMLModel",
            "placeholder": "​",
            "_view_module": "@jupyter-widgets/controls",
            "_model_module_version": "1.5.0",
            "value": " 2.97M/2.97M [00:01&lt;00:00, 1.50MB/s]",
            "_view_count": null,
            "_view_module_version": "1.5.0",
            "description_tooltip": null,
            "_model_module": "@jupyter-widgets/controls",
            "layout": "IPY_MODEL_ae51e38cec114372814e6404001c4d55"
          }
        },
        "5cb20815109844eb84332e3f94cf720f": {
          "model_module": "@jupyter-widgets/controls",
          "model_name": "ProgressStyleModel",
          "state": {
            "_view_name": "StyleView",
            "_model_name": "ProgressStyleModel",
            "description_width": "initial",
            "_view_module": "@jupyter-widgets/base",
            "_model_module_version": "1.5.0",
            "_view_count": null,
            "_view_module_version": "1.2.0",
            "bar_color": null,
            "_model_module": "@jupyter-widgets/controls"
          }
        },
        "f3f6243f77d940c39417b7a35cc26c99": {
          "model_module": "@jupyter-widgets/base",
          "model_name": "LayoutModel",
          "state": {
            "_view_name": "LayoutView",
            "grid_template_rows": null,
            "right": null,
            "justify_content": null,
            "_view_module": "@jupyter-widgets/base",
            "overflow": null,
            "_model_module_version": "1.2.0",
            "_view_count": null,
            "flex_flow": null,
            "width": null,
            "min_width": null,
            "border": null,
            "align_items": null,
            "bottom": null,
            "_model_module": "@jupyter-widgets/base",
            "top": null,
            "grid_column": null,
            "overflow_y": null,
            "overflow_x": null,
            "grid_auto_flow": null,
            "grid_area": null,
            "grid_template_columns": null,
            "flex": null,
            "_model_name": "LayoutModel",
            "justify_items": null,
            "grid_row": null,
            "max_height": null,
            "align_content": null,
            "visibility": null,
            "align_self": null,
            "height": null,
            "min_height": null,
            "padding": null,
            "grid_auto_rows": null,
            "grid_gap": null,
            "max_width": null,
            "order": null,
            "_view_module_version": "1.2.0",
            "grid_template_areas": null,
            "object_position": null,
            "object_fit": null,
            "grid_auto_columns": null,
            "margin": null,
            "display": null,
            "left": null
          }
        },
        "34877825e86344d69855da7beb391bf9": {
          "model_module": "@jupyter-widgets/controls",
          "model_name": "DescriptionStyleModel",
          "state": {
            "_view_name": "StyleView",
            "_model_name": "DescriptionStyleModel",
            "description_width": "",
            "_view_module": "@jupyter-widgets/base",
            "_model_module_version": "1.5.0",
            "_view_count": null,
            "_view_module_version": "1.2.0",
            "_model_module": "@jupyter-widgets/controls"
          }
        },
        "ae51e38cec114372814e6404001c4d55": {
          "model_module": "@jupyter-widgets/base",
          "model_name": "LayoutModel",
          "state": {
            "_view_name": "LayoutView",
            "grid_template_rows": null,
            "right": null,
            "justify_content": null,
            "_view_module": "@jupyter-widgets/base",
            "overflow": null,
            "_model_module_version": "1.2.0",
            "_view_count": null,
            "flex_flow": null,
            "width": null,
            "min_width": null,
            "border": null,
            "align_items": null,
            "bottom": null,
            "_model_module": "@jupyter-widgets/base",
            "top": null,
            "grid_column": null,
            "overflow_y": null,
            "overflow_x": null,
            "grid_auto_flow": null,
            "grid_area": null,
            "grid_template_columns": null,
            "flex": null,
            "_model_name": "LayoutModel",
            "justify_items": null,
            "grid_row": null,
            "max_height": null,
            "align_content": null,
            "visibility": null,
            "align_self": null,
            "height": null,
            "min_height": null,
            "padding": null,
            "grid_auto_rows": null,
            "grid_gap": null,
            "max_width": null,
            "order": null,
            "_view_module_version": "1.2.0",
            "grid_template_areas": null,
            "object_position": null,
            "object_fit": null,
            "grid_auto_columns": null,
            "margin": null,
            "display": null,
            "left": null
          }
        },
        "4b66f68040d44d31b93417c0930c91cb": {
          "model_module": "@jupyter-widgets/controls",
          "model_name": "HBoxModel",
          "state": {
            "_view_name": "HBoxView",
            "_dom_classes": [],
            "_model_name": "HBoxModel",
            "_view_module": "@jupyter-widgets/controls",
            "_model_module_version": "1.5.0",
            "_view_count": null,
            "_view_module_version": "1.5.0",
            "box_style": "",
            "layout": "IPY_MODEL_5e95a098bfbd4067b08922d261283f84",
            "_model_module": "@jupyter-widgets/controls",
            "children": [
              "IPY_MODEL_d97793aff57b45c48852f8527467732e",
              "IPY_MODEL_52fa3a10804e48da9e1db8555ec780a3"
            ]
          }
        },
        "5e95a098bfbd4067b08922d261283f84": {
          "model_module": "@jupyter-widgets/base",
          "model_name": "LayoutModel",
          "state": {
            "_view_name": "LayoutView",
            "grid_template_rows": null,
            "right": null,
            "justify_content": null,
            "_view_module": "@jupyter-widgets/base",
            "overflow": null,
            "_model_module_version": "1.2.0",
            "_view_count": null,
            "flex_flow": null,
            "width": null,
            "min_width": null,
            "border": null,
            "align_items": null,
            "bottom": null,
            "_model_module": "@jupyter-widgets/base",
            "top": null,
            "grid_column": null,
            "overflow_y": null,
            "overflow_x": null,
            "grid_auto_flow": null,
            "grid_area": null,
            "grid_template_columns": null,
            "flex": null,
            "_model_name": "LayoutModel",
            "justify_items": null,
            "grid_row": null,
            "max_height": null,
            "align_content": null,
            "visibility": null,
            "align_self": null,
            "height": null,
            "min_height": null,
            "padding": null,
            "grid_auto_rows": null,
            "grid_gap": null,
            "max_width": null,
            "order": null,
            "_view_module_version": "1.2.0",
            "grid_template_areas": null,
            "object_position": null,
            "object_fit": null,
            "grid_auto_columns": null,
            "margin": null,
            "display": null,
            "left": null
          }
        },
        "d97793aff57b45c48852f8527467732e": {
          "model_module": "@jupyter-widgets/controls",
          "model_name": "FloatProgressModel",
          "state": {
            "_view_name": "ProgressView",
            "style": "IPY_MODEL_872f69b2a6a640a38c7fdab705555805",
            "_dom_classes": [],
            "description": "Downloading: 100%",
            "_model_name": "FloatProgressModel",
            "bar_style": "success",
            "max": 2350,
            "_view_module": "@jupyter-widgets/controls",
            "_model_module_version": "1.5.0",
            "value": 2350,
            "_view_count": null,
            "_view_module_version": "1.5.0",
            "orientation": "horizontal",
            "min": 0,
            "description_tooltip": null,
            "_model_module": "@jupyter-widgets/controls",
            "layout": "IPY_MODEL_eafeddefec514897934a9f389782d2fb"
          }
        },
        "52fa3a10804e48da9e1db8555ec780a3": {
          "model_module": "@jupyter-widgets/controls",
          "model_name": "HTMLModel",
          "state": {
            "_view_name": "HTMLView",
            "style": "IPY_MODEL_7ef1d7f750254280afd744244bf7039a",
            "_dom_classes": [],
            "description": "",
            "_model_name": "HTMLModel",
            "placeholder": "​",
            "_view_module": "@jupyter-widgets/controls",
            "_model_module_version": "1.5.0",
            "value": " 2.35k/2.35k [00:00&lt;00:00, 4.52kB/s]",
            "_view_count": null,
            "_view_module_version": "1.5.0",
            "description_tooltip": null,
            "_model_module": "@jupyter-widgets/controls",
            "layout": "IPY_MODEL_cdcf14ff59dd49d0b71360f5287880da"
          }
        },
        "872f69b2a6a640a38c7fdab705555805": {
          "model_module": "@jupyter-widgets/controls",
          "model_name": "ProgressStyleModel",
          "state": {
            "_view_name": "StyleView",
            "_model_name": "ProgressStyleModel",
            "description_width": "initial",
            "_view_module": "@jupyter-widgets/base",
            "_model_module_version": "1.5.0",
            "_view_count": null,
            "_view_module_version": "1.2.0",
            "bar_color": null,
            "_model_module": "@jupyter-widgets/controls"
          }
        },
        "eafeddefec514897934a9f389782d2fb": {
          "model_module": "@jupyter-widgets/base",
          "model_name": "LayoutModel",
          "state": {
            "_view_name": "LayoutView",
            "grid_template_rows": null,
            "right": null,
            "justify_content": null,
            "_view_module": "@jupyter-widgets/base",
            "overflow": null,
            "_model_module_version": "1.2.0",
            "_view_count": null,
            "flex_flow": null,
            "width": null,
            "min_width": null,
            "border": null,
            "align_items": null,
            "bottom": null,
            "_model_module": "@jupyter-widgets/base",
            "top": null,
            "grid_column": null,
            "overflow_y": null,
            "overflow_x": null,
            "grid_auto_flow": null,
            "grid_area": null,
            "grid_template_columns": null,
            "flex": null,
            "_model_name": "LayoutModel",
            "justify_items": null,
            "grid_row": null,
            "max_height": null,
            "align_content": null,
            "visibility": null,
            "align_self": null,
            "height": null,
            "min_height": null,
            "padding": null,
            "grid_auto_rows": null,
            "grid_gap": null,
            "max_width": null,
            "order": null,
            "_view_module_version": "1.2.0",
            "grid_template_areas": null,
            "object_position": null,
            "object_fit": null,
            "grid_auto_columns": null,
            "margin": null,
            "display": null,
            "left": null
          }
        },
        "7ef1d7f750254280afd744244bf7039a": {
          "model_module": "@jupyter-widgets/controls",
          "model_name": "DescriptionStyleModel",
          "state": {
            "_view_name": "StyleView",
            "_model_name": "DescriptionStyleModel",
            "description_width": "",
            "_view_module": "@jupyter-widgets/base",
            "_model_module_version": "1.5.0",
            "_view_count": null,
            "_view_module_version": "1.2.0",
            "_model_module": "@jupyter-widgets/controls"
          }
        },
        "cdcf14ff59dd49d0b71360f5287880da": {
          "model_module": "@jupyter-widgets/base",
          "model_name": "LayoutModel",
          "state": {
            "_view_name": "LayoutView",
            "grid_template_rows": null,
            "right": null,
            "justify_content": null,
            "_view_module": "@jupyter-widgets/base",
            "overflow": null,
            "_model_module_version": "1.2.0",
            "_view_count": null,
            "flex_flow": null,
            "width": null,
            "min_width": null,
            "border": null,
            "align_items": null,
            "bottom": null,
            "_model_module": "@jupyter-widgets/base",
            "top": null,
            "grid_column": null,
            "overflow_y": null,
            "overflow_x": null,
            "grid_auto_flow": null,
            "grid_area": null,
            "grid_template_columns": null,
            "flex": null,
            "_model_name": "LayoutModel",
            "justify_items": null,
            "grid_row": null,
            "max_height": null,
            "align_content": null,
            "visibility": null,
            "align_self": null,
            "height": null,
            "min_height": null,
            "padding": null,
            "grid_auto_rows": null,
            "grid_gap": null,
            "max_width": null,
            "order": null,
            "_view_module_version": "1.2.0",
            "grid_template_areas": null,
            "object_position": null,
            "object_fit": null,
            "grid_auto_columns": null,
            "margin": null,
            "display": null,
            "left": null
          }
        },
        "80ef4b2b3a13464eba66fa4b4e3a165f": {
          "model_module": "@jupyter-widgets/controls",
          "model_name": "HBoxModel",
          "state": {
            "_view_name": "HBoxView",
            "_dom_classes": [],
            "_model_name": "HBoxModel",
            "_view_module": "@jupyter-widgets/controls",
            "_model_module_version": "1.5.0",
            "_view_count": null,
            "_view_module_version": "1.5.0",
            "box_style": "",
            "layout": "IPY_MODEL_29a4bdb8190b41d5baddc531c0272dd4",
            "_model_module": "@jupyter-widgets/controls",
            "children": [
              "IPY_MODEL_747a07dc010043de850c379c1ce5e414",
              "IPY_MODEL_c2862f435c194e65a93a6ef9fb135700"
            ]
          }
        },
        "29a4bdb8190b41d5baddc531c0272dd4": {
          "model_module": "@jupyter-widgets/base",
          "model_name": "LayoutModel",
          "state": {
            "_view_name": "LayoutView",
            "grid_template_rows": null,
            "right": null,
            "justify_content": null,
            "_view_module": "@jupyter-widgets/base",
            "overflow": null,
            "_model_module_version": "1.2.0",
            "_view_count": null,
            "flex_flow": null,
            "width": null,
            "min_width": null,
            "border": null,
            "align_items": null,
            "bottom": null,
            "_model_module": "@jupyter-widgets/base",
            "top": null,
            "grid_column": null,
            "overflow_y": null,
            "overflow_x": null,
            "grid_auto_flow": null,
            "grid_area": null,
            "grid_template_columns": null,
            "flex": null,
            "_model_name": "LayoutModel",
            "justify_items": null,
            "grid_row": null,
            "max_height": null,
            "align_content": null,
            "visibility": null,
            "align_self": null,
            "height": null,
            "min_height": null,
            "padding": null,
            "grid_auto_rows": null,
            "grid_gap": null,
            "max_width": null,
            "order": null,
            "_view_module_version": "1.2.0",
            "grid_template_areas": null,
            "object_position": null,
            "object_fit": null,
            "grid_auto_columns": null,
            "margin": null,
            "display": null,
            "left": null
          }
        },
        "747a07dc010043de850c379c1ce5e414": {
          "model_module": "@jupyter-widgets/controls",
          "model_name": "FloatProgressModel",
          "state": {
            "_view_name": "ProgressView",
            "style": "IPY_MODEL_7d85813147654a5896cf085d5328b075",
            "_dom_classes": [],
            "description": "Downloading: 100%",
            "_model_name": "FloatProgressModel",
            "bar_style": "success",
            "max": 41937,
            "_view_module": "@jupyter-widgets/controls",
            "_model_module_version": "1.5.0",
            "value": 41937,
            "_view_count": null,
            "_view_module_version": "1.5.0",
            "orientation": "horizontal",
            "min": 0,
            "description_tooltip": null,
            "_model_module": "@jupyter-widgets/controls",
            "layout": "IPY_MODEL_79f9c732b8764bd9b5ff639601bdca3b"
          }
        },
        "c2862f435c194e65a93a6ef9fb135700": {
          "model_module": "@jupyter-widgets/controls",
          "model_name": "HTMLModel",
          "state": {
            "_view_name": "HTMLView",
            "style": "IPY_MODEL_6a13254b3f5e494883c03def640471c7",
            "_dom_classes": [],
            "description": "",
            "_model_name": "HTMLModel",
            "placeholder": "​",
            "_view_module": "@jupyter-widgets/controls",
            "_model_module_version": "1.5.0",
            "value": " 41.9k/41.9k [00:00&lt;00:00, 166kB/s]",
            "_view_count": null,
            "_view_module_version": "1.5.0",
            "description_tooltip": null,
            "_model_module": "@jupyter-widgets/controls",
            "layout": "IPY_MODEL_fe3a8af239cd441f9674b0b38ce8b37d"
          }
        },
        "7d85813147654a5896cf085d5328b075": {
          "model_module": "@jupyter-widgets/controls",
          "model_name": "ProgressStyleModel",
          "state": {
            "_view_name": "StyleView",
            "_model_name": "ProgressStyleModel",
            "description_width": "initial",
            "_view_module": "@jupyter-widgets/base",
            "_model_module_version": "1.5.0",
            "_view_count": null,
            "_view_module_version": "1.2.0",
            "bar_color": null,
            "_model_module": "@jupyter-widgets/controls"
          }
        },
        "79f9c732b8764bd9b5ff639601bdca3b": {
          "model_module": "@jupyter-widgets/base",
          "model_name": "LayoutModel",
          "state": {
            "_view_name": "LayoutView",
            "grid_template_rows": null,
            "right": null,
            "justify_content": null,
            "_view_module": "@jupyter-widgets/base",
            "overflow": null,
            "_model_module_version": "1.2.0",
            "_view_count": null,
            "flex_flow": null,
            "width": null,
            "min_width": null,
            "border": null,
            "align_items": null,
            "bottom": null,
            "_model_module": "@jupyter-widgets/base",
            "top": null,
            "grid_column": null,
            "overflow_y": null,
            "overflow_x": null,
            "grid_auto_flow": null,
            "grid_area": null,
            "grid_template_columns": null,
            "flex": null,
            "_model_name": "LayoutModel",
            "justify_items": null,
            "grid_row": null,
            "max_height": null,
            "align_content": null,
            "visibility": null,
            "align_self": null,
            "height": null,
            "min_height": null,
            "padding": null,
            "grid_auto_rows": null,
            "grid_gap": null,
            "max_width": null,
            "order": null,
            "_view_module_version": "1.2.0",
            "grid_template_areas": null,
            "object_position": null,
            "object_fit": null,
            "grid_auto_columns": null,
            "margin": null,
            "display": null,
            "left": null
          }
        },
        "6a13254b3f5e494883c03def640471c7": {
          "model_module": "@jupyter-widgets/controls",
          "model_name": "DescriptionStyleModel",
          "state": {
            "_view_name": "StyleView",
            "_model_name": "DescriptionStyleModel",
            "description_width": "",
            "_view_module": "@jupyter-widgets/base",
            "_model_module_version": "1.5.0",
            "_view_count": null,
            "_view_module_version": "1.2.0",
            "_model_module": "@jupyter-widgets/controls"
          }
        },
        "fe3a8af239cd441f9674b0b38ce8b37d": {
          "model_module": "@jupyter-widgets/base",
          "model_name": "LayoutModel",
          "state": {
            "_view_name": "LayoutView",
            "grid_template_rows": null,
            "right": null,
            "justify_content": null,
            "_view_module": "@jupyter-widgets/base",
            "overflow": null,
            "_model_module_version": "1.2.0",
            "_view_count": null,
            "flex_flow": null,
            "width": null,
            "min_width": null,
            "border": null,
            "align_items": null,
            "bottom": null,
            "_model_module": "@jupyter-widgets/base",
            "top": null,
            "grid_column": null,
            "overflow_y": null,
            "overflow_x": null,
            "grid_auto_flow": null,
            "grid_area": null,
            "grid_template_columns": null,
            "flex": null,
            "_model_name": "LayoutModel",
            "justify_items": null,
            "grid_row": null,
            "max_height": null,
            "align_content": null,
            "visibility": null,
            "align_self": null,
            "height": null,
            "min_height": null,
            "padding": null,
            "grid_auto_rows": null,
            "grid_gap": null,
            "max_width": null,
            "order": null,
            "_view_module_version": "1.2.0",
            "grid_template_areas": null,
            "object_position": null,
            "object_fit": null,
            "grid_auto_columns": null,
            "margin": null,
            "display": null,
            "left": null
          }
        },
        "01503773152d4a349480917ba64a8b01": {
          "model_module": "@jupyter-widgets/controls",
          "model_name": "HBoxModel",
          "state": {
            "_view_name": "HBoxView",
            "_dom_classes": [],
            "_model_name": "HBoxModel",
            "_view_module": "@jupyter-widgets/controls",
            "_model_module_version": "1.5.0",
            "_view_count": null,
            "_view_module_version": "1.5.0",
            "box_style": "",
            "layout": "IPY_MODEL_287377dfe8d74abfa4757a31dbabaecb",
            "_model_module": "@jupyter-widgets/controls",
            "children": [
              "IPY_MODEL_65056786ca2448cfa40a069aa66ee0b7",
              "IPY_MODEL_819929a2d17242739502c282adfd0617"
            ]
          }
        },
        "287377dfe8d74abfa4757a31dbabaecb": {
          "model_module": "@jupyter-widgets/base",
          "model_name": "LayoutModel",
          "state": {
            "_view_name": "LayoutView",
            "grid_template_rows": null,
            "right": null,
            "justify_content": null,
            "_view_module": "@jupyter-widgets/base",
            "overflow": null,
            "_model_module_version": "1.2.0",
            "_view_count": null,
            "flex_flow": null,
            "width": null,
            "min_width": null,
            "border": null,
            "align_items": null,
            "bottom": null,
            "_model_module": "@jupyter-widgets/base",
            "top": null,
            "grid_column": null,
            "overflow_y": null,
            "overflow_x": null,
            "grid_auto_flow": null,
            "grid_area": null,
            "grid_template_columns": null,
            "flex": null,
            "_model_name": "LayoutModel",
            "justify_items": null,
            "grid_row": null,
            "max_height": null,
            "align_content": null,
            "visibility": null,
            "align_self": null,
            "height": null,
            "min_height": null,
            "padding": null,
            "grid_auto_rows": null,
            "grid_gap": null,
            "max_width": null,
            "order": null,
            "_view_module_version": "1.2.0",
            "grid_template_areas": null,
            "object_position": null,
            "object_fit": null,
            "grid_auto_columns": null,
            "margin": null,
            "display": null,
            "left": null
          }
        },
        "65056786ca2448cfa40a069aa66ee0b7": {
          "model_module": "@jupyter-widgets/controls",
          "model_name": "FloatProgressModel",
          "state": {
            "_view_name": "ProgressView",
            "style": "IPY_MODEL_bd720d4c2f3f4638bfa7132c9102340e",
            "_dom_classes": [],
            "description": "Downloading: 100%",
            "_model_name": "FloatProgressModel",
            "bar_style": "success",
            "max": 1143436263,
            "_view_module": "@jupyter-widgets/controls",
            "_model_module_version": "1.5.0",
            "value": 1143436263,
            "_view_count": null,
            "_view_module_version": "1.5.0",
            "orientation": "horizontal",
            "min": 0,
            "description_tooltip": null,
            "_model_module": "@jupyter-widgets/controls",
            "layout": "IPY_MODEL_7f78c684e2e447de83976d5b01e8f3d0"
          }
        },
        "819929a2d17242739502c282adfd0617": {
          "model_module": "@jupyter-widgets/controls",
          "model_name": "HTMLModel",
          "state": {
            "_view_name": "HTMLView",
            "style": "IPY_MODEL_7e7c950341a24cb78a98c1f8f90b7a35",
            "_dom_classes": [],
            "description": "",
            "_model_name": "HTMLModel",
            "placeholder": "​",
            "_view_module": "@jupyter-widgets/controls",
            "_model_module_version": "1.5.0",
            "value": " 1.14G/1.14G [00:24&lt;00:00, 46.8MB/s]",
            "_view_count": null,
            "_view_module_version": "1.5.0",
            "description_tooltip": null,
            "_model_module": "@jupyter-widgets/controls",
            "layout": "IPY_MODEL_953a4ef3e3fb4bd6bff2ec759df9649c"
          }
        },
        "bd720d4c2f3f4638bfa7132c9102340e": {
          "model_module": "@jupyter-widgets/controls",
          "model_name": "ProgressStyleModel",
          "state": {
            "_view_name": "StyleView",
            "_model_name": "ProgressStyleModel",
            "description_width": "initial",
            "_view_module": "@jupyter-widgets/base",
            "_model_module_version": "1.5.0",
            "_view_count": null,
            "_view_module_version": "1.2.0",
            "bar_color": null,
            "_model_module": "@jupyter-widgets/controls"
          }
        },
        "7f78c684e2e447de83976d5b01e8f3d0": {
          "model_module": "@jupyter-widgets/base",
          "model_name": "LayoutModel",
          "state": {
            "_view_name": "LayoutView",
            "grid_template_rows": null,
            "right": null,
            "justify_content": null,
            "_view_module": "@jupyter-widgets/base",
            "overflow": null,
            "_model_module_version": "1.2.0",
            "_view_count": null,
            "flex_flow": null,
            "width": null,
            "min_width": null,
            "border": null,
            "align_items": null,
            "bottom": null,
            "_model_module": "@jupyter-widgets/base",
            "top": null,
            "grid_column": null,
            "overflow_y": null,
            "overflow_x": null,
            "grid_auto_flow": null,
            "grid_area": null,
            "grid_template_columns": null,
            "flex": null,
            "_model_name": "LayoutModel",
            "justify_items": null,
            "grid_row": null,
            "max_height": null,
            "align_content": null,
            "visibility": null,
            "align_self": null,
            "height": null,
            "min_height": null,
            "padding": null,
            "grid_auto_rows": null,
            "grid_gap": null,
            "max_width": null,
            "order": null,
            "_view_module_version": "1.2.0",
            "grid_template_areas": null,
            "object_position": null,
            "object_fit": null,
            "grid_auto_columns": null,
            "margin": null,
            "display": null,
            "left": null
          }
        },
        "7e7c950341a24cb78a98c1f8f90b7a35": {
          "model_module": "@jupyter-widgets/controls",
          "model_name": "DescriptionStyleModel",
          "state": {
            "_view_name": "StyleView",
            "_model_name": "DescriptionStyleModel",
            "description_width": "",
            "_view_module": "@jupyter-widgets/base",
            "_model_module_version": "1.5.0",
            "_view_count": null,
            "_view_module_version": "1.2.0",
            "_model_module": "@jupyter-widgets/controls"
          }
        },
        "953a4ef3e3fb4bd6bff2ec759df9649c": {
          "model_module": "@jupyter-widgets/base",
          "model_name": "LayoutModel",
          "state": {
            "_view_name": "LayoutView",
            "grid_template_rows": null,
            "right": null,
            "justify_content": null,
            "_view_module": "@jupyter-widgets/base",
            "overflow": null,
            "_model_module_version": "1.2.0",
            "_view_count": null,
            "flex_flow": null,
            "width": null,
            "min_width": null,
            "border": null,
            "align_items": null,
            "bottom": null,
            "_model_module": "@jupyter-widgets/base",
            "top": null,
            "grid_column": null,
            "overflow_y": null,
            "overflow_x": null,
            "grid_auto_flow": null,
            "grid_area": null,
            "grid_template_columns": null,
            "flex": null,
            "_model_name": "LayoutModel",
            "justify_items": null,
            "grid_row": null,
            "max_height": null,
            "align_content": null,
            "visibility": null,
            "align_self": null,
            "height": null,
            "min_height": null,
            "padding": null,
            "grid_auto_rows": null,
            "grid_gap": null,
            "max_width": null,
            "order": null,
            "_view_module_version": "1.2.0",
            "grid_template_areas": null,
            "object_position": null,
            "object_fit": null,
            "grid_auto_columns": null,
            "margin": null,
            "display": null,
            "left": null
          }
        },
        "830a66cbfda846edaa0fe1345467a615": {
          "model_module": "@jupyter-widgets/controls",
          "model_name": "HBoxModel",
          "state": {
            "_view_name": "HBoxView",
            "_dom_classes": [],
            "_model_name": "HBoxModel",
            "_view_module": "@jupyter-widgets/controls",
            "_model_module_version": "1.5.0",
            "_view_count": null,
            "_view_module_version": "1.5.0",
            "box_style": "",
            "layout": "IPY_MODEL_5774670b34cf4735bbe0930d04b09329",
            "_model_module": "@jupyter-widgets/controls",
            "children": [
              "IPY_MODEL_f8dc00919f1348cd92437428c8752a9c",
              "IPY_MODEL_7849e5571d584e81af92bd76d5f29280"
            ]
          }
        },
        "5774670b34cf4735bbe0930d04b09329": {
          "model_module": "@jupyter-widgets/base",
          "model_name": "LayoutModel",
          "state": {
            "_view_name": "LayoutView",
            "grid_template_rows": null,
            "right": null,
            "justify_content": null,
            "_view_module": "@jupyter-widgets/base",
            "overflow": null,
            "_model_module_version": "1.2.0",
            "_view_count": null,
            "flex_flow": null,
            "width": null,
            "min_width": null,
            "border": null,
            "align_items": null,
            "bottom": null,
            "_model_module": "@jupyter-widgets/base",
            "top": null,
            "grid_column": null,
            "overflow_y": null,
            "overflow_x": null,
            "grid_auto_flow": null,
            "grid_area": null,
            "grid_template_columns": null,
            "flex": null,
            "_model_name": "LayoutModel",
            "justify_items": null,
            "grid_row": null,
            "max_height": null,
            "align_content": null,
            "visibility": null,
            "align_self": null,
            "height": null,
            "min_height": null,
            "padding": null,
            "grid_auto_rows": null,
            "grid_gap": null,
            "max_width": null,
            "order": null,
            "_view_module_version": "1.2.0",
            "grid_template_areas": null,
            "object_position": null,
            "object_fit": null,
            "grid_auto_columns": null,
            "margin": null,
            "display": null,
            "left": null
          }
        },
        "f8dc00919f1348cd92437428c8752a9c": {
          "model_module": "@jupyter-widgets/controls",
          "model_name": "FloatProgressModel",
          "state": {
            "_view_name": "ProgressView",
            "style": "IPY_MODEL_fffad4e1c40b4114a9f60912ae5a9512",
            "_dom_classes": [],
            "description": "Downloading: 100%",
            "_model_name": "FloatProgressModel",
            "bar_style": "success",
            "max": 995526,
            "_view_module": "@jupyter-widgets/controls",
            "_model_module_version": "1.5.0",
            "value": 995526,
            "_view_count": null,
            "_view_module_version": "1.5.0",
            "orientation": "horizontal",
            "min": 0,
            "description_tooltip": null,
            "_model_module": "@jupyter-widgets/controls",
            "layout": "IPY_MODEL_c0d9eaf46f804f1ba5bcc368e1da46c8"
          }
        },
        "7849e5571d584e81af92bd76d5f29280": {
          "model_module": "@jupyter-widgets/controls",
          "model_name": "HTMLModel",
          "state": {
            "_view_name": "HTMLView",
            "style": "IPY_MODEL_04bbabd9ad854475b6b8d615eb543900",
            "_dom_classes": [],
            "description": "",
            "_model_name": "HTMLModel",
            "placeholder": "​",
            "_view_module": "@jupyter-widgets/controls",
            "_model_module_version": "1.5.0",
            "value": " 996k/996k [00:02&lt;00:00, 416kB/s]",
            "_view_count": null,
            "_view_module_version": "1.5.0",
            "description_tooltip": null,
            "_model_module": "@jupyter-widgets/controls",
            "layout": "IPY_MODEL_5df7539bb56e4aa38708d117bf72684c"
          }
        },
        "fffad4e1c40b4114a9f60912ae5a9512": {
          "model_module": "@jupyter-widgets/controls",
          "model_name": "ProgressStyleModel",
          "state": {
            "_view_name": "StyleView",
            "_model_name": "ProgressStyleModel",
            "description_width": "initial",
            "_view_module": "@jupyter-widgets/base",
            "_model_module_version": "1.5.0",
            "_view_count": null,
            "_view_module_version": "1.2.0",
            "bar_color": null,
            "_model_module": "@jupyter-widgets/controls"
          }
        },
        "c0d9eaf46f804f1ba5bcc368e1da46c8": {
          "model_module": "@jupyter-widgets/base",
          "model_name": "LayoutModel",
          "state": {
            "_view_name": "LayoutView",
            "grid_template_rows": null,
            "right": null,
            "justify_content": null,
            "_view_module": "@jupyter-widgets/base",
            "overflow": null,
            "_model_module_version": "1.2.0",
            "_view_count": null,
            "flex_flow": null,
            "width": null,
            "min_width": null,
            "border": null,
            "align_items": null,
            "bottom": null,
            "_model_module": "@jupyter-widgets/base",
            "top": null,
            "grid_column": null,
            "overflow_y": null,
            "overflow_x": null,
            "grid_auto_flow": null,
            "grid_area": null,
            "grid_template_columns": null,
            "flex": null,
            "_model_name": "LayoutModel",
            "justify_items": null,
            "grid_row": null,
            "max_height": null,
            "align_content": null,
            "visibility": null,
            "align_self": null,
            "height": null,
            "min_height": null,
            "padding": null,
            "grid_auto_rows": null,
            "grid_gap": null,
            "max_width": null,
            "order": null,
            "_view_module_version": "1.2.0",
            "grid_template_areas": null,
            "object_position": null,
            "object_fit": null,
            "grid_auto_columns": null,
            "margin": null,
            "display": null,
            "left": null
          }
        },
        "04bbabd9ad854475b6b8d615eb543900": {
          "model_module": "@jupyter-widgets/controls",
          "model_name": "DescriptionStyleModel",
          "state": {
            "_view_name": "StyleView",
            "_model_name": "DescriptionStyleModel",
            "description_width": "",
            "_view_module": "@jupyter-widgets/base",
            "_model_module_version": "1.5.0",
            "_view_count": null,
            "_view_module_version": "1.2.0",
            "_model_module": "@jupyter-widgets/controls"
          }
        },
        "5df7539bb56e4aa38708d117bf72684c": {
          "model_module": "@jupyter-widgets/base",
          "model_name": "LayoutModel",
          "state": {
            "_view_name": "LayoutView",
            "grid_template_rows": null,
            "right": null,
            "justify_content": null,
            "_view_module": "@jupyter-widgets/base",
            "overflow": null,
            "_model_module_version": "1.2.0",
            "_view_count": null,
            "flex_flow": null,
            "width": null,
            "min_width": null,
            "border": null,
            "align_items": null,
            "bottom": null,
            "_model_module": "@jupyter-widgets/base",
            "top": null,
            "grid_column": null,
            "overflow_y": null,
            "overflow_x": null,
            "grid_auto_flow": null,
            "grid_area": null,
            "grid_template_columns": null,
            "flex": null,
            "_model_name": "LayoutModel",
            "justify_items": null,
            "grid_row": null,
            "max_height": null,
            "align_content": null,
            "visibility": null,
            "align_self": null,
            "height": null,
            "min_height": null,
            "padding": null,
            "grid_auto_rows": null,
            "grid_gap": null,
            "max_width": null,
            "order": null,
            "_view_module_version": "1.2.0",
            "grid_template_areas": null,
            "object_position": null,
            "object_fit": null,
            "grid_auto_columns": null,
            "margin": null,
            "display": null,
            "left": null
          }
        },
        "2d815336677946b5aa0155f5cfdd92cd": {
          "model_module": "@jupyter-widgets/controls",
          "model_name": "HBoxModel",
          "state": {
            "_view_name": "HBoxView",
            "_dom_classes": [],
            "_model_name": "HBoxModel",
            "_view_module": "@jupyter-widgets/controls",
            "_model_module_version": "1.5.0",
            "_view_count": null,
            "_view_module_version": "1.5.0",
            "box_style": "",
            "layout": "IPY_MODEL_5c86e1cffe324ae68b8043075f9aca04",
            "_model_module": "@jupyter-widgets/controls",
            "children": [
              "IPY_MODEL_246f1a36fc7a4b1aa0b8deecc8c397fb",
              "IPY_MODEL_8ef389529cae40e89b52af1bb5f4b85e"
            ]
          }
        },
        "5c86e1cffe324ae68b8043075f9aca04": {
          "model_module": "@jupyter-widgets/base",
          "model_name": "LayoutModel",
          "state": {
            "_view_name": "LayoutView",
            "grid_template_rows": null,
            "right": null,
            "justify_content": null,
            "_view_module": "@jupyter-widgets/base",
            "overflow": null,
            "_model_module_version": "1.2.0",
            "_view_count": null,
            "flex_flow": null,
            "width": null,
            "min_width": null,
            "border": null,
            "align_items": null,
            "bottom": null,
            "_model_module": "@jupyter-widgets/base",
            "top": null,
            "grid_column": null,
            "overflow_y": null,
            "overflow_x": null,
            "grid_auto_flow": null,
            "grid_area": null,
            "grid_template_columns": null,
            "flex": null,
            "_model_name": "LayoutModel",
            "justify_items": null,
            "grid_row": null,
            "max_height": null,
            "align_content": null,
            "visibility": null,
            "align_self": null,
            "height": null,
            "min_height": null,
            "padding": null,
            "grid_auto_rows": null,
            "grid_gap": null,
            "max_width": null,
            "order": null,
            "_view_module_version": "1.2.0",
            "grid_template_areas": null,
            "object_position": null,
            "object_fit": null,
            "grid_auto_columns": null,
            "margin": null,
            "display": null,
            "left": null
          }
        },
        "246f1a36fc7a4b1aa0b8deecc8c397fb": {
          "model_module": "@jupyter-widgets/controls",
          "model_name": "FloatProgressModel",
          "state": {
            "_view_name": "ProgressView",
            "style": "IPY_MODEL_30b518b24d264bf5bef8ceff7497a0fb",
            "_dom_classes": [],
            "description": "Downloading: 100%",
            "_model_name": "FloatProgressModel",
            "bar_style": "success",
            "max": 29,
            "_view_module": "@jupyter-widgets/controls",
            "_model_module_version": "1.5.0",
            "value": 29,
            "_view_count": null,
            "_view_module_version": "1.5.0",
            "orientation": "horizontal",
            "min": 0,
            "description_tooltip": null,
            "_model_module": "@jupyter-widgets/controls",
            "layout": "IPY_MODEL_b7d5b33a0a6b428e90c4c5a97bfe48f0"
          }
        },
        "8ef389529cae40e89b52af1bb5f4b85e": {
          "model_module": "@jupyter-widgets/controls",
          "model_name": "HTMLModel",
          "state": {
            "_view_name": "HTMLView",
            "style": "IPY_MODEL_32e60633b8fd4bfabdf181a5e5a26d27",
            "_dom_classes": [],
            "description": "",
            "_model_name": "HTMLModel",
            "placeholder": "​",
            "_view_module": "@jupyter-widgets/controls",
            "_model_module_version": "1.5.0",
            "value": " 29.0/29.0 [00:01&lt;00:00, 27.7B/s]",
            "_view_count": null,
            "_view_module_version": "1.5.0",
            "description_tooltip": null,
            "_model_module": "@jupyter-widgets/controls",
            "layout": "IPY_MODEL_537a477195f24a2eaf7bd9a452f5b4c8"
          }
        },
        "30b518b24d264bf5bef8ceff7497a0fb": {
          "model_module": "@jupyter-widgets/controls",
          "model_name": "ProgressStyleModel",
          "state": {
            "_view_name": "StyleView",
            "_model_name": "ProgressStyleModel",
            "description_width": "initial",
            "_view_module": "@jupyter-widgets/base",
            "_model_module_version": "1.5.0",
            "_view_count": null,
            "_view_module_version": "1.2.0",
            "bar_color": null,
            "_model_module": "@jupyter-widgets/controls"
          }
        },
        "b7d5b33a0a6b428e90c4c5a97bfe48f0": {
          "model_module": "@jupyter-widgets/base",
          "model_name": "LayoutModel",
          "state": {
            "_view_name": "LayoutView",
            "grid_template_rows": null,
            "right": null,
            "justify_content": null,
            "_view_module": "@jupyter-widgets/base",
            "overflow": null,
            "_model_module_version": "1.2.0",
            "_view_count": null,
            "flex_flow": null,
            "width": null,
            "min_width": null,
            "border": null,
            "align_items": null,
            "bottom": null,
            "_model_module": "@jupyter-widgets/base",
            "top": null,
            "grid_column": null,
            "overflow_y": null,
            "overflow_x": null,
            "grid_auto_flow": null,
            "grid_area": null,
            "grid_template_columns": null,
            "flex": null,
            "_model_name": "LayoutModel",
            "justify_items": null,
            "grid_row": null,
            "max_height": null,
            "align_content": null,
            "visibility": null,
            "align_self": null,
            "height": null,
            "min_height": null,
            "padding": null,
            "grid_auto_rows": null,
            "grid_gap": null,
            "max_width": null,
            "order": null,
            "_view_module_version": "1.2.0",
            "grid_template_areas": null,
            "object_position": null,
            "object_fit": null,
            "grid_auto_columns": null,
            "margin": null,
            "display": null,
            "left": null
          }
        },
        "32e60633b8fd4bfabdf181a5e5a26d27": {
          "model_module": "@jupyter-widgets/controls",
          "model_name": "DescriptionStyleModel",
          "state": {
            "_view_name": "StyleView",
            "_model_name": "DescriptionStyleModel",
            "description_width": "",
            "_view_module": "@jupyter-widgets/base",
            "_model_module_version": "1.5.0",
            "_view_count": null,
            "_view_module_version": "1.2.0",
            "_model_module": "@jupyter-widgets/controls"
          }
        },
        "537a477195f24a2eaf7bd9a452f5b4c8": {
          "model_module": "@jupyter-widgets/base",
          "model_name": "LayoutModel",
          "state": {
            "_view_name": "LayoutView",
            "grid_template_rows": null,
            "right": null,
            "justify_content": null,
            "_view_module": "@jupyter-widgets/base",
            "overflow": null,
            "_model_module_version": "1.2.0",
            "_view_count": null,
            "flex_flow": null,
            "width": null,
            "min_width": null,
            "border": null,
            "align_items": null,
            "bottom": null,
            "_model_module": "@jupyter-widgets/base",
            "top": null,
            "grid_column": null,
            "overflow_y": null,
            "overflow_x": null,
            "grid_auto_flow": null,
            "grid_area": null,
            "grid_template_columns": null,
            "flex": null,
            "_model_name": "LayoutModel",
            "justify_items": null,
            "grid_row": null,
            "max_height": null,
            "align_content": null,
            "visibility": null,
            "align_self": null,
            "height": null,
            "min_height": null,
            "padding": null,
            "grid_auto_rows": null,
            "grid_gap": null,
            "max_width": null,
            "order": null,
            "_view_module_version": "1.2.0",
            "grid_template_areas": null,
            "object_position": null,
            "object_fit": null,
            "grid_auto_columns": null,
            "margin": null,
            "display": null,
            "left": null
          }
        },
        "9ebf75a0dbb943caad6b50d95d20cf30": {
          "model_module": "@jupyter-widgets/controls",
          "model_name": "HBoxModel",
          "state": {
            "_view_name": "HBoxView",
            "_dom_classes": [],
            "_model_name": "HBoxModel",
            "_view_module": "@jupyter-widgets/controls",
            "_model_module_version": "1.5.0",
            "_view_count": null,
            "_view_module_version": "1.5.0",
            "box_style": "",
            "layout": "IPY_MODEL_9244bdfbda4448eabb4f6cc1565a810d",
            "_model_module": "@jupyter-widgets/controls",
            "children": [
              "IPY_MODEL_6fe322684c4b40d193abea12fb448f23",
              "IPY_MODEL_0c974b4511f2460e9a04ede62bcff65f"
            ]
          }
        },
        "9244bdfbda4448eabb4f6cc1565a810d": {
          "model_module": "@jupyter-widgets/base",
          "model_name": "LayoutModel",
          "state": {
            "_view_name": "LayoutView",
            "grid_template_rows": null,
            "right": null,
            "justify_content": null,
            "_view_module": "@jupyter-widgets/base",
            "overflow": null,
            "_model_module_version": "1.2.0",
            "_view_count": null,
            "flex_flow": null,
            "width": null,
            "min_width": null,
            "border": null,
            "align_items": null,
            "bottom": null,
            "_model_module": "@jupyter-widgets/base",
            "top": null,
            "grid_column": null,
            "overflow_y": null,
            "overflow_x": null,
            "grid_auto_flow": null,
            "grid_area": null,
            "grid_template_columns": null,
            "flex": null,
            "_model_name": "LayoutModel",
            "justify_items": null,
            "grid_row": null,
            "max_height": null,
            "align_content": null,
            "visibility": null,
            "align_self": null,
            "height": null,
            "min_height": null,
            "padding": null,
            "grid_auto_rows": null,
            "grid_gap": null,
            "max_width": null,
            "order": null,
            "_view_module_version": "1.2.0",
            "grid_template_areas": null,
            "object_position": null,
            "object_fit": null,
            "grid_auto_columns": null,
            "margin": null,
            "display": null,
            "left": null
          }
        },
        "6fe322684c4b40d193abea12fb448f23": {
          "model_module": "@jupyter-widgets/controls",
          "model_name": "FloatProgressModel",
          "state": {
            "_view_name": "ProgressView",
            "style": "IPY_MODEL_589a81b971e44f9d92b65361af6f04e9",
            "_dom_classes": [],
            "description": "Downloading: 100%",
            "_model_name": "FloatProgressModel",
            "bar_style": "success",
            "max": 1961828,
            "_view_module": "@jupyter-widgets/controls",
            "_model_module_version": "1.5.0",
            "value": 1961828,
            "_view_count": null,
            "_view_module_version": "1.5.0",
            "orientation": "horizontal",
            "min": 0,
            "description_tooltip": null,
            "_model_module": "@jupyter-widgets/controls",
            "layout": "IPY_MODEL_e20509e8d36d4fa9a490c4219fc914f0"
          }
        },
        "0c974b4511f2460e9a04ede62bcff65f": {
          "model_module": "@jupyter-widgets/controls",
          "model_name": "HTMLModel",
          "state": {
            "_view_name": "HTMLView",
            "style": "IPY_MODEL_c749d966475a48e380b05de0d08dff7c",
            "_dom_classes": [],
            "description": "",
            "_model_name": "HTMLModel",
            "placeholder": "​",
            "_view_module": "@jupyter-widgets/controls",
            "_model_module_version": "1.5.0",
            "value": " 1.96M/1.96M [00:00&lt;00:00, 4.64MB/s]",
            "_view_count": null,
            "_view_module_version": "1.5.0",
            "description_tooltip": null,
            "_model_module": "@jupyter-widgets/controls",
            "layout": "IPY_MODEL_5d006aa7a18f450bb723cb659bbb1acb"
          }
        },
        "589a81b971e44f9d92b65361af6f04e9": {
          "model_module": "@jupyter-widgets/controls",
          "model_name": "ProgressStyleModel",
          "state": {
            "_view_name": "StyleView",
            "_model_name": "ProgressStyleModel",
            "description_width": "initial",
            "_view_module": "@jupyter-widgets/base",
            "_model_module_version": "1.5.0",
            "_view_count": null,
            "_view_module_version": "1.2.0",
            "bar_color": null,
            "_model_module": "@jupyter-widgets/controls"
          }
        },
        "e20509e8d36d4fa9a490c4219fc914f0": {
          "model_module": "@jupyter-widgets/base",
          "model_name": "LayoutModel",
          "state": {
            "_view_name": "LayoutView",
            "grid_template_rows": null,
            "right": null,
            "justify_content": null,
            "_view_module": "@jupyter-widgets/base",
            "overflow": null,
            "_model_module_version": "1.2.0",
            "_view_count": null,
            "flex_flow": null,
            "width": null,
            "min_width": null,
            "border": null,
            "align_items": null,
            "bottom": null,
            "_model_module": "@jupyter-widgets/base",
            "top": null,
            "grid_column": null,
            "overflow_y": null,
            "overflow_x": null,
            "grid_auto_flow": null,
            "grid_area": null,
            "grid_template_columns": null,
            "flex": null,
            "_model_name": "LayoutModel",
            "justify_items": null,
            "grid_row": null,
            "max_height": null,
            "align_content": null,
            "visibility": null,
            "align_self": null,
            "height": null,
            "min_height": null,
            "padding": null,
            "grid_auto_rows": null,
            "grid_gap": null,
            "max_width": null,
            "order": null,
            "_view_module_version": "1.2.0",
            "grid_template_areas": null,
            "object_position": null,
            "object_fit": null,
            "grid_auto_columns": null,
            "margin": null,
            "display": null,
            "left": null
          }
        },
        "c749d966475a48e380b05de0d08dff7c": {
          "model_module": "@jupyter-widgets/controls",
          "model_name": "DescriptionStyleModel",
          "state": {
            "_view_name": "StyleView",
            "_model_name": "DescriptionStyleModel",
            "description_width": "",
            "_view_module": "@jupyter-widgets/base",
            "_model_module_version": "1.5.0",
            "_view_count": null,
            "_view_module_version": "1.2.0",
            "_model_module": "@jupyter-widgets/controls"
          }
        },
        "5d006aa7a18f450bb723cb659bbb1acb": {
          "model_module": "@jupyter-widgets/base",
          "model_name": "LayoutModel",
          "state": {
            "_view_name": "LayoutView",
            "grid_template_rows": null,
            "right": null,
            "justify_content": null,
            "_view_module": "@jupyter-widgets/base",
            "overflow": null,
            "_model_module_version": "1.2.0",
            "_view_count": null,
            "flex_flow": null,
            "width": null,
            "min_width": null,
            "border": null,
            "align_items": null,
            "bottom": null,
            "_model_module": "@jupyter-widgets/base",
            "top": null,
            "grid_column": null,
            "overflow_y": null,
            "overflow_x": null,
            "grid_auto_flow": null,
            "grid_area": null,
            "grid_template_columns": null,
            "flex": null,
            "_model_name": "LayoutModel",
            "justify_items": null,
            "grid_row": null,
            "max_height": null,
            "align_content": null,
            "visibility": null,
            "align_self": null,
            "height": null,
            "min_height": null,
            "padding": null,
            "grid_auto_rows": null,
            "grid_gap": null,
            "max_width": null,
            "order": null,
            "_view_module_version": "1.2.0",
            "grid_template_areas": null,
            "object_position": null,
            "object_fit": null,
            "grid_auto_columns": null,
            "margin": null,
            "display": null,
            "left": null
          }
        },
        "d259e33890a04c4a90b2fa5b8a147887": {
          "model_module": "@jupyter-widgets/controls",
          "model_name": "HBoxModel",
          "state": {
            "_view_name": "HBoxView",
            "_dom_classes": [],
            "_model_name": "HBoxModel",
            "_view_module": "@jupyter-widgets/controls",
            "_model_module_version": "1.5.0",
            "_view_count": null,
            "_view_module_version": "1.5.0",
            "box_style": "",
            "layout": "IPY_MODEL_c8a78f2cb9624cf6b7345c0400e8269c",
            "_model_module": "@jupyter-widgets/controls",
            "children": [
              "IPY_MODEL_4916b5319c6642aebe7f942ef85228fc",
              "IPY_MODEL_3027adf31299404da32ad73a243c4ea1"
            ]
          }
        },
        "c8a78f2cb9624cf6b7345c0400e8269c": {
          "model_module": "@jupyter-widgets/base",
          "model_name": "LayoutModel",
          "state": {
            "_view_name": "LayoutView",
            "grid_template_rows": null,
            "right": null,
            "justify_content": null,
            "_view_module": "@jupyter-widgets/base",
            "overflow": null,
            "_model_module_version": "1.2.0",
            "_view_count": null,
            "flex_flow": null,
            "width": null,
            "min_width": null,
            "border": null,
            "align_items": null,
            "bottom": null,
            "_model_module": "@jupyter-widgets/base",
            "top": null,
            "grid_column": null,
            "overflow_y": null,
            "overflow_x": null,
            "grid_auto_flow": null,
            "grid_area": null,
            "grid_template_columns": null,
            "flex": null,
            "_model_name": "LayoutModel",
            "justify_items": null,
            "grid_row": null,
            "max_height": null,
            "align_content": null,
            "visibility": null,
            "align_self": null,
            "height": null,
            "min_height": null,
            "padding": null,
            "grid_auto_rows": null,
            "grid_gap": null,
            "max_width": null,
            "order": null,
            "_view_module_version": "1.2.0",
            "grid_template_areas": null,
            "object_position": null,
            "object_fit": null,
            "grid_auto_columns": null,
            "margin": null,
            "display": null,
            "left": null
          }
        },
        "4916b5319c6642aebe7f942ef85228fc": {
          "model_module": "@jupyter-widgets/controls",
          "model_name": "FloatProgressModel",
          "state": {
            "_view_name": "ProgressView",
            "style": "IPY_MODEL_6a74036cc1f540888d48c8d402b735ff",
            "_dom_classes": [],
            "description": "Downloading: 100%",
            "_model_name": "FloatProgressModel",
            "bar_style": "success",
            "max": 625,
            "_view_module": "@jupyter-widgets/controls",
            "_model_module_version": "1.5.0",
            "value": 625,
            "_view_count": null,
            "_view_module_version": "1.5.0",
            "orientation": "horizontal",
            "min": 0,
            "description_tooltip": null,
            "_model_module": "@jupyter-widgets/controls",
            "layout": "IPY_MODEL_bdd28f7586114c5fb3c49e4494d8149a"
          }
        },
        "3027adf31299404da32ad73a243c4ea1": {
          "model_module": "@jupyter-widgets/controls",
          "model_name": "HTMLModel",
          "state": {
            "_view_name": "HTMLView",
            "style": "IPY_MODEL_91fd8de196b444928c9b8586c00ffaeb",
            "_dom_classes": [],
            "description": "",
            "_model_name": "HTMLModel",
            "placeholder": "​",
            "_view_module": "@jupyter-widgets/controls",
            "_model_module_version": "1.5.0",
            "value": " 625/625 [00:00&lt;00:00, 1.20kB/s]",
            "_view_count": null,
            "_view_module_version": "1.5.0",
            "description_tooltip": null,
            "_model_module": "@jupyter-widgets/controls",
            "layout": "IPY_MODEL_b046f0895c6d4280a227e07c1a6f10cf"
          }
        },
        "6a74036cc1f540888d48c8d402b735ff": {
          "model_module": "@jupyter-widgets/controls",
          "model_name": "ProgressStyleModel",
          "state": {
            "_view_name": "StyleView",
            "_model_name": "ProgressStyleModel",
            "description_width": "initial",
            "_view_module": "@jupyter-widgets/base",
            "_model_module_version": "1.5.0",
            "_view_count": null,
            "_view_module_version": "1.2.0",
            "bar_color": null,
            "_model_module": "@jupyter-widgets/controls"
          }
        },
        "bdd28f7586114c5fb3c49e4494d8149a": {
          "model_module": "@jupyter-widgets/base",
          "model_name": "LayoutModel",
          "state": {
            "_view_name": "LayoutView",
            "grid_template_rows": null,
            "right": null,
            "justify_content": null,
            "_view_module": "@jupyter-widgets/base",
            "overflow": null,
            "_model_module_version": "1.2.0",
            "_view_count": null,
            "flex_flow": null,
            "width": null,
            "min_width": null,
            "border": null,
            "align_items": null,
            "bottom": null,
            "_model_module": "@jupyter-widgets/base",
            "top": null,
            "grid_column": null,
            "overflow_y": null,
            "overflow_x": null,
            "grid_auto_flow": null,
            "grid_area": null,
            "grid_template_columns": null,
            "flex": null,
            "_model_name": "LayoutModel",
            "justify_items": null,
            "grid_row": null,
            "max_height": null,
            "align_content": null,
            "visibility": null,
            "align_self": null,
            "height": null,
            "min_height": null,
            "padding": null,
            "grid_auto_rows": null,
            "grid_gap": null,
            "max_width": null,
            "order": null,
            "_view_module_version": "1.2.0",
            "grid_template_areas": null,
            "object_position": null,
            "object_fit": null,
            "grid_auto_columns": null,
            "margin": null,
            "display": null,
            "left": null
          }
        },
        "91fd8de196b444928c9b8586c00ffaeb": {
          "model_module": "@jupyter-widgets/controls",
          "model_name": "DescriptionStyleModel",
          "state": {
            "_view_name": "StyleView",
            "_model_name": "DescriptionStyleModel",
            "description_width": "",
            "_view_module": "@jupyter-widgets/base",
            "_model_module_version": "1.5.0",
            "_view_count": null,
            "_view_module_version": "1.2.0",
            "_model_module": "@jupyter-widgets/controls"
          }
        },
        "b046f0895c6d4280a227e07c1a6f10cf": {
          "model_module": "@jupyter-widgets/base",
          "model_name": "LayoutModel",
          "state": {
            "_view_name": "LayoutView",
            "grid_template_rows": null,
            "right": null,
            "justify_content": null,
            "_view_module": "@jupyter-widgets/base",
            "overflow": null,
            "_model_module_version": "1.2.0",
            "_view_count": null,
            "flex_flow": null,
            "width": null,
            "min_width": null,
            "border": null,
            "align_items": null,
            "bottom": null,
            "_model_module": "@jupyter-widgets/base",
            "top": null,
            "grid_column": null,
            "overflow_y": null,
            "overflow_x": null,
            "grid_auto_flow": null,
            "grid_area": null,
            "grid_template_columns": null,
            "flex": null,
            "_model_name": "LayoutModel",
            "justify_items": null,
            "grid_row": null,
            "max_height": null,
            "align_content": null,
            "visibility": null,
            "align_self": null,
            "height": null,
            "min_height": null,
            "padding": null,
            "grid_auto_rows": null,
            "grid_gap": null,
            "max_width": null,
            "order": null,
            "_view_module_version": "1.2.0",
            "grid_template_areas": null,
            "object_position": null,
            "object_fit": null,
            "grid_auto_columns": null,
            "margin": null,
            "display": null,
            "left": null
          }
        },
        "45d81f364a23491baf7a9ae82155e3d0": {
          "model_module": "@jupyter-widgets/controls",
          "model_name": "HBoxModel",
          "state": {
            "_view_name": "HBoxView",
            "_dom_classes": [],
            "_model_name": "HBoxModel",
            "_view_module": "@jupyter-widgets/controls",
            "_model_module_version": "1.5.0",
            "_view_count": null,
            "_view_module_version": "1.5.0",
            "box_style": "",
            "layout": "IPY_MODEL_24de3045081e4eb69e49c335804e48b7",
            "_model_module": "@jupyter-widgets/controls",
            "children": [
              "IPY_MODEL_d57a830f84f540afae39ac3aac06177a",
              "IPY_MODEL_3c244efdbd674aaeb1ebec1b4a46b52d"
            ]
          }
        },
        "24de3045081e4eb69e49c335804e48b7": {
          "model_module": "@jupyter-widgets/base",
          "model_name": "LayoutModel",
          "state": {
            "_view_name": "LayoutView",
            "grid_template_rows": null,
            "right": null,
            "justify_content": null,
            "_view_module": "@jupyter-widgets/base",
            "overflow": null,
            "_model_module_version": "1.2.0",
            "_view_count": null,
            "flex_flow": null,
            "width": null,
            "min_width": null,
            "border": null,
            "align_items": null,
            "bottom": null,
            "_model_module": "@jupyter-widgets/base",
            "top": null,
            "grid_column": null,
            "overflow_y": null,
            "overflow_x": null,
            "grid_auto_flow": null,
            "grid_area": null,
            "grid_template_columns": null,
            "flex": null,
            "_model_name": "LayoutModel",
            "justify_items": null,
            "grid_row": null,
            "max_height": null,
            "align_content": null,
            "visibility": null,
            "align_self": null,
            "height": null,
            "min_height": null,
            "padding": null,
            "grid_auto_rows": null,
            "grid_gap": null,
            "max_width": null,
            "order": null,
            "_view_module_version": "1.2.0",
            "grid_template_areas": null,
            "object_position": null,
            "object_fit": null,
            "grid_auto_columns": null,
            "margin": null,
            "display": null,
            "left": null
          }
        },
        "d57a830f84f540afae39ac3aac06177a": {
          "model_module": "@jupyter-widgets/controls",
          "model_name": "FloatProgressModel",
          "state": {
            "_view_name": "ProgressView",
            "style": "IPY_MODEL_141822421ce24aac87793ec839310508",
            "_dom_classes": [],
            "description": "Downloading: 100%",
            "_model_name": "FloatProgressModel",
            "bar_style": "success",
            "max": 714314041,
            "_view_module": "@jupyter-widgets/controls",
            "_model_module_version": "1.5.0",
            "value": 714314041,
            "_view_count": null,
            "_view_module_version": "1.5.0",
            "orientation": "horizontal",
            "min": 0,
            "description_tooltip": null,
            "_model_module": "@jupyter-widgets/controls",
            "layout": "IPY_MODEL_91904d934ec94c8bae8d2565167c121f"
          }
        },
        "3c244efdbd674aaeb1ebec1b4a46b52d": {
          "model_module": "@jupyter-widgets/controls",
          "model_name": "HTMLModel",
          "state": {
            "_view_name": "HTMLView",
            "style": "IPY_MODEL_75544742ff764cf1ac3f7aec8b7ff3b6",
            "_dom_classes": [],
            "description": "",
            "_model_name": "HTMLModel",
            "placeholder": "​",
            "_view_module": "@jupyter-widgets/controls",
            "_model_module_version": "1.5.0",
            "value": " 714M/714M [02:03&lt;00:00, 5.79MB/s]",
            "_view_count": null,
            "_view_module_version": "1.5.0",
            "description_tooltip": null,
            "_model_module": "@jupyter-widgets/controls",
            "layout": "IPY_MODEL_8d0d6285a0db42d982d7f8681b8f256c"
          }
        },
        "141822421ce24aac87793ec839310508": {
          "model_module": "@jupyter-widgets/controls",
          "model_name": "ProgressStyleModel",
          "state": {
            "_view_name": "StyleView",
            "_model_name": "ProgressStyleModel",
            "description_width": "initial",
            "_view_module": "@jupyter-widgets/base",
            "_model_module_version": "1.5.0",
            "_view_count": null,
            "_view_module_version": "1.2.0",
            "bar_color": null,
            "_model_module": "@jupyter-widgets/controls"
          }
        },
        "91904d934ec94c8bae8d2565167c121f": {
          "model_module": "@jupyter-widgets/base",
          "model_name": "LayoutModel",
          "state": {
            "_view_name": "LayoutView",
            "grid_template_rows": null,
            "right": null,
            "justify_content": null,
            "_view_module": "@jupyter-widgets/base",
            "overflow": null,
            "_model_module_version": "1.2.0",
            "_view_count": null,
            "flex_flow": null,
            "width": null,
            "min_width": null,
            "border": null,
            "align_items": null,
            "bottom": null,
            "_model_module": "@jupyter-widgets/base",
            "top": null,
            "grid_column": null,
            "overflow_y": null,
            "overflow_x": null,
            "grid_auto_flow": null,
            "grid_area": null,
            "grid_template_columns": null,
            "flex": null,
            "_model_name": "LayoutModel",
            "justify_items": null,
            "grid_row": null,
            "max_height": null,
            "align_content": null,
            "visibility": null,
            "align_self": null,
            "height": null,
            "min_height": null,
            "padding": null,
            "grid_auto_rows": null,
            "grid_gap": null,
            "max_width": null,
            "order": null,
            "_view_module_version": "1.2.0",
            "grid_template_areas": null,
            "object_position": null,
            "object_fit": null,
            "grid_auto_columns": null,
            "margin": null,
            "display": null,
            "left": null
          }
        },
        "75544742ff764cf1ac3f7aec8b7ff3b6": {
          "model_module": "@jupyter-widgets/controls",
          "model_name": "DescriptionStyleModel",
          "state": {
            "_view_name": "StyleView",
            "_model_name": "DescriptionStyleModel",
            "description_width": "",
            "_view_module": "@jupyter-widgets/base",
            "_model_module_version": "1.5.0",
            "_view_count": null,
            "_view_module_version": "1.2.0",
            "_model_module": "@jupyter-widgets/controls"
          }
        },
        "8d0d6285a0db42d982d7f8681b8f256c": {
          "model_module": "@jupyter-widgets/base",
          "model_name": "LayoutModel",
          "state": {
            "_view_name": "LayoutView",
            "grid_template_rows": null,
            "right": null,
            "justify_content": null,
            "_view_module": "@jupyter-widgets/base",
            "overflow": null,
            "_model_module_version": "1.2.0",
            "_view_count": null,
            "flex_flow": null,
            "width": null,
            "min_width": null,
            "border": null,
            "align_items": null,
            "bottom": null,
            "_model_module": "@jupyter-widgets/base",
            "top": null,
            "grid_column": null,
            "overflow_y": null,
            "overflow_x": null,
            "grid_auto_flow": null,
            "grid_area": null,
            "grid_template_columns": null,
            "flex": null,
            "_model_name": "LayoutModel",
            "justify_items": null,
            "grid_row": null,
            "max_height": null,
            "align_content": null,
            "visibility": null,
            "align_self": null,
            "height": null,
            "min_height": null,
            "padding": null,
            "grid_auto_rows": null,
            "grid_gap": null,
            "max_width": null,
            "order": null,
            "_view_module_version": "1.2.0",
            "grid_template_areas": null,
            "object_position": null,
            "object_fit": null,
            "grid_auto_columns": null,
            "margin": null,
            "display": null,
            "left": null
          }
        }
      }
    },
    "accelerator": "GPU"
  },
  "cells": [
    {
      "cell_type": "markdown",
      "metadata": {
        "id": "view-in-github",
        "colab_type": "text"
      },
      "source": [
        "<a href=\"https://colab.research.google.com/github/fatemeh-azadi/CLE-WordAlignments/blob/main/EvaluatingHuggingFaceModels.ipynb\" target=\"_parent\"><img src=\"https://colab.research.google.com/assets/colab-badge.svg\" alt=\"Open In Colab\"/></a>"
      ]
    },
    {
      "cell_type": "code",
      "metadata": {
        "id": "vn2vo3Z640X3",
        "colab": {
          "base_uri": "https://localhost:8080/"
        },
        "outputId": "fe4d80db-85c4-477d-bc77-bfabeac19ec8"
      },
      "source": [
        "%%bash\n",
        "pip install transformers\n",
        "pip install sentencepiece\n"
      ],
      "execution_count": 1,
      "outputs": [
        {
          "output_type": "stream",
          "text": [
            "Collecting transformers\n",
            "  Downloading https://files.pythonhosted.org/packages/fd/1a/41c644c963249fd7f3836d926afa1e3f1cc234a1c40d80c5f03ad8f6f1b2/transformers-4.8.2-py3-none-any.whl (2.5MB)\n",
            "Collecting tokenizers<0.11,>=0.10.1\n",
            "  Downloading https://files.pythonhosted.org/packages/d4/e2/df3543e8ffdab68f5acc73f613de9c2b155ac47f162e725dcac87c521c11/tokenizers-0.10.3-cp37-cp37m-manylinux_2_5_x86_64.manylinux1_x86_64.manylinux_2_12_x86_64.manylinux2010_x86_64.whl (3.3MB)\n",
            "Requirement already satisfied: tqdm>=4.27 in /usr/local/lib/python3.7/dist-packages (from transformers) (4.41.1)\n",
            "Requirement already satisfied: requests in /usr/local/lib/python3.7/dist-packages (from transformers) (2.23.0)\n",
            "Collecting sacremoses\n",
            "  Downloading https://files.pythonhosted.org/packages/75/ee/67241dc87f266093c533a2d4d3d69438e57d7a90abb216fa076e7d475d4a/sacremoses-0.0.45-py3-none-any.whl (895kB)\n",
            "Requirement already satisfied: numpy>=1.17 in /usr/local/lib/python3.7/dist-packages (from transformers) (1.19.5)\n",
            "Requirement already satisfied: packaging in /usr/local/lib/python3.7/dist-packages (from transformers) (20.9)\n",
            "Requirement already satisfied: importlib-metadata; python_version < \"3.8\" in /usr/local/lib/python3.7/dist-packages (from transformers) (4.6.0)\n",
            "Requirement already satisfied: regex!=2019.12.17 in /usr/local/lib/python3.7/dist-packages (from transformers) (2019.12.20)\n",
            "Requirement already satisfied: pyyaml in /usr/local/lib/python3.7/dist-packages (from transformers) (3.13)\n",
            "Collecting huggingface-hub==0.0.12\n",
            "  Downloading https://files.pythonhosted.org/packages/2f/ee/97e253668fda9b17e968b3f97b2f8e53aa0127e8807d24a547687423fe0b/huggingface_hub-0.0.12-py3-none-any.whl\n",
            "Requirement already satisfied: filelock in /usr/local/lib/python3.7/dist-packages (from transformers) (3.0.12)\n",
            "Requirement already satisfied: idna<3,>=2.5 in /usr/local/lib/python3.7/dist-packages (from requests->transformers) (2.10)\n",
            "Requirement already satisfied: urllib3!=1.25.0,!=1.25.1,<1.26,>=1.21.1 in /usr/local/lib/python3.7/dist-packages (from requests->transformers) (1.24.3)\n",
            "Requirement already satisfied: certifi>=2017.4.17 in /usr/local/lib/python3.7/dist-packages (from requests->transformers) (2021.5.30)\n",
            "Requirement already satisfied: chardet<4,>=3.0.2 in /usr/local/lib/python3.7/dist-packages (from requests->transformers) (3.0.4)\n",
            "Requirement already satisfied: joblib in /usr/local/lib/python3.7/dist-packages (from sacremoses->transformers) (1.0.1)\n",
            "Requirement already satisfied: click in /usr/local/lib/python3.7/dist-packages (from sacremoses->transformers) (7.1.2)\n",
            "Requirement already satisfied: six in /usr/local/lib/python3.7/dist-packages (from sacremoses->transformers) (1.15.0)\n",
            "Requirement already satisfied: pyparsing>=2.0.2 in /usr/local/lib/python3.7/dist-packages (from packaging->transformers) (2.4.7)\n",
            "Requirement already satisfied: typing-extensions>=3.6.4; python_version < \"3.8\" in /usr/local/lib/python3.7/dist-packages (from importlib-metadata; python_version < \"3.8\"->transformers) (3.7.4.3)\n",
            "Requirement already satisfied: zipp>=0.5 in /usr/local/lib/python3.7/dist-packages (from importlib-metadata; python_version < \"3.8\"->transformers) (3.4.1)\n",
            "Installing collected packages: tokenizers, sacremoses, huggingface-hub, transformers\n",
            "Successfully installed huggingface-hub-0.0.12 sacremoses-0.0.45 tokenizers-0.10.3 transformers-4.8.2\n",
            "Collecting sentencepiece\n",
            "  Downloading https://files.pythonhosted.org/packages/ac/aa/1437691b0c7c83086ebb79ce2da16e00bef024f24fec2a5161c35476f499/sentencepiece-0.1.96-cp37-cp37m-manylinux_2_17_x86_64.manylinux2014_x86_64.whl (1.2MB)\n",
            "Installing collected packages: sentencepiece\n",
            "Successfully installed sentencepiece-0.1.96\n"
          ],
          "name": "stdout"
        }
      ]
    },
    {
      "cell_type": "code",
      "metadata": {
        "id": "HG2Oke8yn4Hk",
        "outputId": "90d1b426-4094-4c66-90e7-21dc23a007a9",
        "colab": {
          "base_uri": "https://localhost:8080/"
        }
      },
      "source": [
        "%%bash\n",
        "mkdir data\n",
        "wget -O data/gold.en-fa.aligned https://raw.githubusercontent.com/fatemeh-azadi/CLE-WordAlignments/main/data/gold.en-fa.aligned\n",
        "wget -O data/text.fa https://raw.githubusercontent.com/fatemeh-azadi/CLE-WordAlignments/main/data/text.fa\n",
        "wget -O data/text.en https://raw.githubusercontent.com/fatemeh-azadi/CLE-WordAlignments/main/data/text.en"
      ],
      "execution_count": 14,
      "outputs": [
        {
          "output_type": "stream",
          "text": [
            "mkdir: cannot create directory ‘data’: File exists\n",
            "--2021-07-15 10:23:12--  https://raw.githubusercontent.com/fatemeh-azadi/CLE-WordAlignments/main/data/gold.en-fa.aligned\n",
            "Resolving raw.githubusercontent.com (raw.githubusercontent.com)... 185.199.108.133, 185.199.109.133, 185.199.110.133, ...\n",
            "Connecting to raw.githubusercontent.com (raw.githubusercontent.com)|185.199.108.133|:443... connected.\n",
            "HTTP request sent, awaiting response... 200 OK\n",
            "Length: 123463 (121K) [text/plain]\n",
            "Saving to: ‘data/gold.en-fa.aligned’\n",
            "\n",
            "     0K .......... .......... .......... .......... .......... 41% 7.37M 0s\n",
            "    50K .......... .......... .......... .......... .......... 82% 7.96M 0s\n",
            "   100K .......... ..........                                 100% 63.9M=0.01s\n",
            "\n",
            "2021-07-15 10:23:12 (9.00 MB/s) - ‘data/gold.en-fa.aligned’ saved [123463/123463]\n",
            "\n",
            "--2021-07-15 10:23:12--  https://raw.githubusercontent.com/fatemeh-azadi/CLE-WordAlignments/main/data/text.fa\n",
            "Resolving raw.githubusercontent.com (raw.githubusercontent.com)... 185.199.110.133, 185.199.109.133, 185.199.108.133, ...\n",
            "Connecting to raw.githubusercontent.com (raw.githubusercontent.com)|185.199.110.133|:443... connected.\n",
            "HTTP request sent, awaiting response... 200 OK\n",
            "Length: 170836 (167K) [text/plain]\n",
            "Saving to: ‘data/text.fa’\n",
            "\n",
            "     0K .......... .......... .......... .......... .......... 29% 6.87M 0s\n",
            "    50K .......... .......... .......... .......... .......... 59% 7.33M 0s\n",
            "   100K .......... .......... .......... .......... .......... 89% 33.0M 0s\n",
            "   150K .......... ......                                     100% 20.6M=0.02s\n",
            "\n",
            "2021-07-15 10:23:12 (10.1 MB/s) - ‘data/text.fa’ saved [170836/170836]\n",
            "\n",
            "--2021-07-15 10:23:13--  https://raw.githubusercontent.com/fatemeh-azadi/CLE-WordAlignments/main/data/text.en\n",
            "Resolving raw.githubusercontent.com (raw.githubusercontent.com)... 185.199.110.133, 185.199.111.133, 185.199.109.133, ...\n",
            "Connecting to raw.githubusercontent.com (raw.githubusercontent.com)|185.199.110.133|:443... connected.\n",
            "HTTP request sent, awaiting response... 200 OK\n",
            "Length: 107975 (105K) [text/plain]\n",
            "Saving to: ‘data/text.en’\n",
            "\n",
            "     0K .......... .......... .......... .......... .......... 47% 7.14M 0s\n",
            "    50K .......... .......... .......... .......... .......... 94% 7.24M 0s\n",
            "   100K .....                                                 100% 70.8M=0.01s\n",
            "\n",
            "2021-07-15 10:23:13 (7.54 MB/s) - ‘data/text.en’ saved [107975/107975]\n",
            "\n"
          ],
          "name": "stderr"
        }
      ]
    },
    {
      "cell_type": "code",
      "metadata": {
        "id": "d1h_zd107-67"
      },
      "source": [
        "import torch\n",
        "import sys\n",
        "import numpy as np\n",
        "from transformers import XLMRobertaTokenizer, XLMRobertaModel\n",
        "from transformers import BertTokenizer, BertModel\n",
        "from transformers import XLMTokenizer, XLMModel\n",
        "\n",
        "SRC = \"en\"\n",
        "TRG = \"fa\"\n"
      ],
      "execution_count": 3,
      "outputs": []
    },
    {
      "cell_type": "code",
      "metadata": {
        "id": "pIYvc4dO45NE"
      },
      "source": [
        "#### compute the cosine similarity between two vectors\n",
        "def dist(w1, w2):\n",
        "  return (np.dot(w1, w2) / (np.sqrt(np.dot(w1, w1)) * np.sqrt(np.dot(w2, w2))))\n",
        "\n",
        "### compute the word aligments between two sentences \n",
        "## V1 and V2 are embedding matrices of the source and target sentences\n",
        "def getAlignment(V1, V2):\n",
        "  t1 = len(V1)\n",
        "  t2 = len(V2)\n",
        "  alignment = \"\"\n",
        "  for i in range(0, t1):\n",
        "    maxd = -1\n",
        "    maxidx = -1\n",
        "    for j in range(0, t2):\n",
        "      d = dist(V1[i], V2[j])\n",
        "      if(d > maxd):\n",
        "        maxd = d\n",
        "        maxidx = j\n",
        "    alignment += \"%d-%d \"%(i, maxidx)\n",
        "  return alignment"
      ],
      "execution_count": 4,
      "outputs": []
    },
    {
      "cell_type": "code",
      "metadata": {
        "id": "C3ZaFVZw5YAp"
      },
      "source": [
        "### computeAlignments() compute the source 2 target and target 2 source alignments \n",
        "### between the source and target file with respect to the modelType\n",
        "## - srcFile: source file address\n",
        "## - trgFile: target file address \n",
        "## - alignFile: outputs prefix address (the final alignments will be saved in alignFile.S2T.modelType and alignFile.T2S.modelType)\n",
        "## - modelType: could be one of XLMR-Base/XLMR-Large/MBERT/XLM100/XLM15\n",
        "###\n",
        "def computeAlignments(srcFile, trgFile, alignFile, modelType):\n",
        " \n",
        "  if (modelType == \"XLMR-Base\"):\n",
        "    tokenizer = XLMRobertaTokenizer.from_pretrained('xlm-roberta-base')\n",
        "    model = XLMRobertaModel.from_pretrained('xlm-roberta-base')\n",
        "  elif (modelType == \"XLMR-Large\"):\n",
        "    tokenizer = XLMRobertaTokenizer.from_pretrained('xlm-roberta-large')\n",
        "    model = XLMRobertaModel.from_pretrained('xlm-roberta-large')\n",
        "  elif (modelType == \"MBERT\"):\n",
        "    tokenizer = BertTokenizer.from_pretrained('bert-base-multilingual-cased')\n",
        "    model = BertModel.from_pretrained('bert-base-multilingual-cased')\n",
        "  elif (modelType == \"XLM100\"):\n",
        "    tokenizer = XLMTokenizer.from_pretrained('xlm-mlm-100-1280')\n",
        "    model = XLMModel.from_pretrained('xlm-mlm-100-1280')\n",
        "  elif (modelType == \"XLM15\"):\n",
        "    tokenizer = XLMTokenizer.from_pretrained('xlm-mlm-tlm-xnli15-1024')\n",
        "    model = XLMModel.from_pretrained('xlm-mlm-tlm-xnli15-1024')\n",
        "    language_id_src = tokenizer.lang2id[SRC]\n",
        "    language_id_trg = tokenizer.lang2id[TGT]\n",
        "  else:\n",
        "    print(\"Model Type is not valid!\")\n",
        "    return\n",
        "\n",
        "  inSrc = open(srcFile, \"r\")\n",
        "  inTrg = open(trgFile, \"r\")\n",
        "  S2T_AlignFile = open(alignFile + \".S2T.\" + modelType, \"w\")\n",
        "  T2S_AlignFile = open(alignFile + \".T2S.\" + modelType, \"w\")\n",
        "  srcBPE = open(srcFile + \".bpe.\" + modelType, \"w\")\n",
        "  trgBPE = open(trgFile + \".bpe.\" + modelType, \"w\")\n",
        "\n",
        "  for srcLine, trgLine in zip(inSrc, inTrg):\n",
        "    src_input = tokenizer(srcLine.strip(), return_tensors=\"pt\")\n",
        "    src_bpe = [tokenizer._convert_id_to_token(i) for i in src_input.input_ids[0].tolist()]\n",
        "    if(modelType == \"XLM15\"):\n",
        "        langs = torch.tensor([language_id_src]* src_input.input_ids.shape[1])\n",
        "        langs = langs.view(1, -1)\n",
        "        src_output = model(**src_input, langs=langs)\n",
        "    else:\n",
        "        src_output = model(**src_input)\n",
        "    src_embedding = src_output.last_hidden_state[0].detach().numpy()\n",
        "\n",
        "    trg_input = tokenizer(trgLine.strip(), return_tensors=\"pt\")\n",
        "    trg_bpe = [tokenizer._convert_id_to_token(i) for i in trg_input.input_ids[0].tolist()]\n",
        "    if(modelType == \"XLM15\"):\n",
        "        langs = torch.tensor([language_id_trg] * trg_input.input_ids.shape[1])\n",
        "        langs = langs.view(1, -1)\n",
        "        trg_output = model(**trg_input, langs=langs)\n",
        "    else:\n",
        "        trg_output = model(**trg_input)\n",
        "    trg_embedding = trg_output.last_hidden_state[0].detach().numpy()\n",
        "\n",
        "    srcBPE.write(' '.join(src_bpe[1:-1]))\n",
        "    srcBPE.write(\"\\n\")\n",
        "    trgBPE.write(' '.join(trg_bpe[1:-1]))\n",
        "    trgBPE.write(\"\\n\")\n",
        "\n",
        "    alignS2T = getAlignment(src_embedding[1:-1], trg_embedding[1:-1])\n",
        "    alignT2S = getAlignment(trg_embedding[1:-1], src_embedding[1:-1])\n",
        "    S2T_AlignFile.write(alignS2T + \"\\n\")\n",
        "    T2S_AlignFile.write(alignT2S + \"\\n\")\n",
        "\n",
        "  srcBPE.close()\n",
        "  trgBPE.close()\n",
        "  S2T_AlignFile.close()\n",
        "  T2S_AlignFile.close()\n"
      ],
      "execution_count": 5,
      "outputs": []
    },
    {
      "cell_type": "code",
      "metadata": {
        "id": "r8_vlIU87J60"
      },
      "source": [
        "### change the format of the alignment file to giza format\n",
        "### in order to give it to symal (symmetrizing tool in moses)\n",
        "## - srcFile: source file address\n",
        "## - trgFile: target file address \n",
        "## - alignFile: alignment file address \n",
        "## - the results will be saved in alignFile.giza-format\n",
        "###\n",
        "def convertToGizaFormat(srcFile, trgFile, alignFile):\n",
        "  k = 1\n",
        "  inSrc = open(srcFile, \"r\")\n",
        "  inTrg = open(trgFile, \"r\")\n",
        "  inAlign = open(alignFile, \"r\")\n",
        "  outFile = open(alignFile + \".giza-format\", \"w\")\n",
        "\n",
        "  for lineSrc, lineTrg, lineAlign in zip(inSrc, inTrg, inAlign):\n",
        "    outFile.write(\"#\\n\")\n",
        "    outFile.write(lineSrc)\n",
        "\n",
        "    lenSrc = len(lineSrc.strip().split())\n",
        "    lineTrg = lineTrg.strip().split()\n",
        "    lenTrg = len(lineTrg)\n",
        "\n",
        "    lineAlign = lineAlign.strip().split()\n",
        "    alignmentList = []\n",
        "    mark = [0]*lenSrc\n",
        "    ln = 0\n",
        "    for x in lineTrg:\n",
        "      alignmentList.append([])\n",
        "      ln += 1\n",
        "    for a in lineAlign:\n",
        "      src, trg = a.split('-')\n",
        "      src = int(src)\n",
        "      trg = int(trg)\n",
        "      if(trg >= len(alignmentList)):\n",
        "        print(k)\n",
        "        print(src, trg)\n",
        "      alignmentList[trg].append(src)\n",
        "      mark[src] = 1\n",
        "    k += 1\n",
        "    outFile.write(\"NULL ({\")\n",
        "    for i in range(lenSrc):\n",
        "      if(mark[i] == 0):\n",
        "        outFile.write(\" \" + str(i+1))\n",
        "    outFile.write(\" })\")\n",
        "    ln = 0\n",
        "    for w in lineTrg:\n",
        "      outFile.write(\" \" + w + \" ({\")\n",
        "      for x in alignmentList[ln]:\n",
        "        outFile.write(\" \" + str(x+1))\n",
        "      outFile.write(\" })\")\n",
        "      ln += 1\n",
        "    outFile.write(\"\\n\")\n",
        "  outFile.close()"
      ],
      "execution_count": 6,
      "outputs": []
    },
    {
      "cell_type": "code",
      "metadata": {
        "id": "-J7qzUbU7hUx"
      },
      "source": [
        "### convert the subword level alignments to word level\n",
        "## - srcFile: source file address\n",
        "## - trgFile: target file address \n",
        "## - alignFile: the bidirectional alignments file address after symmetrizing\n",
        "## - splitChar: the character used for subword tokenization in srcFile and trgFile \n",
        "### depends on the model's tokenizer (it could be #/@/_)\n",
        "## - one: 1 if the alignFile indexes are 1-based and 0 otherwise\n",
        "## the word level alignments results will be saved in alignFile.final-alignment\n",
        "###\n",
        "def convertToWordLevel(srcFile, trgFile, alignFile, splitChar, one = False):\n",
        "\n",
        "  inSrc = open(srcFile, \"r\")\n",
        "  inTrg = open(trgFile, \"r\")\n",
        "  inAlign = open(alignFile, \"r\")\n",
        "  outFile = open(alignFile + \".final-alignment\", \"w\")\n",
        "  cnt = 0\n",
        "  for lineAlign, lineSrc, lineTrg in zip(inAlign, inSrc, inTrg):\n",
        "    lineAlign = lineAlign.strip().split()\n",
        "    lineSrc = lineSrc.strip().split()\n",
        "    lineTrg = lineTrg.strip().split()\n",
        "    aligns2 = \"\"\n",
        "    srcIdx = []\n",
        "    trgIdx = []\n",
        "    cnt += 1\n",
        "    if(splitChar == \"@\"):\n",
        "        num = 1\n",
        "    else:\n",
        "        num = 0\n",
        "    for w in lineSrc:\n",
        "        if (splitChar == \"@\"):\n",
        "           srcIdx.append(num)\n",
        "           if(not w.endswith(\"@@\")):\n",
        "               num += 1\n",
        "        elif (splitChar == \"#\"):\n",
        "            if(not w.startswith(\"##\")):\n",
        "                num += 1\n",
        "            srcIdx.append(num)\n",
        "        else:\n",
        "            if (w.startswith(\"▁\")):\n",
        "                num += 1\n",
        "            srcIdx.append(num)\n",
        "    if(splitChar == \"@\"):\n",
        "        num = 1\n",
        "    else:\n",
        "        num = 0\n",
        "    for w in lineTrg:\n",
        "        if(splitChar == \"@\"):\n",
        "            trgIdx.append(num)\n",
        "            if(not w.endswith(\"@@\")):\n",
        "                num += 1\n",
        "        elif (splitChar == \"#\"):\n",
        "            if(not w.startswith(\"##\")):\n",
        "                num += 1\n",
        "            trgIdx.append(num)\n",
        "        else:\n",
        "          if (w.startswith(\"▁\")):\n",
        "                num += 1\n",
        "          trgIdx.append(num)\n",
        "    alignmentsList = []\n",
        "    for a in lineAlign:\n",
        "        [s, t] = a.split(\"-\")\n",
        "        if(one):\n",
        "          s = int(s) - 1\n",
        "          t = int(t) - 1\n",
        "        if(int(s) >= len(srcIdx) or int(t) >= len(trgIdx)):\n",
        "          print(cnt)\n",
        "          print(s,t)\n",
        "        a = \"%s-%s\"%(srcIdx[int(s)], trgIdx[int(t)])\n",
        "        if(not a in alignmentsList):\n",
        "                alignmentsList.append(a)\n",
        "    outFile.write(\" \".join(alignmentsList) + \"\\n\")\n",
        "  outFile.close()\n"
      ],
      "execution_count": 7,
      "outputs": []
    },
    {
      "cell_type": "code",
      "metadata": {
        "id": "qrMrYgsD8wtu"
      },
      "source": [
        "### model tokenizer do some preprocesses in addition to bpe that may split some words \n",
        "## e.g. the zero width spaces in farsi were replaced by spaces\n",
        "## this function will get the reference file and the tokenizers output file after concatenating bpe tokens\n",
        "## and returned the tokenized file with '##' before some words that should be concatenated \n",
        "## to the previous word with respect to the reference file\n",
        "## inputFile: test file address after removing zero width spaces\n",
        "## bpeFile: bpe output address after concatenating bpe tokens\n",
        "###\n",
        "def getTokenizedInput(inputFile, bpeFile, outputFile):\n",
        "  inMain = open(inputFile, \"r\", encoding='utf-8')\n",
        "  inBPE = open(bpeFile, \"r\", encoding='utf-8')\n",
        "  outFile = open(outputFile, \"w\")\n",
        "  cnt = 0\n",
        "  for line1, line2 in zip(inMain, inBPE):\n",
        "    line1 = line1.strip()\n",
        "    line2 = line2.strip()\n",
        "    line1 = line1.split()\n",
        "    line2 = line2.split()\n",
        "    n1 = 0\n",
        "    n2 = 0\n",
        "    w2 = \"\"\n",
        "    cnt += 1\n",
        "    for w1 in line1:\n",
        "        w2 = \"\"\n",
        "        while (len(w2) != len(w1) and n2 < len(line2)):\n",
        "          w2 += line2[n2]\n",
        "          n2 += 1\n",
        "          if (w2 == \"[UNK]\"):\n",
        "            break\n",
        "        if (len(w1) == len(w2) or w2 == \"[UNK]\"):\n",
        "          outFile.write(line2[n1] + \" \")\n",
        "          n1 += 1\n",
        "          while (n1 < n2):\n",
        "            outFile.write(\"##\" + line2[n1] + \" \")\n",
        "            n1 += 1\n",
        "        else:\n",
        "          print(cnt, w1)\n",
        "          print(w2)\n",
        "          return\n",
        "    outFile.write(\"\\n\")\n",
        "  outFile.close()"
      ],
      "execution_count": 8,
      "outputs": []
    },
    {
      "cell_type": "code",
      "metadata": {
        "colab": {
          "base_uri": "https://localhost:8080/"
        },
        "id": "p3E_rROs7iIi",
        "outputId": "ed1a1ec4-372e-46b5-b68b-9a70bbeabe1b"
      },
      "source": [
        "## downloading aer.py for computing AER and symal for symmetrizing alignments\n",
        "!wget https://raw.githubusercontent.com/lilt/alignment-scripts/master/scripts/aer.py\n",
        "!git clone https://github.com/moses-smt/mosesdecoder.git\n",
        "%cd mosesdecoder/symal\n",
        "!b2\n",
        "%cp bin/gcc-7/release/link-static/threading-multi/symal ../bin\n",
        "%cd ../.."
      ],
      "execution_count": 9,
      "outputs": [
        {
          "output_type": "stream",
          "text": [
            "--2021-07-15 10:10:49--  https://raw.githubusercontent.com/lilt/alignment-scripts/master/scripts/aer.py\n",
            "Resolving raw.githubusercontent.com (raw.githubusercontent.com)... 185.199.108.133, 185.199.109.133, 185.199.110.133, ...\n",
            "Connecting to raw.githubusercontent.com (raw.githubusercontent.com)|185.199.108.133|:443... connected.\n",
            "HTTP request sent, awaiting response... 200 OK\n",
            "Length: 8848 (8.6K) [text/plain]\n",
            "Saving to: ‘aer.py’\n",
            "\n",
            "aer.py              100%[===================>]   8.64K  --.-KB/s    in 0s      \n",
            "\n",
            "2021-07-15 10:10:49 (95.6 MB/s) - ‘aer.py’ saved [8848/8848]\n",
            "\n",
            "Cloning into 'mosesdecoder'...\n",
            "remote: Enumerating objects: 148070, done.\u001b[K\n",
            "remote: Counting objects: 100% (498/498), done.\u001b[K\n",
            "remote: Compressing objects: 100% (206/206), done.\u001b[K\n",
            "remote: Total 148070 (delta 315), reused 433 (delta 289), pack-reused 147572\u001b[K\n",
            "Receiving objects: 100% (148070/148070), 129.86 MiB | 19.09 MiB/s, done.\n",
            "Resolving deltas: 100% (114341/114341), done.\n",
            "/content/mosesdecoder/symal\n",
            "Tip: install tcmalloc for faster threading.  See BUILD-INSTRUCTIONS.txt for more information.\n",
            "warning: No toolsets are configured.\n",
            "warning: Configuring default toolset \"gcc\".\n",
            "warning: If the default is wrong, your build may not work correctly.\n",
            "warning: Use the \"toolset=xxxxx\" option to override our guess.\n",
            "warning: For more configuration options, please consult\n",
            "warning: http://boost.org/boost-build2/doc/html/bbv2/advanced/configuration.html\n",
            "Performing configuration checks\n",
            "\n",
            "    - Static Boost             : yes\n",
            "    - Shared Boost             : yes\n",
            "...found 29 targets...\n",
            "...updating 8 targets...\n",
            "common.mkdir bin\n",
            "common.mkdir bin/gcc-7\n",
            "common.mkdir bin/gcc-7/release\n",
            "common.mkdir bin/gcc-7/release/link-static\n",
            "common.mkdir bin/gcc-7/release/link-static/threading-multi\n",
            "gcc.compile.c++ bin/gcc-7/release/link-static/threading-multi/symal.o\n",
            "gcc.compile.c bin/gcc-7/release/link-static/threading-multi/cmd.o\n",
            "gcc.link bin/gcc-7/release/link-static/threading-multi/symal\n",
            "...updated 8 targets...\n",
            "SUCCESS\n",
            "/content\n"
          ],
          "name": "stdout"
        }
      ]
    },
    {
      "cell_type": "code",
      "metadata": {
        "id": "8bZfLdbq7pJh"
      },
      "source": [
        "SCRIPTS_ROOTDIR = \"/content/mosesdecoder/scripts/\"\n",
        "GIZA2BAL = SCRIPTS_ROOTDIR + \"/training/giza2bal.pl\"\n",
        "SYMAL = SCRIPTS_ROOTDIR + \"/../bin/symal\"\n",
        "\n",
        "\n",
        "srcText = \"data/text.en\"\n",
        "trgText = \"data/text.fa\"\n",
        "\n",
        "!mkdir \"outputs\""
      ],
      "execution_count": 10,
      "outputs": []
    },
    {
      "cell_type": "markdown",
      "metadata": {
        "id": "jt7fbBUESL2t"
      },
      "source": [
        "# **XLMR-Large**"
      ]
    },
    {
      "cell_type": "code",
      "metadata": {
        "id": "GGomKluG7t6i"
      },
      "source": [
        "MODEL_TYPE = \"XLMR-Large\"\n",
        "\n",
        "srcBPE = srcText + \".bpe.\" + MODEL_TYPE\n",
        "trgBPE = trgText + \".bpe.\" + MODEL_TYPE\n",
        "\n",
        "S2T_Alignment = \"outputs/alignments.S2T.\" + MODEL_TYPE\n",
        "T2S_Alignment = \"outputs/alignments.T2S.\" + MODEL_TYPE\n",
        "\n",
        "outFile = \"outputs/alignments.\" + MODEL_TYPE"
      ],
      "execution_count": 11,
      "outputs": []
    },
    {
      "cell_type": "code",
      "metadata": {
        "id": "ONYqeUof7wQl",
        "outputId": "f81f4a69-9df0-49cf-d6e7-81e0579b0c5e",
        "colab": {
          "base_uri": "https://localhost:8080/"
        }
      },
      "source": [
        "computeAlignments(srcText, trgText, \"outputs/alignments\", MODEL_TYPE)\n"
      ],
      "execution_count": 15,
      "outputs": [
        {
          "output_type": "stream",
          "text": [
            "Some weights of the model checkpoint at xlm-roberta-large were not used when initializing XLMRobertaModel: ['lm_head.dense.bias', 'lm_head.decoder.weight', 'lm_head.bias', 'lm_head.layer_norm.weight', 'lm_head.layer_norm.bias', 'lm_head.dense.weight']\n",
            "- This IS expected if you are initializing XLMRobertaModel from the checkpoint of a model trained on another task or with another architecture (e.g. initializing a BertForSequenceClassification model from a BertForPreTraining model).\n",
            "- This IS NOT expected if you are initializing XLMRobertaModel from the checkpoint of a model that you expect to be exactly identical (initializing a BertForSequenceClassification model from a BertForSequenceClassification model).\n"
          ],
          "name": "stderr"
        }
      ]
    },
    {
      "cell_type": "code",
      "metadata": {
        "id": "QTWOJjhd7ylZ"
      },
      "source": [
        "convertToGizaFormat(srcBPE, trgBPE, S2T_Alignment)\n",
        "convertToGizaFormat(trgBPE, srcBPE, T2S_Alignment)"
      ],
      "execution_count": 16,
      "outputs": []
    },
    {
      "cell_type": "code",
      "metadata": {
        "colab": {
          "base_uri": "https://localhost:8080/"
        },
        "id": "5UHEt_jv8pQ4",
        "outputId": "365c7b4c-1e87-4f32-ea80-83b96685e7f8"
      },
      "source": [
        "!$GIZA2BAL -d $T2S_Alignment\".giza-format\" -i $S2T_Alignment\".giza-format\" | $SYMAL -alignment=\"grow\" -diagonal=\"yes\" -final=\"yes\" -both=\"yes\" > $outFile\".grow-diag-final-and\""
      ],
      "execution_count": 17,
      "outputs": [
        {
          "output_type": "stream",
          "text": [
            "symal: computing grow alignment: diagonal (1) final (1)both-uncovered (1)\n",
            "skip=<0> counts=<1572>\n"
          ],
          "name": "stdout"
        }
      ]
    },
    {
      "cell_type": "code",
      "metadata": {
        "id": "moHJ6n1y8rNN"
      },
      "source": [
        "convertToWordLevel(srcBPE, trgBPE, outFile + \".grow-diag-final-and\", \"_\")"
      ],
      "execution_count": 18,
      "outputs": []
    },
    {
      "cell_type": "code",
      "metadata": {
        "colab": {
          "base_uri": "https://localhost:8080/"
        },
        "id": "P5voLAYe8t0E",
        "outputId": "56c15d85-245c-4205-957b-2d0e10c7a896"
      },
      "source": [
        "CHARS=(u\"▁\").encode(\"utf8\")\n",
        "print(CHARS)\n",
        "#concat bpe tokens\n",
        "!sed \"s/ //g\" data/text.fa.bpe.\"$MODEL_TYPE\" > data/text.fa.\"$MODEL_TYPE\".remove-bpe\n",
        "!sed \"s/ //g\" data/text.en.bpe.\"$MODEL_TYPE\" > data/text.en.\"$MODEL_TYPE\".remove-bpe\n",
        "\n",
        "!sed -i \"s/\\xe2\\x96\\x81/ /g\" data/text.fa.\"$MODEL_TYPE\".remove-bpe\n",
        "!sed -i \"s/\\xe2\\x96\\x81/ /g\" data/text.en.\"$MODEL_TYPE\".remove-bpe\n",
        "\n",
        "!cp data/text.en data/text.en.\"$MODEL_TYPE\".remove-zw\n",
        "# remove zero width space characters in reference file\n",
        "!sed \"s/\\xe2\\x80\\x8c//g\" data/text.fa > data/text.fa.\"$MODEL_TYPE\".remove-zw\n",
        "!sed -i \"s/\\xe2\\x80\\x8f//g\" data/text.fa.\"$MODEL_TYPE\".remove-zw\n",
        "#convert … to ... in reference file\n",
        "!sed -i \"s/\\xe2\\x80\\xa6/.../g\" data/text.fa.\"$MODEL_TYPE\".remove-zw\n",
        "!sed -i \"s/\\xe2\\x80\\xa6/.../g\" data/text.en.\"$MODEL_TYPE\".remove-zw"
      ],
      "execution_count": 21,
      "outputs": [
        {
          "output_type": "stream",
          "text": [
            "b'\\xe2\\x96\\x81'\n"
          ],
          "name": "stdout"
        }
      ]
    },
    {
      "cell_type": "code",
      "metadata": {
        "id": "uvS6kWfI9Qq_"
      },
      "source": [
        "getTokenizedInput(\"data/text.fa.\" + MODEL_TYPE + \".remove-zw\", \"data/text.fa.\" + MODEL_TYPE + \".remove-bpe\", \"data/text.fa.\" + MODEL_TYPE + \".tok\")\n",
        "getTokenizedInput(\"data/text.en.\" + MODEL_TYPE + \".remove-zw\", \"data/text.en.\" + MODEL_TYPE + \".remove-bpe\", \"data/text.en.\" + MODEL_TYPE + \".tok\")"
      ],
      "execution_count": 22,
      "outputs": []
    },
    {
      "cell_type": "code",
      "metadata": {
        "id": "f-dFZas59YLj"
      },
      "source": [
        "convertToWordLevel(srcText + \".\" + MODEL_TYPE + \".tok\", trgText + \".\" + MODEL_TYPE + \".tok\", outFile + \".grow-diag-final-and.final-alignment\", \"#\", True)"
      ],
      "execution_count": 23,
      "outputs": []
    },
    {
      "cell_type": "code",
      "metadata": {
        "colab": {
          "base_uri": "https://localhost:8080/"
        },
        "id": "wym8pb8v9gwy",
        "outputId": "35ca6cd3-eb27-4482-957c-b9dc88031ed5"
      },
      "source": [
        "!python aer.py --oneHyp --source \"$srcText\" --target \"$trgText\" data//gold.\"$SRC\"-\"$TRG\".aligned \"$outFile\".grow-diag-final-and.final-alignment.final-alignment"
      ],
      "execution_count": 24,
      "outputs": [
        {
          "output_type": "stream",
          "text": [
            "outputs/alignments.XLMR-Large.grow-diag-final-and.final-alignment.final-alignment: 50.3% (53.9%/46.2%/22087)\n",
            "[((',', '.'), 244), (('the', 'در'), 89), ((',', '،'), 81), (('of', 'از'), 55), (('of', 'به'), 47), (('the', 'و'), 45), (('the', 'از'), 45), (('the', 'به'), 42), (('the', 'را'), 39), (('the', 'که'), 39)]\n",
            "Internal Jumps: 2271, External Jumps: 6990\n",
            "Source Coverage: 80.0%, Target Coverage: 80.3%\n"
          ],
          "name": "stdout"
        }
      ]
    },
    {
      "cell_type": "markdown",
      "metadata": {
        "id": "L4_4hK7KSiO9"
      },
      "source": [
        "# **XLMR-Base**"
      ]
    },
    {
      "cell_type": "code",
      "metadata": {
        "id": "IVRHvdv9Sh2G"
      },
      "source": [
        "MODEL_TYPE = \"XLMR-Base\""
      ],
      "execution_count": 25,
      "outputs": []
    },
    {
      "cell_type": "code",
      "metadata": {
        "id": "igIyqyVNStMB"
      },
      "source": [
        "srcBPE = srcText + \".bpe.\" + MODEL_TYPE\n",
        "trgBPE = trgText + \".bpe.\" + MODEL_TYPE\n",
        "\n",
        "S2T_Alignment = \"outputs/alignments.S2T.\" + MODEL_TYPE\n",
        "T2S_Alignment = \"outputs/alignments.T2S.\" + MODEL_TYPE\n",
        "\n",
        "outFile = \"outputs/alignments.\" + MODEL_TYPE"
      ],
      "execution_count": 27,
      "outputs": []
    },
    {
      "cell_type": "code",
      "metadata": {
        "colab": {
          "base_uri": "https://localhost:8080/",
          "height": 287,
          "referenced_widgets": [
            "aaa03412bff94635823248dd6730505b",
            "e00a2c03b35d482e95c2346e5d0aedbd",
            "64472172af0c4b9d81cf8513cd71071e",
            "c912bebee45e489bb5f6af5d3b0d5aba",
            "c2e0f789f5d6489f9d8c11a4eff6b422",
            "87c4b73bb8534f64945127693b2d208e",
            "8d1e051f7d80497cacdea57cd90a66a7",
            "7920f5dbce6548d488cf1248fdd9b17a",
            "270a86107b7444879b9d46ca5a2ce092",
            "64d8c24c021b4ab3ac962fc4a21e9b74",
            "1a51861cadfb4ccd80f08ae027379d34",
            "e6b740cd14964be6b22fba154be2d31a",
            "9f41f92fcb6046f59ae39aea8439d0b2",
            "11750aa0a2e947ea8599c57b07b5d940",
            "2761515c0f9b40a0aa3f9d77791c5a78",
            "edb3efa7221046f6be3f90f2bbdd44f0",
            "dcce97696bec40e09cf3cfe78b36b0b3",
            "3a68613e941b42aca2c0cfd9c086805a",
            "4e4d7c4cb9c348baa7f0eaa5d7729bd9",
            "e22f0cc701e9412eb8fbd94396de3313",
            "42f8e5b658d6487584997d34ff4a4615",
            "577877f271784d85a753b03f7ca69eca",
            "7287fa43f7cc4463931d5237680f588e",
            "552cad6e963f42c4a272f0d9a5895fdf",
            "af5a6ee17c62409f8ee853ed2f589c80",
            "48e13df0271d40b59552d194db6910fb",
            "7327fbe6de3d432baafaa4741e5fadda",
            "36075d27a36c4e9895de17cc80b3ee5a",
            "46757bf784fd408fa52a671ec6af1a62",
            "a2dec48610a04dc48822b15b98725cf5",
            "ffa2e6ca6bc24593b53ad90920cd4497",
            "f0f1b9519af44857b150d8069dc0a5a6"
          ]
        },
        "id": "OwZqNg77UU3-",
        "outputId": "0f985e73-7750-4c89-8972-6cc5a223d6c9"
      },
      "source": [
        "computeAlignments(srcText, trgText, \"outputs/alignments\", MODEL_TYPE)"
      ],
      "execution_count": 28,
      "outputs": [
        {
          "output_type": "display_data",
          "data": {
            "application/vnd.jupyter.widget-view+json": {
              "model_id": "aaa03412bff94635823248dd6730505b",
              "version_minor": 0,
              "version_major": 2
            },
            "text/plain": [
              "HBox(children=(FloatProgress(value=0.0, description='Downloading', max=5069051.0, style=ProgressStyle(descript…"
            ]
          },
          "metadata": {
            "tags": []
          }
        },
        {
          "output_type": "stream",
          "text": [
            "\n"
          ],
          "name": "stdout"
        },
        {
          "output_type": "display_data",
          "data": {
            "application/vnd.jupyter.widget-view+json": {
              "model_id": "270a86107b7444879b9d46ca5a2ce092",
              "version_minor": 0,
              "version_major": 2
            },
            "text/plain": [
              "HBox(children=(FloatProgress(value=0.0, description='Downloading', max=9096718.0, style=ProgressStyle(descript…"
            ]
          },
          "metadata": {
            "tags": []
          }
        },
        {
          "output_type": "stream",
          "text": [
            "\n"
          ],
          "name": "stdout"
        },
        {
          "output_type": "display_data",
          "data": {
            "application/vnd.jupyter.widget-view+json": {
              "model_id": "dcce97696bec40e09cf3cfe78b36b0b3",
              "version_minor": 0,
              "version_major": 2
            },
            "text/plain": [
              "HBox(children=(FloatProgress(value=0.0, description='Downloading', max=512.0, style=ProgressStyle(description_…"
            ]
          },
          "metadata": {
            "tags": []
          }
        },
        {
          "output_type": "stream",
          "text": [
            "\n"
          ],
          "name": "stdout"
        },
        {
          "output_type": "display_data",
          "data": {
            "application/vnd.jupyter.widget-view+json": {
              "model_id": "af5a6ee17c62409f8ee853ed2f589c80",
              "version_minor": 0,
              "version_major": 2
            },
            "text/plain": [
              "HBox(children=(FloatProgress(value=0.0, description='Downloading', max=1115590446.0, style=ProgressStyle(descr…"
            ]
          },
          "metadata": {
            "tags": []
          }
        },
        {
          "output_type": "stream",
          "text": [
            "\n"
          ],
          "name": "stdout"
        },
        {
          "output_type": "stream",
          "text": [
            "Some weights of the model checkpoint at xlm-roberta-base were not used when initializing XLMRobertaModel: ['lm_head.dense.bias', 'lm_head.decoder.weight', 'lm_head.bias', 'lm_head.layer_norm.weight', 'lm_head.layer_norm.bias', 'lm_head.dense.weight']\n",
            "- This IS expected if you are initializing XLMRobertaModel from the checkpoint of a model trained on another task or with another architecture (e.g. initializing a BertForSequenceClassification model from a BertForPreTraining model).\n",
            "- This IS NOT expected if you are initializing XLMRobertaModel from the checkpoint of a model that you expect to be exactly identical (initializing a BertForSequenceClassification model from a BertForSequenceClassification model).\n"
          ],
          "name": "stderr"
        }
      ]
    },
    {
      "cell_type": "code",
      "metadata": {
        "colab": {
          "base_uri": "https://localhost:8080/"
        },
        "id": "WIMzxYMHSwev",
        "outputId": "c4d97c7a-49d4-459d-a35c-b7c00acc82bf"
      },
      "source": [
        "convertToGizaFormat(srcBPE, trgBPE, S2T_Alignment)\n",
        "convertToGizaFormat(trgBPE, srcBPE, T2S_Alignment)\n",
        "!$GIZA2BAL -d $T2S_Alignment\".giza-format\" -i $S2T_Alignment\".giza-format\" | $SYMAL -alignment=\"grow\" -diagonal=\"yes\" -final=\"yes\" -both=\"yes\" > $outFile\".grow-diag-final-and\""
      ],
      "execution_count": 29,
      "outputs": [
        {
          "output_type": "stream",
          "text": [
            "symal: computing grow alignment: diagonal (1) final (1)both-uncovered (1)\n",
            "skip=<0> counts=<1572>\n"
          ],
          "name": "stdout"
        }
      ]
    },
    {
      "cell_type": "code",
      "metadata": {
        "id": "6KH4JPgRS2zn"
      },
      "source": [
        "convertToWordLevel(srcBPE, trgBPE, outFile + \".grow-diag-final-and\", \"_\")"
      ],
      "execution_count": 32,
      "outputs": []
    },
    {
      "cell_type": "code",
      "metadata": {
        "id": "vYOpIheHS5c2"
      },
      "source": [
        "#concat bpe tokens\n",
        "!sed \"s/ //g\" data/text.fa.bpe.\"$MODEL_TYPE\" > data/text.fa.\"$MODEL_TYPE\".remove-bpe\n",
        "!sed -i \"s/\\xe2\\x96\\x81/ /g\" data/text.fa.\"$MODEL_TYPE\".remove-bpe\n",
        "!sed \"s/ //g\" data/text.en.bpe.\"$MODEL_TYPE\" > data/text.en.\"$MODEL_TYPE\".remove-bpe\n",
        "!sed -i \"s/\\xe2\\x96\\x81/ /g\" data/text.en.\"$MODEL_TYPE\".remove-bpe\n",
        "\n",
        "!cp data/text.en data/text.en.\"$MODEL_TYPE\".remove-zw\n",
        "# remove zero width characters in reference file\n",
        "!sed \"s/\\xe2\\x80\\x8c//g\" data/text.fa > data/text.fa.\"$MODEL_TYPE\".remove-zw\n",
        "!sed -i \"s/\\xe2\\x80\\x8f//g\" data/text.fa.\"$MODEL_TYPE\".remove-zw\n",
        "#convert … to ... in reference file\n",
        "!sed -i \"s/\\xe2\\x80\\xa6/.../g\" data/text.fa.\"$MODEL_TYPE\".remove-zw\n",
        "!sed -i \"s/\\xe2\\x80\\xa6/.../g\" data/text.en.\"$MODEL_TYPE\".remove-zw"
      ],
      "execution_count": 33,
      "outputs": []
    },
    {
      "cell_type": "code",
      "metadata": {
        "id": "b6MsVeQkTJFo"
      },
      "source": [
        "getTokenizedInput(\"data/text.fa.\" + MODEL_TYPE + \".remove-zw\", \"data/text.fa.\" + MODEL_TYPE + \".remove-bpe\", \"data/text.fa.\" + MODEL_TYPE + \".tok\")\n",
        "getTokenizedInput(\"data/text.en.\" + MODEL_TYPE + \".remove-zw\", \"data/text.en.\" + MODEL_TYPE + \".remove-bpe\", \"data/text.en.\" + MODEL_TYPE + \".tok\")\n",
        "\n",
        "convertToWordLevel(srcText + \".\" + MODEL_TYPE + \".tok\", trgText + \".\" + MODEL_TYPE + \".tok\", outFile + \".grow-diag-final-and.final-alignment\", \"#\", True)"
      ],
      "execution_count": 34,
      "outputs": []
    },
    {
      "cell_type": "code",
      "metadata": {
        "colab": {
          "base_uri": "https://localhost:8080/"
        },
        "id": "WFu0AxLHTPyG",
        "outputId": "06851178-6507-40ca-bc67-591a39eebf75"
      },
      "source": [
        "!python aer.py --oneHyp --source \"$srcText\" --target \"$trgText\" data//gold.\"$SRC\"-\"$TRG\".aligned \"$outFile\".grow-diag-final-and.final-alignment.final-alignment"
      ],
      "execution_count": 35,
      "outputs": [
        {
          "output_type": "stream",
          "text": [
            "outputs/alignments.XLMR-Base.grow-diag-final-and.final-alignment.final-alignment: 43.3% (61.1%/52.9%/22288)\n",
            "[(('the', 'به'), 131), (('the', 'در'), 92), ((',', '.'), 84), ((',', '،'), 77), (('the', 'از'), 68), (('of', 'از'), 63), (('the', 'که'), 55), (('to', 'را'), 52), (('the', 'و'), 42), (('to', 'به'), 37)]\n",
            "Internal Jumps: 1744, External Jumps: 6563\n",
            "Source Coverage: 82.1%, Target Coverage: 81.2%\n"
          ],
          "name": "stdout"
        }
      ]
    },
    {
      "cell_type": "markdown",
      "metadata": {
        "id": "b-tbPXv1VKjH"
      },
      "source": [
        "# **XLM-100**\n"
      ]
    },
    {
      "cell_type": "code",
      "metadata": {
        "id": "KvIJ5c3uVJXj"
      },
      "source": [
        "MODEL_TYPE = \"XLM100\"\n",
        "\n",
        "srcBPE = srcText + \".bpe.\" + MODEL_TYPE\n",
        "trgBPE = trgText + \".bpe.\" + MODEL_TYPE\n",
        "\n",
        "S2T_Alignment = \"outputs/alignments.S2T.\" + MODEL_TYPE\n",
        "T2S_Alignment = \"outputs/alignments.T2S.\" + MODEL_TYPE\n",
        "\n",
        "outFile = \"outputs/alignments.\" + MODEL_TYPE"
      ],
      "execution_count": 36,
      "outputs": []
    },
    {
      "cell_type": "code",
      "metadata": {
        "id": "51B-EA0vVVVu",
        "outputId": "c9a9a2ca-7dfc-4567-f843-43c98d2d88b8",
        "colab": {
          "base_uri": "https://localhost:8080/",
          "height": 336,
          "referenced_widgets": [
            "1c7aa8a799c347bba139ef92b4adb5ea",
            "d18eaeeb90144378952927ce7e49f65f",
            "c63d058c9d3a4d68a3b9fe7c813d9455",
            "7a15dc30bec44ab68bf8991ec9dc14d4",
            "f5c038466b274c30aca44bc6cb01e030",
            "b0e2a3f9b463416a8190968b80836915",
            "2ef88a3416424c5cb31b0f88f75bad80",
            "60b612d016134e69aa8245c449d23d79",
            "fe10f46d86db4cb48e79a3d716c34bde",
            "540f2aea3f8c4376ace8e03663ef4f57",
            "3612b7ba4c614d9f9b71c3c8ad5d655f",
            "e0c07678c721423f98bdff592bdb504f",
            "5cb20815109844eb84332e3f94cf720f",
            "f3f6243f77d940c39417b7a35cc26c99",
            "34877825e86344d69855da7beb391bf9",
            "ae51e38cec114372814e6404001c4d55",
            "4b66f68040d44d31b93417c0930c91cb",
            "5e95a098bfbd4067b08922d261283f84",
            "d97793aff57b45c48852f8527467732e",
            "52fa3a10804e48da9e1db8555ec780a3",
            "872f69b2a6a640a38c7fdab705555805",
            "eafeddefec514897934a9f389782d2fb",
            "7ef1d7f750254280afd744244bf7039a",
            "cdcf14ff59dd49d0b71360f5287880da",
            "80ef4b2b3a13464eba66fa4b4e3a165f",
            "29a4bdb8190b41d5baddc531c0272dd4",
            "747a07dc010043de850c379c1ce5e414",
            "c2862f435c194e65a93a6ef9fb135700",
            "7d85813147654a5896cf085d5328b075",
            "79f9c732b8764bd9b5ff639601bdca3b",
            "6a13254b3f5e494883c03def640471c7",
            "fe3a8af239cd441f9674b0b38ce8b37d",
            "01503773152d4a349480917ba64a8b01",
            "287377dfe8d74abfa4757a31dbabaecb",
            "65056786ca2448cfa40a069aa66ee0b7",
            "819929a2d17242739502c282adfd0617",
            "bd720d4c2f3f4638bfa7132c9102340e",
            "7f78c684e2e447de83976d5b01e8f3d0",
            "7e7c950341a24cb78a98c1f8f90b7a35",
            "953a4ef3e3fb4bd6bff2ec759df9649c"
          ]
        }
      },
      "source": [
        "computeAlignments(srcText, trgText, \"outputs/alignments\", MODEL_TYPE)\n"
      ],
      "execution_count": 37,
      "outputs": [
        {
          "output_type": "display_data",
          "data": {
            "application/vnd.jupyter.widget-view+json": {
              "model_id": "1c7aa8a799c347bba139ef92b4adb5ea",
              "version_minor": 0,
              "version_major": 2
            },
            "text/plain": [
              "HBox(children=(FloatProgress(value=0.0, description='Downloading', max=5715183.0, style=ProgressStyle(descript…"
            ]
          },
          "metadata": {
            "tags": []
          }
        },
        {
          "output_type": "stream",
          "text": [
            "\n"
          ],
          "name": "stdout"
        },
        {
          "output_type": "display_data",
          "data": {
            "application/vnd.jupyter.widget-view+json": {
              "model_id": "fe10f46d86db4cb48e79a3d716c34bde",
              "version_minor": 0,
              "version_major": 2
            },
            "text/plain": [
              "HBox(children=(FloatProgress(value=0.0, description='Downloading', max=2973279.0, style=ProgressStyle(descript…"
            ]
          },
          "metadata": {
            "tags": []
          }
        },
        {
          "output_type": "stream",
          "text": [
            "\n"
          ],
          "name": "stdout"
        },
        {
          "output_type": "display_data",
          "data": {
            "application/vnd.jupyter.widget-view+json": {
              "model_id": "4b66f68040d44d31b93417c0930c91cb",
              "version_minor": 0,
              "version_major": 2
            },
            "text/plain": [
              "HBox(children=(FloatProgress(value=0.0, description='Downloading', max=2350.0, style=ProgressStyle(description…"
            ]
          },
          "metadata": {
            "tags": []
          }
        },
        {
          "output_type": "stream",
          "text": [
            "\n"
          ],
          "name": "stdout"
        },
        {
          "output_type": "display_data",
          "data": {
            "application/vnd.jupyter.widget-view+json": {
              "model_id": "80ef4b2b3a13464eba66fa4b4e3a165f",
              "version_minor": 0,
              "version_major": 2
            },
            "text/plain": [
              "HBox(children=(FloatProgress(value=0.0, description='Downloading', max=41937.0, style=ProgressStyle(descriptio…"
            ]
          },
          "metadata": {
            "tags": []
          }
        },
        {
          "output_type": "stream",
          "text": [
            "\n"
          ],
          "name": "stdout"
        },
        {
          "output_type": "display_data",
          "data": {
            "application/vnd.jupyter.widget-view+json": {
              "model_id": "01503773152d4a349480917ba64a8b01",
              "version_minor": 0,
              "version_major": 2
            },
            "text/plain": [
              "HBox(children=(FloatProgress(value=0.0, description='Downloading', max=1143436263.0, style=ProgressStyle(descr…"
            ]
          },
          "metadata": {
            "tags": []
          }
        },
        {
          "output_type": "stream",
          "text": [
            "\n"
          ],
          "name": "stdout"
        },
        {
          "output_type": "stream",
          "text": [
            "Some weights of the model checkpoint at xlm-mlm-100-1280 were not used when initializing XLMModel: ['pred_layer.proj.bias', 'pred_layer.proj.weight']\n",
            "- This IS expected if you are initializing XLMModel from the checkpoint of a model trained on another task or with another architecture (e.g. initializing a BertForSequenceClassification model from a BertForPreTraining model).\n",
            "- This IS NOT expected if you are initializing XLMModel from the checkpoint of a model that you expect to be exactly identical (initializing a BertForSequenceClassification model from a BertForSequenceClassification model).\n"
          ],
          "name": "stderr"
        }
      ]
    },
    {
      "cell_type": "code",
      "metadata": {
        "id": "2eLz6KAPZVhx"
      },
      "source": [
        "def convertBPEFormat(inputFile, outputFile):\n",
        "  inFile = open(inputFile, \"r\")\n",
        "  outFile = open(outputFile,\"w\")\n",
        "  for line in inFile:\n",
        "    line = line.strip().split()\n",
        "    for i in range(1, len(line) - 1):\n",
        "        if (not line[i-1].endswith(\"</w>\")):\n",
        "          line[i] = \"##\" + line[i]\n",
        "    for i in range(0, len(line)):\n",
        "        if (line[i].endswith(\"</w>\")):\n",
        "          line[i] = line[i][0:-4]\n",
        "    outFile.write(' '.join(line))\n",
        "    outFile.write(\"\\n\")\n",
        "  outFile.close()\n",
        "\n",
        "convertBPEFormat(srcBPE, srcBPE + \".converted\")\n",
        "convertBPEFormat(trgBPE, trgBPE + \".converted\")\n"
      ],
      "execution_count": 38,
      "outputs": []
    },
    {
      "cell_type": "code",
      "metadata": {
        "colab": {
          "base_uri": "https://localhost:8080/"
        },
        "id": "IK3VPiY1VamQ",
        "outputId": "759255c9-a497-4c91-9fdd-e9a67da83608"
      },
      "source": [
        "convertToGizaFormat(srcBPE + \".converted\", trgBPE + \".converted\", S2T_Alignment)\n",
        "convertToGizaFormat(trgBPE + \".converted\", srcBPE + \".converted\", T2S_Alignment)\n",
        "!$GIZA2BAL -d $T2S_Alignment\".giza-format\" -i $S2T_Alignment\".giza-format\" | $SYMAL -alignment=\"grow\" -diagonal=\"yes\" -final=\"yes\" -both=\"yes\" > $outFile\".grow-diag-final-and\""
      ],
      "execution_count": 39,
      "outputs": [
        {
          "output_type": "stream",
          "text": [
            "symal: computing grow alignment: diagonal (1) final (1)both-uncovered (1)\n",
            "skip=<0> counts=<1572>\n"
          ],
          "name": "stdout"
        }
      ]
    },
    {
      "cell_type": "code",
      "metadata": {
        "id": "vdzoZ2nqVcMV"
      },
      "source": [
        "convertToWordLevel(srcBPE + \".converted\", trgBPE + \".converted\", outFile + \".grow-diag-final-and\", \"#\")"
      ],
      "execution_count": 40,
      "outputs": []
    },
    {
      "cell_type": "code",
      "metadata": {
        "id": "sHboAb0iVf-N"
      },
      "source": [
        "#concat bpe tokens\n",
        "!sed \"s/ ##//g\" data/text.fa.bpe.\"$MODEL_TYPE\".converted > data/text.fa.\"$MODEL_TYPE\".remove-bpe\n",
        "!sed \"s/ ##//g\" data/text.en.bpe.\"$MODEL_TYPE\".converted > data/text.en.\"$MODEL_TYPE\".remove-bpe\n",
        "\n",
        "!cp data/text.en data/text.en.\"$MODEL_TYPE\".remove-zw\n",
        "# remove zero width characters in reference file\n",
        "!sed \"s/\\xe2\\x80\\x8c//g\" data/text.fa > data/text.fa.\"$MODEL_TYPE\".remove-zw\n",
        "!sed -i \"s/\\xe2\\x80\\x8f//g\" data/text.fa.\"$MODEL_TYPE\".remove-zw\n",
        "#remove اً\n",
        "#!sed -i \"s/\\xd9\\x8b//g\" data/text.fa.\"$MODEL_TYPE\".remove-zw\n",
        "#convert … to ... in reference file\n",
        "!sed -i \"s/\\xe2\\x80\\xa6/.../g\" data/text.fa.\"$MODEL_TYPE\".remove-zw\n",
        "!sed -i \"s/\\xe2\\x80\\xa6/.../g\" data/text.en.\"$MODEL_TYPE\".remove-zw"
      ],
      "execution_count": 44,
      "outputs": []
    },
    {
      "cell_type": "code",
      "metadata": {
        "id": "dTLgrKaiVibG"
      },
      "source": [
        "getTokenizedInput(\"data/text.fa.\" + MODEL_TYPE + \".remove-zw\", \"data/text.fa.\" + MODEL_TYPE + \".remove-bpe\", \"data/text.fa.\" + MODEL_TYPE + \".tok\")\n",
        "getTokenizedInput(\"data/text.en.\" + MODEL_TYPE + \".remove-zw\", \"data/text.en.\" + MODEL_TYPE + \".remove-bpe\", \"data/text.en.\" + MODEL_TYPE + \".tok\")\n",
        "\n",
        "convertToWordLevel(srcText + \".\" + MODEL_TYPE + \".tok\", trgText + \".\" + MODEL_TYPE + \".tok\", outFile + \".grow-diag-final-and.final-alignment\", \"#\", True)"
      ],
      "execution_count": 45,
      "outputs": []
    },
    {
      "cell_type": "code",
      "metadata": {
        "id": "IPPr8TSyVlJZ",
        "colab": {
          "base_uri": "https://localhost:8080/"
        },
        "outputId": "36d08a6f-2e01-446d-93c6-9bc0b2285980"
      },
      "source": [
        "!python aer.py --oneHyp --source \"$srcText\" --target \"$trgText\" data//gold.\"$SRC\"-\"$TRG\".aligned \"$outFile\".grow-diag-final-and.final-alignment.final-alignment"
      ],
      "execution_count": 46,
      "outputs": [
        {
          "output_type": "stream",
          "text": [
            "outputs/alignments.XLM100.grow-diag-final-and.final-alignment.final-alignment: 44.2% (58.2%/53.5%/23697)\n",
            "[((',', '،'), 186), (('the', 'در'), 89), (('.', '،'), 87), (('the', 'از'), 69), (('of', 'از'), 47), (('a', 'به'), 44), (('to', 'به'), 43), (('the', 'که'), 40), (('the', 'را'), 39), (('and', 'و'), 38)]\n",
            "Internal Jumps: 2071, External Jumps: 6947\n",
            "Source Coverage: 85.8%, Target Coverage: 85.3%\n"
          ],
          "name": "stdout"
        }
      ]
    },
    {
      "cell_type": "markdown",
      "metadata": {
        "id": "Wd1P5RtEesWf"
      },
      "source": [
        "# **MBERT**"
      ]
    },
    {
      "cell_type": "code",
      "metadata": {
        "id": "WTvspkmEerRM",
        "outputId": "d6813932-9057-4f97-86bb-419f4df6e070",
        "colab": {
          "base_uri": "https://localhost:8080/"
        }
      },
      "source": [
        "MODEL_TYPE = \"MBERT\"\n",
        "\n",
        "srcText = \"data/text.en\"\n",
        "trgText = \"data/text.fa\"\n",
        "\n",
        "srcBPE = srcText + \".bpe.\" + MODEL_TYPE\n",
        "trgBPE = trgText + \".bpe.\" + MODEL_TYPE\n",
        "\n",
        "S2T_Alignment = \"outputs/alignments.S2T.\" + MODEL_TYPE\n",
        "T2S_Alignment = \"outputs/alignments.T2S.\" + MODEL_TYPE\n",
        "\n",
        "outFile = \"outputs/alignments.\" + MODEL_TYPE\n",
        "\n",
        "!mkdir \"outputs\""
      ],
      "execution_count": 47,
      "outputs": [
        {
          "output_type": "stream",
          "text": [
            "mkdir: cannot create directory ‘outputs’: File exists\n"
          ],
          "name": "stdout"
        }
      ]
    },
    {
      "cell_type": "code",
      "metadata": {
        "colab": {
          "base_uri": "https://localhost:8080/",
          "height": 336,
          "referenced_widgets": [
            "830a66cbfda846edaa0fe1345467a615",
            "5774670b34cf4735bbe0930d04b09329",
            "f8dc00919f1348cd92437428c8752a9c",
            "7849e5571d584e81af92bd76d5f29280",
            "fffad4e1c40b4114a9f60912ae5a9512",
            "c0d9eaf46f804f1ba5bcc368e1da46c8",
            "04bbabd9ad854475b6b8d615eb543900",
            "5df7539bb56e4aa38708d117bf72684c",
            "2d815336677946b5aa0155f5cfdd92cd",
            "5c86e1cffe324ae68b8043075f9aca04",
            "246f1a36fc7a4b1aa0b8deecc8c397fb",
            "8ef389529cae40e89b52af1bb5f4b85e",
            "30b518b24d264bf5bef8ceff7497a0fb",
            "b7d5b33a0a6b428e90c4c5a97bfe48f0",
            "32e60633b8fd4bfabdf181a5e5a26d27",
            "537a477195f24a2eaf7bd9a452f5b4c8",
            "9ebf75a0dbb943caad6b50d95d20cf30",
            "9244bdfbda4448eabb4f6cc1565a810d",
            "6fe322684c4b40d193abea12fb448f23",
            "0c974b4511f2460e9a04ede62bcff65f",
            "589a81b971e44f9d92b65361af6f04e9",
            "e20509e8d36d4fa9a490c4219fc914f0",
            "c749d966475a48e380b05de0d08dff7c",
            "5d006aa7a18f450bb723cb659bbb1acb",
            "d259e33890a04c4a90b2fa5b8a147887",
            "c8a78f2cb9624cf6b7345c0400e8269c",
            "4916b5319c6642aebe7f942ef85228fc",
            "3027adf31299404da32ad73a243c4ea1",
            "6a74036cc1f540888d48c8d402b735ff",
            "bdd28f7586114c5fb3c49e4494d8149a",
            "91fd8de196b444928c9b8586c00ffaeb",
            "b046f0895c6d4280a227e07c1a6f10cf",
            "45d81f364a23491baf7a9ae82155e3d0",
            "24de3045081e4eb69e49c335804e48b7",
            "d57a830f84f540afae39ac3aac06177a",
            "3c244efdbd674aaeb1ebec1b4a46b52d",
            "141822421ce24aac87793ec839310508",
            "91904d934ec94c8bae8d2565167c121f",
            "75544742ff764cf1ac3f7aec8b7ff3b6",
            "8d0d6285a0db42d982d7f8681b8f256c"
          ]
        },
        "id": "Per5b51Qe1ro",
        "outputId": "5ab93a4d-4236-4357-94cd-d4d645b51bdf"
      },
      "source": [
        "computeAlignments(srcText, trgText, \"outputs/alignments\", MODEL_TYPE)"
      ],
      "execution_count": 48,
      "outputs": [
        {
          "output_type": "display_data",
          "data": {
            "application/vnd.jupyter.widget-view+json": {
              "model_id": "830a66cbfda846edaa0fe1345467a615",
              "version_minor": 0,
              "version_major": 2
            },
            "text/plain": [
              "HBox(children=(FloatProgress(value=0.0, description='Downloading', max=995526.0, style=ProgressStyle(descripti…"
            ]
          },
          "metadata": {
            "tags": []
          }
        },
        {
          "output_type": "stream",
          "text": [
            "\n"
          ],
          "name": "stdout"
        },
        {
          "output_type": "display_data",
          "data": {
            "application/vnd.jupyter.widget-view+json": {
              "model_id": "2d815336677946b5aa0155f5cfdd92cd",
              "version_minor": 0,
              "version_major": 2
            },
            "text/plain": [
              "HBox(children=(FloatProgress(value=0.0, description='Downloading', max=29.0, style=ProgressStyle(description_w…"
            ]
          },
          "metadata": {
            "tags": []
          }
        },
        {
          "output_type": "stream",
          "text": [
            "\n"
          ],
          "name": "stdout"
        },
        {
          "output_type": "display_data",
          "data": {
            "application/vnd.jupyter.widget-view+json": {
              "model_id": "9ebf75a0dbb943caad6b50d95d20cf30",
              "version_minor": 0,
              "version_major": 2
            },
            "text/plain": [
              "HBox(children=(FloatProgress(value=0.0, description='Downloading', max=1961828.0, style=ProgressStyle(descript…"
            ]
          },
          "metadata": {
            "tags": []
          }
        },
        {
          "output_type": "stream",
          "text": [
            "\n"
          ],
          "name": "stdout"
        },
        {
          "output_type": "display_data",
          "data": {
            "application/vnd.jupyter.widget-view+json": {
              "model_id": "d259e33890a04c4a90b2fa5b8a147887",
              "version_minor": 0,
              "version_major": 2
            },
            "text/plain": [
              "HBox(children=(FloatProgress(value=0.0, description='Downloading', max=625.0, style=ProgressStyle(description_…"
            ]
          },
          "metadata": {
            "tags": []
          }
        },
        {
          "output_type": "stream",
          "text": [
            "\n"
          ],
          "name": "stdout"
        },
        {
          "output_type": "display_data",
          "data": {
            "application/vnd.jupyter.widget-view+json": {
              "model_id": "45d81f364a23491baf7a9ae82155e3d0",
              "version_minor": 0,
              "version_major": 2
            },
            "text/plain": [
              "HBox(children=(FloatProgress(value=0.0, description='Downloading', max=714314041.0, style=ProgressStyle(descri…"
            ]
          },
          "metadata": {
            "tags": []
          }
        },
        {
          "output_type": "stream",
          "text": [
            "\n"
          ],
          "name": "stdout"
        },
        {
          "output_type": "stream",
          "text": [
            "Some weights of the model checkpoint at bert-base-multilingual-cased were not used when initializing BertModel: ['cls.seq_relationship.bias', 'cls.predictions.decoder.weight', 'cls.predictions.bias', 'cls.predictions.transform.dense.bias', 'cls.predictions.transform.LayerNorm.bias', 'cls.predictions.transform.dense.weight', 'cls.predictions.transform.LayerNorm.weight', 'cls.seq_relationship.weight']\n",
            "- This IS expected if you are initializing BertModel from the checkpoint of a model trained on another task or with another architecture (e.g. initializing a BertForSequenceClassification model from a BertForPreTraining model).\n",
            "- This IS NOT expected if you are initializing BertModel from the checkpoint of a model that you expect to be exactly identical (initializing a BertForSequenceClassification model from a BertForSequenceClassification model).\n"
          ],
          "name": "stderr"
        }
      ]
    },
    {
      "cell_type": "code",
      "metadata": {
        "colab": {
          "base_uri": "https://localhost:8080/"
        },
        "id": "8bhUksi2e4tB",
        "outputId": "2e8c39c9-d4cf-43c9-8350-1a8bb163ae7e"
      },
      "source": [
        "convertToGizaFormat(srcBPE, trgBPE, S2T_Alignment)\n",
        "convertToGizaFormat(trgBPE, srcBPE, T2S_Alignment)\n",
        "!$GIZA2BAL -d $T2S_Alignment\".giza-format\" -i $S2T_Alignment\".giza-format\" | $SYMAL -alignment=\"grow\" -diagonal=\"yes\" -final=\"yes\" -both=\"yes\" > $outFile\".grow-diag-final-and\""
      ],
      "execution_count": 49,
      "outputs": [
        {
          "output_type": "stream",
          "text": [
            "symal: computing grow alignment: diagonal (1) final (1)both-uncovered (1)\n",
            "skip=<0> counts=<1572>\n"
          ],
          "name": "stdout"
        }
      ]
    },
    {
      "cell_type": "code",
      "metadata": {
        "id": "uwri2UPsssBr"
      },
      "source": [
        "convertToWordLevel(srcBPE, trgBPE, outFile + \".grow-diag-final-and\", \"#\")"
      ],
      "execution_count": 50,
      "outputs": []
    },
    {
      "cell_type": "code",
      "metadata": {
        "id": "jgM1Tnp0e8H_"
      },
      "source": [
        "#concat bpe tokens\n",
        "!sed \"s/ ##//g\" data/text.fa.bpe.\"$MODEL_TYPE\" > data/text.fa.\"$MODEL_TYPE\".remove-bpe\n",
        "!sed \"s/ ##//g\" data/text.en.bpe.\"$MODEL_TYPE\" > data/text.en.\"$MODEL_TYPE\".remove-bpe\n",
        "\n",
        "# remove zero width characters in reference file\n",
        "!sed \"s/\\xe2\\x80\\x8c//g\" data/text.fa > data/text.fa.\"$MODEL_TYPE\".remove-zw\n",
        "!sed -i \"s/\\xe2\\x80\\x8f//g\" data/text.fa.\"$MODEL_TYPE\".remove-zw\n",
        "#convert … to ... in reference file\n",
        "!sed -i \"s/\\xe2\\x80\\xa6/.../g\" data/text.fa.\"$MODEL_TYPE\".remove-zw"
      ],
      "execution_count": 53,
      "outputs": []
    },
    {
      "cell_type": "code",
      "metadata": {
        "id": "Bkh0LmyPfA59"
      },
      "source": [
        "getTokenizedInput(\"data/text.fa.\" + MODEL_TYPE + \".remove-zw\", \"data/text.fa.\" + MODEL_TYPE + \".remove-bpe\", \"data/text.fa.\" + MODEL_TYPE + \".tok\")\n",
        "getTokenizedInput(\"data/text.en\", \"data/text.en.\" + MODEL_TYPE + \".remove-bpe\", \"data/text.en.\" + MODEL_TYPE + \".tok\")\n",
        "\n",
        "convertToWordLevel(srcText + \".\" + MODEL_TYPE + \".tok\", trgText + \".\" + MODEL_TYPE + \".tok\", outFile + \".grow-diag-final-and.final-alignment\", \"#\", True)"
      ],
      "execution_count": 54,
      "outputs": []
    },
    {
      "cell_type": "code",
      "metadata": {
        "id": "Tp1-ov8rfOR5",
        "colab": {
          "base_uri": "https://localhost:8080/"
        },
        "outputId": "8c059508-a656-4c55-98b1-7e4a3b9a1168"
      },
      "source": [
        "!python aer.py --oneHyp --source \"$srcText\" --target \"$trgText\" data//gold.\"$SRC\"-\"$TRG\".aligned \"$outFile\".grow-diag-final-and.final-alignment.final-alignment"
      ],
      "execution_count": 55,
      "outputs": [
        {
          "output_type": "stream",
          "text": [
            "outputs/alignments.MBERT.grow-diag-final-and.final-alignment.final-alignment: 47.5% (53.9%/51.2%/24465)\n",
            "[((',', '،'), 76), (('the', 'در'), 49), (('to', 'به'), 45), (('of', 'از'), 37), (('i', 'و'), 36), (('the', 'از'), 33), (('the', 'به'), 26), (('was', 'بود'), 25), (('the', '،'), 25), (('and', 'و'), 24)]\n",
            "Internal Jumps: 1999, External Jumps: 5883\n",
            "Source Coverage: 85.5%, Target Coverage: 81.6%\n"
          ],
          "name": "stdout"
        }
      ]
    }
  ]
}